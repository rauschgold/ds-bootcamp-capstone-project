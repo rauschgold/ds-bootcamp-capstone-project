{
 "cells": [
  {
   "cell_type": "markdown",
   "metadata": {},
   "source": [
    "# Just to hide things"
   ]
  },
  {
   "cell_type": "code",
   "execution_count": null,
   "metadata": {},
   "outputs": [],
   "source": [
    "import pandas as pd\n",
    "import numpy as np"
   ]
  },
  {
   "cell_type": "markdown",
   "metadata": {},
   "source": [
    "# Further cleaning"
   ]
  },
  {
   "cell_type": "code",
   "execution_count": null,
   "metadata": {},
   "outputs": [],
   "source": [
    "allowed_values = ['Amber', 'Green', 'Red', 'Amber/red', 'Amber/Green']\n",
    "result['colour_rating_new'] = result['colour_rating_new'].apply(lambda x: x if x in allowed_values else np.nan)"
   ]
  },
  {
   "cell_type": "code",
   "execution_count": null,
   "metadata": {},
   "outputs": [],
   "source": [
    "result = result.rename(columns={'colour_rating_new': 'colour_rating'})"
   ]
  },
  {
   "cell_type": "code",
   "execution_count": null,
   "metadata": {},
   "outputs": [],
   "source": [
    "result['yearly_forecast_new'] = result['yearly_forecast'].combine_first(result['forecast_incl_NGC'])"
   ]
  },
  {
   "cell_type": "code",
   "execution_count": null,
   "metadata": {},
   "outputs": [],
   "source": [
    "result = result.drop(columns=['yearly_forecast', 'forecast_incl_NGC'])"
   ]
  },
  {
   "cell_type": "code",
   "execution_count": null,
   "metadata": {},
   "outputs": [],
   "source": [
    "result = result.rename(columns={'yearly_forecast_new': 'yearly_forecast'})"
   ]
  },
  {
   "cell_type": "code",
   "execution_count": null,
   "metadata": {},
   "outputs": [],
   "source": [
    "result = result.drop(columns=['yearly_budget'])"
   ]
  },
  {
   "cell_type": "code",
   "execution_count": null,
   "metadata": {},
   "outputs": [],
   "source": [
    "result = result.rename(columns={'total_baseline': 'yearly_budget'})\n",
    "result = result.rename(columns={'TOTAL Baseline Benefits (Łm)': 'total_benefits'})"
   ]
  },
  {
   "cell_type": "code",
   "execution_count": null,
   "metadata": {},
   "outputs": [],
   "source": [
    "column_order = ['project_name','department','colour_rating','description_aims','rating_comment','start_date','end_date','schedule_comment','yearly_budget','yearly_forecast','wlc_baseline_incl_NCG','variance_comment','budget_comment','year','report_category','project_number','total_benefits','benefits_comment']"
   ]
  },
  {
   "cell_type": "code",
   "execution_count": null,
   "metadata": {},
   "outputs": [],
   "source": [
    "result = result[column_order]"
   ]
  },
  {
   "cell_type": "code",
   "execution_count": null,
   "metadata": {},
   "outputs": [],
   "source": [
    "df_macro = pd.read_csv('../data/macro/GDP.csv',encoding='iso-8859-2', delimiter=';')"
   ]
  },
  {
   "cell_type": "code",
   "execution_count": null,
   "metadata": {},
   "outputs": [],
   "source": [
    "df_macro"
   ]
  },
  {
   "cell_type": "code",
   "execution_count": null,
   "metadata": {},
   "outputs": [],
   "source": [
    "df_macro.info()"
   ]
  },
  {
   "cell_type": "code",
   "execution_count": null,
   "metadata": {},
   "outputs": [],
   "source": [
    "# Schritt 1: Identifizieren der relevanten Zeilen\n",
    "remained_scheduled_df = df_franzi[df_franzi['schedule_comment'].str.contains('remained scheduled', case=False)]\n",
    "\n",
    "# Schritt 2: Aktuellsten 'end_date'-Wert für jedes 'project_name' ermitteln\n",
    "latest_end_dates = df_franzi.groupby('project_name').apply(lambda x: x.loc[x['year'].idxmax(), 'end_date'])\n",
    "\n",
    "# Schritt 3: Zuweisen des aktuellsten 'end_date' an die relevanten Zeilen\n",
    "for index, row in remained_scheduled_df.iterrows():\n",
    "    latest_end_date = latest_end_dates[row['project_name']]\n",
    "    if pd.isna(row['end_date']) and pd.notna(latest_end_date):\n",
    "        df_franzi.at[index, 'end_date'] = latest_end_date\n",
    "\n",
    "# Ergebnis anzeigen\n",
    "df_franzi\n"
   ]
  },
  {
   "cell_type": "code",
   "execution_count": null,
   "metadata": {},
   "outputs": [],
   "source": [
    "# Schritt 2: Aktuellsten 'end_date'-Wert für jedes 'project_name' ermitteln\n",
    "latest_end_dates = df_franzi.groupby('project_name').apply(lambda x: x.loc[x['year'].idxmax(), 'start_date'])\n",
    "\n",
    "# Schritt 3: Zuweisen des aktuellsten 'end_date' an die relevanten Zeilen\n",
    "for index, row in remained_scheduled_df.iterrows():\n",
    "    latest_end_date = latest_end_dates[row['project_name']]\n",
    "    if pd.isna(row['start_date']) and pd.notna(latest_end_date):\n",
    "        df_franzi.at[index, 'start_date'] = latest_end_date\n",
    "\n",
    "# Ergebnis anzeigen\n",
    "df_franzi"
   ]
  },
  {
   "cell_type": "code",
   "execution_count": null,
   "metadata": {},
   "outputs": [],
   "source": [
    "    month_mapping = {\n",
    "        'jan': '01', 'january': '01',\n",
    "        'feb': '02', 'february': '02',\n",
    "        'mar': '03', 'march': '03',\n",
    "        'apr': '04', 'april': '04',\n",
    "        'may': '05', 'may': '05',\n",
    "        'jun': '06', 'june': '06',\n",
    "        'jul': '07', 'july': '07',\n",
    "        'aug': '08', 'august': '08',\n",
    "        'sep': '09', 'september': '09',\n",
    "        'oct': '10', 'october': '10',\n",
    "        'nov': '11', 'november': '11',\n",
    "        'dec': '12', 'december': '12'\n",
    "    }\n",
    "\n"
   ]
  },
  {
   "cell_type": "code",
   "execution_count": null,
   "metadata": {},
   "outputs": [],
   "source": [
    "def extract_date_after_to_or_on(comment):\n",
    "    REGEX = \"(to|is|on)\\s*(\\d{1,2})\\s+(\\w+)\\s+(\\d{2,4})\"\n",
    "    x = re.compile(REGEX)\n",
    "    \n",
    "    match_REGEX = x.search(comment)      \n",
    "    \n",
    "    if match_REGEX:\n",
    "        day = match_REGEX.group(2)\n",
    "        month = match_REGEX.group(3)\n",
    "        year = match_REGEX.group(4)\n",
    "        if len(day) == 1:\n",
    "            day = '0'+ day\n",
    "        month = month_mapping.get(month.lower())\n",
    "        if len(year) == 2:\n",
    "            year = '20' + year\n",
    "        return year +'-'+ month +'-'+ day\n",
    "    \n",
    "for index, row in df_franzi.iterrows():\n",
    "    if pd.isna(row['end_date']):\n",
    "        extracted_date = extract_date_after_to_or_on(row['schedule_comment'])\n",
    "        if extracted_date:\n",
    "            df_franzi.at[index, 'end_date'] = extracted_date\n",
    "\n",
    "df_franzi\n",
    "\n"
   ]
  },
  {
   "cell_type": "code",
   "execution_count": null,
   "metadata": {},
   "outputs": [],
   "source": [
    "# Der Code zum Filtern von Zeilen, in denen 'start_date' oder 'end_date' 'NaN' ist\n",
    "# und die 'schedule_comment' nicht mit 'Exempt' oder '\\r\\nExempt' beginnen\n",
    "\n",
    "nan_dates_df = df_franzi[\n",
    "    ((df_franzi['end_date'].isna())) & \n",
    "    (~df_franzi['schedule_comment'].str.match(r'^(Exempt|\\r\\nExempt)'))\n",
    "][['start_date', 'end_date', 'schedule_comment']]\n",
    "\n",
    "# Ausgabe des gefilterten DataFrames\n",
    "nan_dates_df"
   ]
  },
  {
   "cell_type": "code",
   "execution_count": null,
   "metadata": {},
   "outputs": [],
   "source": [
    "# Der Code zum Filtern von Zeilen, in denen 'start_date' oder 'end_date' 'NaN' ist\n",
    "# und die 'schedule_comment' nicht mit 'Exempt' oder '\\r\\nExempt' beginnen\n",
    "\n",
    "nan_dates_df_start = df_franzi[\n",
    "    ((df_franzi['start_date'].isna())) & \n",
    "    (~df_franzi['schedule_comment'].str.match(r'^(Exempt|\\r\\nExempt)'))\n",
    "][['start_date', 'schedule_comment']]\n",
    "\n",
    "# Ausgabe des gefilterten DataFrames\n",
    "nan_dates_df_start"
   ]
  },
  {
   "cell_type": "code",
   "execution_count": null,
   "metadata": {},
   "outputs": [],
   "source": [
    "df1 = pd.read_pickle(\"../data/pickle/cleaned_2021_2023.pkl\")\n",
    "df2 = pd.read_pickle('../data/pickle/cleaned_2018_2020.pkl')\n",
    "df3 = pd.read_pickle('../data/pickle/cleaned_2014-2017.pkl')\n",
    "df4 = pd.read_csv('../data/macro/GDP.csv',encoding='iso-8859-2', delimiter=';')"
   ]
  },
  {
   "cell_type": "code",
   "execution_count": null,
   "metadata": {},
   "outputs": [],
   "source": [
    "df = pd.concat([df1, df2, df3], axis=0, ignore_index=True)"
   ]
  },
  {
   "cell_type": "code",
   "execution_count": null,
   "metadata": {},
   "outputs": [],
   "source": [
    "df = df.merge(df4, on='year', how='left')"
   ]
  },
  {
   "cell_type": "code",
   "execution_count": null,
   "metadata": {},
   "outputs": [],
   "source": [
    "df.drop(columns='Unnamed: 0')"
   ]
  },
  {
   "cell_type": "code",
   "execution_count": null,
   "metadata": {},
   "outputs": [],
   "source": [
    "df[\"colour_rating\"] = df[\"colour_rating\"].str.lower()\n",
    "\n",
    "# Drop rows where 'project_name' contains 'Unnamed:' followed by other characters\n",
    "df = df[~df['project_name'].str.contains(r'Unnamed:.*', na=False)]\n",
    "\n",
    "# Optionally, reset the index of the cleaned DataFrame\n",
    "df = df.reset_index(drop=True)"
   ]
  },
  {
   "cell_type": "markdown",
   "metadata": {},
   "source": [
    "## Imputing"
   ]
  },
  {
   "cell_type": "code",
   "execution_count": null,
   "metadata": {},
   "outputs": [],
   "source": [
    "latest_start_dates = df.groupby('project_name').apply(lambda x: x.loc[x['year'].idxmax(), 'start_date'])"
   ]
  },
  {
   "cell_type": "code",
   "execution_count": null,
   "metadata": {},
   "outputs": [],
   "source": [
    "for index, row in df.iterrows():\n",
    "    latest_start_date = latest_start_dates[row['project_name']]\n",
    "    if pd.isna(row['start_date']) and pd.notna(latest_start_date):\n",
    "        df.at[index, 'start_date'] = latest_start_date"
   ]
  },
  {
   "cell_type": "code",
   "execution_count": null,
   "metadata": {},
   "outputs": [],
   "source": [
    "latest_benefits = df.groupby('project_name').apply(lambda x: x.loc[x['year'].idxmax(), 'total_benefits'])\n",
    "\n",
    "for index, row in df.iterrows():\n",
    "    latest_benefit = latest_benefits[row['project_name']]\n",
    "    if pd.isna(row['total_benefits']) and pd.notna(latest_benefit):\n",
    "        df.at[index, 'total_benefits'] = latest_benefit"
   ]
  },
  {
   "cell_type": "code",
   "execution_count": null,
   "metadata": {},
   "outputs": [],
   "source": [
    "latest_categories = df.groupby('project_name').apply(lambda x: x.loc[x['year'].idxmax(), 'report_category'])\n",
    "\n",
    "for index, row in df.iterrows():\n",
    "    latest_category = latest_categories[row['project_name']]\n",
    "    if pd.isna(row['report_category']) and pd.notna(latest_category):\n",
    "        df.at[index, 'report_category'] = latest_category"
   ]
  },
  {
   "cell_type": "code",
   "execution_count": null,
   "metadata": {},
   "outputs": [],
   "source": [
    "latest_numbers = df.groupby('project_name').apply(lambda x: x.loc[x['year'].idxmax(), 'project_number'])\n",
    "\n",
    "for index, row in df.iterrows():\n",
    "    latest_number = latest_numbers[row['project_name']]\n",
    "    if pd.isna(row['project_number']) and pd.notna(latest_number):\n",
    "        df.at[index, 'project_number'] = latest_number"
   ]
  },
  {
   "cell_type": "code",
   "execution_count": null,
   "metadata": {},
   "outputs": [],
   "source": [
    "df['description_aims'].unique().tolist()"
   ]
  },
  {
   "cell_type": "code",
   "execution_count": null,
   "metadata": {},
   "outputs": [],
   "source": [
    "df_with_dummies = pd.get_dummies(df, columns=['department', 'colour_rating'], drop_first=True)\n"
   ]
  },
  {
   "cell_type": "code",
   "execution_count": null,
   "metadata": {},
   "outputs": [],
   "source": [
    "df[\"start_date\"] = pd.to_datetime(df[\"start_date\"])\n",
    "df[\"end_date\"] = pd.to_datetime(df[\"end_date\"])\n",
    "# Calculate the duration in years\n",
    "df[\"year_duration\"] = (df[\"end_date\"] - df[\"start_date\"]).dt.days / 365.25\n",
    "\n",
    "# Optionally, round the duration to a specific number of decimal places\n",
    "df[\"year_duration\"] = df[\"year_duration\"].round(2)"
   ]
  },
  {
   "cell_type": "code",
   "execution_count": null,
   "metadata": {},
   "outputs": [],
   "source": [
    "df['start_year'] = df['start_date'].dt.year\n",
    "df['end_year'] = df['end_date'].dt.year"
   ]
  },
  {
   "cell_type": "markdown",
   "metadata": {},
   "source": [
    "## Add macro data"
   ]
  },
  {
   "cell_type": "code",
   "execution_count": null,
   "metadata": {},
   "outputs": [],
   "source": [
    "macro_columns = pd.read_csv('../data/macro/GDP.csv', encoding='iso-8859-2', delimiter=';')"
   ]
  },
  {
   "cell_type": "code",
   "execution_count": null,
   "metadata": {},
   "outputs": [],
   "source": [
    "df = df.drop(columns=['GDP', 'annual_earning_ft', 'unemployment_rate', 'youth_unemployment_rate', 'inflation_rate', 'population', 'gov_debt', 'tax_revenue', 'revenue_excl_grants', 'grants_and_other_revenue'])"
   ]
  },
  {
   "cell_type": "code",
   "execution_count": null,
   "metadata": {},
   "outputs": [],
   "source": [
    "df = df.merge(macro_columns, on='year', how='left')"
   ]
  },
  {
   "cell_type": "markdown",
   "metadata": {},
   "source": [
    "## Final Pickle"
   ]
  },
  {
   "cell_type": "code",
   "execution_count": null,
   "metadata": {},
   "outputs": [],
   "source": [
    "df = pd.read_pickle('../data/pickle/final_pickle.pkl')"
   ]
  },
  {
   "cell_type": "markdown",
   "metadata": {},
   "source": [
    "## Preprocessing"
   ]
  },
  {
   "cell_type": "code",
   "execution_count": null,
   "metadata": {},
   "outputs": [],
   "source": [
    "df = df.drop(columns=['description_aims', 'rating_comment', 'start_date',\n",
    "       'end_date', 'schedule_comment', 'yearly_budget', 'yearly_forecast', 'variance_comment', 'budget_comment',\n",
    "       'report_category', 'project_number', 'total_benefits',\n",
    "       'benefits_comment', 'population', 'revenue_excl_grants', 'grants_and_other_revenue'])"
   ]
  },
  {
   "cell_type": "code",
   "execution_count": null,
   "metadata": {},
   "outputs": [],
   "source": [
    "df['year'].unique()"
   ]
  },
  {
   "cell_type": "code",
   "execution_count": null,
   "metadata": {},
   "outputs": [],
   "source": [
    "df['year'] = df['year'].astype(int)"
   ]
  },
  {
   "cell_type": "code",
   "execution_count": null,
   "metadata": {},
   "outputs": [],
   "source": [
    "df = df.dropna(subset=['year'])"
   ]
  },
  {
   "cell_type": "code",
   "execution_count": null,
   "metadata": {},
   "outputs": [],
   "source": [
    "df = pd.read_pickle('../data/pickle/final_wo_errors.pkl')"
   ]
  },
  {
   "cell_type": "markdown",
   "metadata": {},
   "source": [
    "# Start from here"
   ]
  },
  {
   "cell_type": "code",
   "execution_count": 1,
   "metadata": {},
   "outputs": [],
   "source": [
    "import pandas as pd\n",
    "import numpy as np"
   ]
  },
  {
   "cell_type": "code",
   "execution_count": 2,
   "metadata": {},
   "outputs": [],
   "source": [
    "df = pd.read_pickle('../data/pickle/data_with_topics.pkl')"
   ]
  },
  {
   "cell_type": "markdown",
   "metadata": {},
   "source": [
    "### Grouping"
   ]
  },
  {
   "cell_type": "code",
   "execution_count": null,
   "metadata": {},
   "outputs": [],
   "source": [
    "# colour_rating_columns = [col for col in df.columns if col.startswith('colour_rating_')]\n",
    "# department_columns = [col for col in df.columns if col.startswith('department_')]\n",
    "\n",
    "# def latest_value(df, column):\n",
    "#     try:\n",
    "#         return df.loc[df['year'].idxmax(), column]\n",
    "#     except Exception as e:\n",
    "#         print(f\"Error in Group {df.name} for column {column}: {e}\")\n",
    "#         return None\n",
    "\n",
    "# agg_dict = {\n",
    "#     'wlc_baseline_incl_NCG': 'max',\n",
    "#     'year_duration': 'max',\n",
    "#     'end_year': 'max',\n",
    "#     'start_year': 'min',\n",
    "#     'GDP': 'mean',\n",
    "#     'year': 'max',\n",
    "#     'annual_earning_ft': 'mean',\n",
    "#     'unemployment_rate': 'mean',\n",
    "#     'youth_unemployment_rate': 'mean',\n",
    "#     'inflation_rate': 'mean',\n",
    "#     'gov_debt': 'mean',\n",
    "#     'tax_revenue': 'mean',\n",
    "#     'department_CO': lambda x: x.mode()[0],\n",
    "#     'department_CPS': lambda x: x.mode()[0],\n",
    "#     'department_DBT': lambda x: x.mode()[0],\n",
    "#     'department_DCMS': lambda x: x.mode()[0],\n",
    "#     'department_DEFRA': lambda x: x.mode()[0],\n",
    "#     'department_DEFRA & DFT': lambda x: x.mode()[0],\n",
    "#     'department_DESNZ': lambda x: x.mode()[0],\n",
    "#     'department_DFE': lambda x: x.mode()[0],\n",
    "#     'department_DFID': lambda x: x.mode()[0],\n",
    "#     'department_DFT': lambda x: x.mode()[0],\n",
    "#     'department_DHSC': lambda x: x.mode()[0],\n",
    "#     'department_DLUHC': lambda x: x.mode()[0],\n",
    "#     'department_DSIT': lambda x: x.mode()[0],\n",
    "#     'department_DWP': lambda x: x.mode()[0],\n",
    "#     'department_FCDO': lambda x: x.mode()[0],\n",
    "#     'department_HMLR': lambda x: x.mode()[0],\n",
    "#     'department_HMRC': lambda x: x.mode()[0],\n",
    "#     'department_HMT': lambda x: x.mode()[0],\n",
    "#     'department_HO': lambda x: x.mode()[0],\n",
    "#     'department_MOD': lambda x: x.mode()[0],\n",
    "#     'department_MOJ': lambda x: x.mode()[0],\n",
    "#     'department_NCA': lambda x: x.mode()[0],\n",
    "#     'department_NS&I': lambda x: x.mode()[0],\n",
    "#     'department_ONS': lambda x: x.mode()[0],\n",
    "#     'department_VOA': lambda x: x.mode()[0],\n",
    "#     'colour_rating_amber/green': lambda x: x.mode()[0],\n",
    "#     'colour_rating_amber/red': lambda x: x.mode()[0],\n",
    "#     'colour_rating_green': lambda x: x.mode()[0],\n",
    "#     'colour_rating_red': lambda x: x.mode()[0],\n",
    "#     'colour_rating_reset': lambda x: x.mode()[0],\n",
    "#     'topic': 'mean'\n",
    "# }\n",
    "\n",
    "# for col in colour_rating_columns:\n",
    "#     agg_dict[col] = lambda x, col=col: latest_value(x, col)\n",
    "\n",
    "# for col in department_columns:\n",
    "#     agg_dict[col] = lambda x, col=col: latest_value(x, col)\n",
    "\n",
    "# df = df.groupby('project_name').agg(agg_dict)\n"
   ]
  },
  {
   "cell_type": "markdown",
   "metadata": {},
   "source": [
    "### Dropping & further modeling when not grouped"
   ]
  },
  {
   "cell_type": "code",
   "execution_count": null,
   "metadata": {},
   "outputs": [],
   "source": [
    "# df[df.select_dtypes(['object']).columns] = df.select_dtypes(['object']).astype(bool)"
   ]
  },
  {
   "cell_type": "code",
   "execution_count": 3,
   "metadata": {},
   "outputs": [],
   "source": [
    "df = df.drop(columns=['project_name', 'description_aims', 'rating_comment', 'start_date', 'end_date', 'schedule_comment', 'variance_comment', 'budget_comment', 'year', 'yearly_budget', 'yearly_forecast', 'report_category', 'project_number', 'total_benefits', 'benefits_comment', 'end_year', 'youth_unemployment_rate', 'population', 'revenue_excl_grants', 'grants_and_other_revenue'])"
   ]
  },
  {
   "cell_type": "code",
   "execution_count": 4,
   "metadata": {},
   "outputs": [
    {
     "data": {
      "text/plain": [
       "['wlc_baseline_incl_NCG',\n",
       " 'department_CO',\n",
       " 'department_CPS',\n",
       " 'department_DBT',\n",
       " 'department_DCMS',\n",
       " 'department_DEFRA',\n",
       " 'department_DEFRA & DFT',\n",
       " 'department_DESNZ',\n",
       " 'department_DFE',\n",
       " 'department_DFID',\n",
       " 'department_DFT',\n",
       " 'department_DHSC',\n",
       " 'department_DLUHC',\n",
       " 'department_DSIT',\n",
       " 'department_DWP',\n",
       " 'department_FCDO',\n",
       " 'department_HMLR',\n",
       " 'department_HMRC',\n",
       " 'department_HMT',\n",
       " 'department_HO',\n",
       " 'department_MOD',\n",
       " 'department_MOJ',\n",
       " 'department_NCA',\n",
       " 'department_NS&I',\n",
       " 'department_ONS',\n",
       " 'department_VOA',\n",
       " 'colour_rating_amber/green',\n",
       " 'colour_rating_amber/red',\n",
       " 'colour_rating_green',\n",
       " 'colour_rating_red',\n",
       " 'colour_rating_reset',\n",
       " 'year_duration',\n",
       " 'start_year',\n",
       " 'GDP',\n",
       " 'annual_earning_ft',\n",
       " 'unemployment_rate',\n",
       " 'inflation_rate',\n",
       " 'gov_debt',\n",
       " 'tax_revenue',\n",
       " 'dominant_topic',\n",
       " 'perc_contribution',\n",
       " 'topic_keywords']"
      ]
     },
     "execution_count": 4,
     "metadata": {},
     "output_type": "execute_result"
    }
   ],
   "source": [
    "df.columns.tolist()"
   ]
  },
  {
   "cell_type": "code",
   "execution_count": 6,
   "metadata": {},
   "outputs": [],
   "source": [
    "df = df.drop(columns=['topic_keywords', 'perc_contribution'])"
   ]
  },
  {
   "cell_type": "markdown",
   "metadata": {},
   "source": [
    "### Dropping & further modeling when grouped"
   ]
  },
  {
   "cell_type": "code",
   "execution_count": null,
   "metadata": {},
   "outputs": [],
   "source": [
    "# df.columns.to_list()"
   ]
  },
  {
   "cell_type": "code",
   "execution_count": null,
   "metadata": {},
   "outputs": [],
   "source": [
    "# df = df.drop(columns=['end_year','start_year','GDP','year','annual_earning_ft','unemployment_rate','youth_unemployment_rate','inflation_rate','gov_debt','tax_revenue','colour_rating_amber/green','colour_rating_amber/red','colour_rating_green','colour_rating_red','colour_rating_reset','topic'])"
   ]
  },
  {
   "cell_type": "code",
   "execution_count": null,
   "metadata": {},
   "outputs": [],
   "source": [
    "# df.columns.to_list()"
   ]
  },
  {
   "cell_type": "code",
   "execution_count": null,
   "metadata": {},
   "outputs": [],
   "source": [
    "# df[df.select_dtypes(['object']).columns] = df.select_dtypes(['object']).astype(bool)"
   ]
  },
  {
   "cell_type": "markdown",
   "metadata": {},
   "source": [
    "## Modeling"
   ]
  },
  {
   "cell_type": "code",
   "execution_count": 8,
   "metadata": {},
   "outputs": [
    {
     "name": "stdout",
     "output_type": "stream",
     "text": [
      "Mean Squared Error: 21931170.0237486\n",
      "Root Mean Squared Error: 4683.072711772538\n",
      "                      Feature   Coefficient\n",
      "0               department_CO -6.251766e+02\n",
      "1              department_CPS  3.326867e+02\n",
      "2              department_DBT  2.226390e+02\n",
      "3             department_DCMS -9.613075e+02\n",
      "4            department_DEFRA -6.633998e+02\n",
      "5      department_DEFRA & DFT  1.495698e-08\n",
      "6            department_DESNZ  3.765083e+03\n",
      "7              department_DFE -4.495911e+01\n",
      "8             department_DFID -4.763815e+03\n",
      "9              department_DFT  3.077669e+03\n",
      "10            department_DHSC -5.443645e+02\n",
      "11           department_DLUHC  8.041334e+01\n",
      "12            department_DSIT -3.842118e+02\n",
      "13             department_DWP  1.474477e+03\n",
      "14            department_FCDO -5.739528e+02\n",
      "15            department_HMLR -1.876342e+03\n",
      "16            department_HMRC  2.104285e+02\n",
      "17             department_HMT -1.414192e+02\n",
      "18              department_HO  9.717095e+01\n",
      "19             department_MOD -9.599961e+02\n",
      "20             department_MOJ  2.445599e+02\n",
      "21             department_NCA  6.886104e+02\n",
      "22            department_NS&I -2.339169e+02\n",
      "23             department_ONS -1.057264e+03\n",
      "24             department_VOA -9.789221e+02\n",
      "25  colour_rating_amber/green -5.132566e+02\n",
      "26    colour_rating_amber/red  3.019587e+02\n",
      "27        colour_rating_green -6.268951e+02\n",
      "28          colour_rating_red  6.843295e+02\n",
      "29        colour_rating_reset  1.214228e+03\n",
      "30              year_duration  2.651289e+02\n",
      "31                 start_year -5.531146e+01\n",
      "32                        GDP  3.800262e-02\n",
      "33          annual_earning_ft  2.115540e+00\n",
      "34          unemployment_rate  1.671163e+05\n",
      "35             inflation_rate  2.004773e+04\n",
      "36                   gov_debt -1.829031e-05\n",
      "37                tax_revenue -8.269368e-03\n",
      "38             dominant_topic  5.551788e+01\n"
     ]
    }
   ],
   "source": [
    "from sklearn.model_selection import train_test_split, GridSearchCV, RandomizedSearchCV\n",
    "from sklearn.linear_model import LinearRegression\n",
    "from sklearn.metrics import mean_squared_error\n",
    "\n",
    "df_lr = df.dropna()\n",
    "\n",
    "X = df_lr.drop(columns=['wlc_baseline_incl_NCG'])\n",
    "y = df_lr['wlc_baseline_incl_NCG']\n",
    "\n",
    "X_train, X_test, y_train, y_test = train_test_split(X, y, test_size=0.2, random_state=42)\n",
    "\n",
    "model = LinearRegression()\n",
    "model.fit(X_train, y_train)\n",
    "\n",
    "y_pred = model.predict(X_test)\n",
    "\n",
    "mse = mean_squared_error(y_test, y_pred)\n",
    "print(f'Mean Squared Error: {mse}')\n",
    "\n",
    "rmse = np.sqrt(mse)\n",
    "print(f'Root Mean Squared Error: {rmse}')\n",
    "\n",
    "coefficients = pd.DataFrame({'Feature': X.columns, 'Coefficient': model.coef_})\n",
    "print(coefficients)\n"
   ]
  },
  {
   "cell_type": "code",
   "execution_count": 10,
   "metadata": {},
   "outputs": [],
   "source": [
    "import pickle\n",
    "from sklearn.preprocessing import RobustScaler\n",
    "\n",
    "numerical_features = df.select_dtypes(include=['float64', 'int64']).columns\n",
    "\n",
    "scaler = RobustScaler()\n",
    "\n",
    "df[numerical_features] = scaler.fit_transform(df[numerical_features])\n",
    "\n",
    "with open('robust_scaler.pkl', 'wb') as file:\n",
    "    pickle.dump(scaler, file)"
   ]
  },
  {
   "cell_type": "code",
   "execution_count": 11,
   "metadata": {},
   "outputs": [
    {
     "name": "stdout",
     "output_type": "stream",
     "text": [
      "Fitting 5 folds for each of 108 candidates, totalling 540 fits\n"
     ]
    },
    {
     "ename": "ValueError",
     "evalue": "\nAll the 540 fits failed.\nIt is very likely that your model is misconfigured.\nYou can try to debug the error by setting error_score='raise'.\n\nBelow are more details about the failures:\n--------------------------------------------------------------------------------\n24 fits failed with the following error:\nTraceback (most recent call last):\n  File \"c:\\NeueFische\\ds-bootcamp-capstone-project\\.venv\\Lib\\site-packages\\sklearn\\model_selection\\_validation.py\", line 686, in _fit_and_score\n    estimator.fit(X_train, y_train, **fit_params)\n  File \"c:\\NeueFische\\ds-bootcamp-capstone-project\\.venv\\Lib\\site-packages\\xgboost\\core.py\", line 726, in inner_f\n    return func(**kwargs)\n           ^^^^^^^^^^^^^^\n  File \"c:\\NeueFische\\ds-bootcamp-capstone-project\\.venv\\Lib\\site-packages\\xgboost\\sklearn.py\", line 1081, in fit\n    train_dmatrix, evals = _wrap_evaluation_matrices(\n                           ^^^^^^^^^^^^^^^^^^^^^^^^^^\n  File \"c:\\NeueFische\\ds-bootcamp-capstone-project\\.venv\\Lib\\site-packages\\xgboost\\sklearn.py\", line 596, in _wrap_evaluation_matrices\n    train_dmatrix = create_dmatrix(\n                    ^^^^^^^^^^^^^^^\n  File \"c:\\NeueFische\\ds-bootcamp-capstone-project\\.venv\\Lib\\site-packages\\xgboost\\sklearn.py\", line 1003, in _create_dmatrix\n    return QuantileDMatrix(\n           ^^^^^^^^^^^^^^^^\n  File \"c:\\NeueFische\\ds-bootcamp-capstone-project\\.venv\\Lib\\site-packages\\xgboost\\core.py\", line 726, in inner_f\n    return func(**kwargs)\n           ^^^^^^^^^^^^^^\n  File \"c:\\NeueFische\\ds-bootcamp-capstone-project\\.venv\\Lib\\site-packages\\xgboost\\core.py\", line 1573, in __init__\n    self._init(\n  File \"c:\\NeueFische\\ds-bootcamp-capstone-project\\.venv\\Lib\\site-packages\\xgboost\\core.py\", line 1632, in _init\n    it.reraise()\n  File \"c:\\NeueFische\\ds-bootcamp-capstone-project\\.venv\\Lib\\site-packages\\xgboost\\core.py\", line 569, in reraise\n    raise exc  # pylint: disable=raising-bad-type\n    ^^^^^^^^^\n  File \"c:\\NeueFische\\ds-bootcamp-capstone-project\\.venv\\Lib\\site-packages\\xgboost\\core.py\", line 550, in _handle_exception\n    return fn()\n           ^^^^\n  File \"c:\\NeueFische\\ds-bootcamp-capstone-project\\.venv\\Lib\\site-packages\\xgboost\\core.py\", line 637, in <lambda>\n    return self._handle_exception(lambda: self.next(input_data), 0)\n                                          ^^^^^^^^^^^^^^^^^^^^^\n  File \"c:\\NeueFische\\ds-bootcamp-capstone-project\\.venv\\Lib\\site-packages\\xgboost\\data.py\", line 1416, in next\n    input_data(**self.kwargs)\n  File \"c:\\NeueFische\\ds-bootcamp-capstone-project\\.venv\\Lib\\site-packages\\xgboost\\core.py\", line 726, in inner_f\n    return func(**kwargs)\n           ^^^^^^^^^^^^^^\n  File \"c:\\NeueFische\\ds-bootcamp-capstone-project\\.venv\\Lib\\site-packages\\xgboost\\core.py\", line 626, in input_data\n    self.proxy.set_info(\n  File \"c:\\NeueFische\\ds-bootcamp-capstone-project\\.venv\\Lib\\site-packages\\xgboost\\core.py\", line 726, in inner_f\n    return func(**kwargs)\n           ^^^^^^^^^^^^^^\n  File \"c:\\NeueFische\\ds-bootcamp-capstone-project\\.venv\\Lib\\site-packages\\xgboost\\core.py\", line 954, in set_info\n    self.set_label(label)\n  File \"c:\\NeueFische\\ds-bootcamp-capstone-project\\.venv\\Lib\\site-packages\\xgboost\\core.py\", line 1092, in set_label\n    dispatch_meta_backend(self, label, \"label\", \"float\")\n  File \"c:\\NeueFische\\ds-bootcamp-capstone-project\\.venv\\Lib\\site-packages\\xgboost\\data.py\", line 1362, in dispatch_meta_backend\n    _meta_from_pandas_series(data, name, dtype, handle)\n  File \"c:\\NeueFische\\ds-bootcamp-capstone-project\\.venv\\Lib\\site-packages\\xgboost\\data.py\", line 679, in _meta_from_pandas_series\n    _meta_from_numpy(data, name, dtype, handle)\n  File \"c:\\NeueFische\\ds-bootcamp-capstone-project\\.venv\\Lib\\site-packages\\xgboost\\data.py\", line 1295, in _meta_from_numpy\n    _check_call(_LIB.XGDMatrixSetInfoFromInterface(handle, c_str(field), interface_str))\n  File \"c:\\NeueFische\\ds-bootcamp-capstone-project\\.venv\\Lib\\site-packages\\xgboost\\core.py\", line 284, in _check_call\n    raise XGBoostError(py_str(_LIB.XGBGetLastError()))\nxgboost.core.XGBoostError: [16:35:54] C:\\buildkite-agent\\builds\\buildkite-windows-cpu-autoscaling-group-i-0015a694724fa8361-1\\xgboost\\xgboost-ci-windows\\src\\data\\data.cc:514: Check failed: valid: Label contains NaN, infinity or a value too large.\n\n--------------------------------------------------------------------------------\n75 fits failed with the following error:\nTraceback (most recent call last):\n  File \"c:\\NeueFische\\ds-bootcamp-capstone-project\\.venv\\Lib\\site-packages\\sklearn\\model_selection\\_validation.py\", line 686, in _fit_and_score\n    estimator.fit(X_train, y_train, **fit_params)\n  File \"c:\\NeueFische\\ds-bootcamp-capstone-project\\.venv\\Lib\\site-packages\\xgboost\\core.py\", line 726, in inner_f\n    return func(**kwargs)\n           ^^^^^^^^^^^^^^\n  File \"c:\\NeueFische\\ds-bootcamp-capstone-project\\.venv\\Lib\\site-packages\\xgboost\\sklearn.py\", line 1081, in fit\n    train_dmatrix, evals = _wrap_evaluation_matrices(\n                           ^^^^^^^^^^^^^^^^^^^^^^^^^^\n  File \"c:\\NeueFische\\ds-bootcamp-capstone-project\\.venv\\Lib\\site-packages\\xgboost\\sklearn.py\", line 596, in _wrap_evaluation_matrices\n    train_dmatrix = create_dmatrix(\n                    ^^^^^^^^^^^^^^^\n  File \"c:\\NeueFische\\ds-bootcamp-capstone-project\\.venv\\Lib\\site-packages\\xgboost\\sklearn.py\", line 1003, in _create_dmatrix\n    return QuantileDMatrix(\n           ^^^^^^^^^^^^^^^^\n  File \"c:\\NeueFische\\ds-bootcamp-capstone-project\\.venv\\Lib\\site-packages\\xgboost\\core.py\", line 726, in inner_f\n    return func(**kwargs)\n           ^^^^^^^^^^^^^^\n  File \"c:\\NeueFische\\ds-bootcamp-capstone-project\\.venv\\Lib\\site-packages\\xgboost\\core.py\", line 1573, in __init__\n    self._init(\n  File \"c:\\NeueFische\\ds-bootcamp-capstone-project\\.venv\\Lib\\site-packages\\xgboost\\core.py\", line 1632, in _init\n    it.reraise()\n  File \"c:\\NeueFische\\ds-bootcamp-capstone-project\\.venv\\Lib\\site-packages\\xgboost\\core.py\", line 569, in reraise\n    raise exc  # pylint: disable=raising-bad-type\n    ^^^^^^^^^\n  File \"c:\\NeueFische\\ds-bootcamp-capstone-project\\.venv\\Lib\\site-packages\\xgboost\\core.py\", line 550, in _handle_exception\n    return fn()\n           ^^^^\n  File \"c:\\NeueFische\\ds-bootcamp-capstone-project\\.venv\\Lib\\site-packages\\xgboost\\core.py\", line 637, in <lambda>\n    return self._handle_exception(lambda: self.next(input_data), 0)\n                                          ^^^^^^^^^^^^^^^^^^^^^\n  File \"c:\\NeueFische\\ds-bootcamp-capstone-project\\.venv\\Lib\\site-packages\\xgboost\\data.py\", line 1416, in next\n    input_data(**self.kwargs)\n  File \"c:\\NeueFische\\ds-bootcamp-capstone-project\\.venv\\Lib\\site-packages\\xgboost\\core.py\", line 726, in inner_f\n    return func(**kwargs)\n           ^^^^^^^^^^^^^^\n  File \"c:\\NeueFische\\ds-bootcamp-capstone-project\\.venv\\Lib\\site-packages\\xgboost\\core.py\", line 626, in input_data\n    self.proxy.set_info(\n  File \"c:\\NeueFische\\ds-bootcamp-capstone-project\\.venv\\Lib\\site-packages\\xgboost\\core.py\", line 726, in inner_f\n    return func(**kwargs)\n           ^^^^^^^^^^^^^^\n  File \"c:\\NeueFische\\ds-bootcamp-capstone-project\\.venv\\Lib\\site-packages\\xgboost\\core.py\", line 954, in set_info\n    self.set_label(label)\n  File \"c:\\NeueFische\\ds-bootcamp-capstone-project\\.venv\\Lib\\site-packages\\xgboost\\core.py\", line 1092, in set_label\n    dispatch_meta_backend(self, label, \"label\", \"float\")\n  File \"c:\\NeueFische\\ds-bootcamp-capstone-project\\.venv\\Lib\\site-packages\\xgboost\\data.py\", line 1362, in dispatch_meta_backend\n    _meta_from_pandas_series(data, name, dtype, handle)\n  File \"c:\\NeueFische\\ds-bootcamp-capstone-project\\.venv\\Lib\\site-packages\\xgboost\\data.py\", line 679, in _meta_from_pandas_series\n    _meta_from_numpy(data, name, dtype, handle)\n  File \"c:\\NeueFische\\ds-bootcamp-capstone-project\\.venv\\Lib\\site-packages\\xgboost\\data.py\", line 1295, in _meta_from_numpy\n    _check_call(_LIB.XGDMatrixSetInfoFromInterface(handle, c_str(field), interface_str))\n  File \"c:\\NeueFische\\ds-bootcamp-capstone-project\\.venv\\Lib\\site-packages\\xgboost\\core.py\", line 284, in _check_call\n    raise XGBoostError(py_str(_LIB.XGBGetLastError()))\nxgboost.core.XGBoostError: [16:35:55] C:\\buildkite-agent\\builds\\buildkite-windows-cpu-autoscaling-group-i-0015a694724fa8361-1\\xgboost\\xgboost-ci-windows\\src\\data\\data.cc:514: Check failed: valid: Label contains NaN, infinity or a value too large.\n\n--------------------------------------------------------------------------------\n90 fits failed with the following error:\nTraceback (most recent call last):\n  File \"c:\\NeueFische\\ds-bootcamp-capstone-project\\.venv\\Lib\\site-packages\\sklearn\\model_selection\\_validation.py\", line 686, in _fit_and_score\n    estimator.fit(X_train, y_train, **fit_params)\n  File \"c:\\NeueFische\\ds-bootcamp-capstone-project\\.venv\\Lib\\site-packages\\xgboost\\core.py\", line 726, in inner_f\n    return func(**kwargs)\n           ^^^^^^^^^^^^^^\n  File \"c:\\NeueFische\\ds-bootcamp-capstone-project\\.venv\\Lib\\site-packages\\xgboost\\sklearn.py\", line 1081, in fit\n    train_dmatrix, evals = _wrap_evaluation_matrices(\n                           ^^^^^^^^^^^^^^^^^^^^^^^^^^\n  File \"c:\\NeueFische\\ds-bootcamp-capstone-project\\.venv\\Lib\\site-packages\\xgboost\\sklearn.py\", line 596, in _wrap_evaluation_matrices\n    train_dmatrix = create_dmatrix(\n                    ^^^^^^^^^^^^^^^\n  File \"c:\\NeueFische\\ds-bootcamp-capstone-project\\.venv\\Lib\\site-packages\\xgboost\\sklearn.py\", line 1003, in _create_dmatrix\n    return QuantileDMatrix(\n           ^^^^^^^^^^^^^^^^\n  File \"c:\\NeueFische\\ds-bootcamp-capstone-project\\.venv\\Lib\\site-packages\\xgboost\\core.py\", line 726, in inner_f\n    return func(**kwargs)\n           ^^^^^^^^^^^^^^\n  File \"c:\\NeueFische\\ds-bootcamp-capstone-project\\.venv\\Lib\\site-packages\\xgboost\\core.py\", line 1573, in __init__\n    self._init(\n  File \"c:\\NeueFische\\ds-bootcamp-capstone-project\\.venv\\Lib\\site-packages\\xgboost\\core.py\", line 1632, in _init\n    it.reraise()\n  File \"c:\\NeueFische\\ds-bootcamp-capstone-project\\.venv\\Lib\\site-packages\\xgboost\\core.py\", line 569, in reraise\n    raise exc  # pylint: disable=raising-bad-type\n    ^^^^^^^^^\n  File \"c:\\NeueFische\\ds-bootcamp-capstone-project\\.venv\\Lib\\site-packages\\xgboost\\core.py\", line 550, in _handle_exception\n    return fn()\n           ^^^^\n  File \"c:\\NeueFische\\ds-bootcamp-capstone-project\\.venv\\Lib\\site-packages\\xgboost\\core.py\", line 637, in <lambda>\n    return self._handle_exception(lambda: self.next(input_data), 0)\n                                          ^^^^^^^^^^^^^^^^^^^^^\n  File \"c:\\NeueFische\\ds-bootcamp-capstone-project\\.venv\\Lib\\site-packages\\xgboost\\data.py\", line 1416, in next\n    input_data(**self.kwargs)\n  File \"c:\\NeueFische\\ds-bootcamp-capstone-project\\.venv\\Lib\\site-packages\\xgboost\\core.py\", line 726, in inner_f\n    return func(**kwargs)\n           ^^^^^^^^^^^^^^\n  File \"c:\\NeueFische\\ds-bootcamp-capstone-project\\.venv\\Lib\\site-packages\\xgboost\\core.py\", line 626, in input_data\n    self.proxy.set_info(\n  File \"c:\\NeueFische\\ds-bootcamp-capstone-project\\.venv\\Lib\\site-packages\\xgboost\\core.py\", line 726, in inner_f\n    return func(**kwargs)\n           ^^^^^^^^^^^^^^\n  File \"c:\\NeueFische\\ds-bootcamp-capstone-project\\.venv\\Lib\\site-packages\\xgboost\\core.py\", line 954, in set_info\n    self.set_label(label)\n  File \"c:\\NeueFische\\ds-bootcamp-capstone-project\\.venv\\Lib\\site-packages\\xgboost\\core.py\", line 1092, in set_label\n    dispatch_meta_backend(self, label, \"label\", \"float\")\n  File \"c:\\NeueFische\\ds-bootcamp-capstone-project\\.venv\\Lib\\site-packages\\xgboost\\data.py\", line 1362, in dispatch_meta_backend\n    _meta_from_pandas_series(data, name, dtype, handle)\n  File \"c:\\NeueFische\\ds-bootcamp-capstone-project\\.venv\\Lib\\site-packages\\xgboost\\data.py\", line 679, in _meta_from_pandas_series\n    _meta_from_numpy(data, name, dtype, handle)\n  File \"c:\\NeueFische\\ds-bootcamp-capstone-project\\.venv\\Lib\\site-packages\\xgboost\\data.py\", line 1295, in _meta_from_numpy\n    _check_call(_LIB.XGDMatrixSetInfoFromInterface(handle, c_str(field), interface_str))\n  File \"c:\\NeueFische\\ds-bootcamp-capstone-project\\.venv\\Lib\\site-packages\\xgboost\\core.py\", line 284, in _check_call\n    raise XGBoostError(py_str(_LIB.XGBGetLastError()))\nxgboost.core.XGBoostError: [16:35:56] C:\\buildkite-agent\\builds\\buildkite-windows-cpu-autoscaling-group-i-0015a694724fa8361-1\\xgboost\\xgboost-ci-windows\\src\\data\\data.cc:514: Check failed: valid: Label contains NaN, infinity or a value too large.\n\n--------------------------------------------------------------------------------\n91 fits failed with the following error:\nTraceback (most recent call last):\n  File \"c:\\NeueFische\\ds-bootcamp-capstone-project\\.venv\\Lib\\site-packages\\sklearn\\model_selection\\_validation.py\", line 686, in _fit_and_score\n    estimator.fit(X_train, y_train, **fit_params)\n  File \"c:\\NeueFische\\ds-bootcamp-capstone-project\\.venv\\Lib\\site-packages\\xgboost\\core.py\", line 726, in inner_f\n    return func(**kwargs)\n           ^^^^^^^^^^^^^^\n  File \"c:\\NeueFische\\ds-bootcamp-capstone-project\\.venv\\Lib\\site-packages\\xgboost\\sklearn.py\", line 1081, in fit\n    train_dmatrix, evals = _wrap_evaluation_matrices(\n                           ^^^^^^^^^^^^^^^^^^^^^^^^^^\n  File \"c:\\NeueFische\\ds-bootcamp-capstone-project\\.venv\\Lib\\site-packages\\xgboost\\sklearn.py\", line 596, in _wrap_evaluation_matrices\n    train_dmatrix = create_dmatrix(\n                    ^^^^^^^^^^^^^^^\n  File \"c:\\NeueFische\\ds-bootcamp-capstone-project\\.venv\\Lib\\site-packages\\xgboost\\sklearn.py\", line 1003, in _create_dmatrix\n    return QuantileDMatrix(\n           ^^^^^^^^^^^^^^^^\n  File \"c:\\NeueFische\\ds-bootcamp-capstone-project\\.venv\\Lib\\site-packages\\xgboost\\core.py\", line 726, in inner_f\n    return func(**kwargs)\n           ^^^^^^^^^^^^^^\n  File \"c:\\NeueFische\\ds-bootcamp-capstone-project\\.venv\\Lib\\site-packages\\xgboost\\core.py\", line 1573, in __init__\n    self._init(\n  File \"c:\\NeueFische\\ds-bootcamp-capstone-project\\.venv\\Lib\\site-packages\\xgboost\\core.py\", line 1632, in _init\n    it.reraise()\n  File \"c:\\NeueFische\\ds-bootcamp-capstone-project\\.venv\\Lib\\site-packages\\xgboost\\core.py\", line 569, in reraise\n    raise exc  # pylint: disable=raising-bad-type\n    ^^^^^^^^^\n  File \"c:\\NeueFische\\ds-bootcamp-capstone-project\\.venv\\Lib\\site-packages\\xgboost\\core.py\", line 550, in _handle_exception\n    return fn()\n           ^^^^\n  File \"c:\\NeueFische\\ds-bootcamp-capstone-project\\.venv\\Lib\\site-packages\\xgboost\\core.py\", line 637, in <lambda>\n    return self._handle_exception(lambda: self.next(input_data), 0)\n                                          ^^^^^^^^^^^^^^^^^^^^^\n  File \"c:\\NeueFische\\ds-bootcamp-capstone-project\\.venv\\Lib\\site-packages\\xgboost\\data.py\", line 1416, in next\n    input_data(**self.kwargs)\n  File \"c:\\NeueFische\\ds-bootcamp-capstone-project\\.venv\\Lib\\site-packages\\xgboost\\core.py\", line 726, in inner_f\n    return func(**kwargs)\n           ^^^^^^^^^^^^^^\n  File \"c:\\NeueFische\\ds-bootcamp-capstone-project\\.venv\\Lib\\site-packages\\xgboost\\core.py\", line 626, in input_data\n    self.proxy.set_info(\n  File \"c:\\NeueFische\\ds-bootcamp-capstone-project\\.venv\\Lib\\site-packages\\xgboost\\core.py\", line 726, in inner_f\n    return func(**kwargs)\n           ^^^^^^^^^^^^^^\n  File \"c:\\NeueFische\\ds-bootcamp-capstone-project\\.venv\\Lib\\site-packages\\xgboost\\core.py\", line 954, in set_info\n    self.set_label(label)\n  File \"c:\\NeueFische\\ds-bootcamp-capstone-project\\.venv\\Lib\\site-packages\\xgboost\\core.py\", line 1092, in set_label\n    dispatch_meta_backend(self, label, \"label\", \"float\")\n  File \"c:\\NeueFische\\ds-bootcamp-capstone-project\\.venv\\Lib\\site-packages\\xgboost\\data.py\", line 1362, in dispatch_meta_backend\n    _meta_from_pandas_series(data, name, dtype, handle)\n  File \"c:\\NeueFische\\ds-bootcamp-capstone-project\\.venv\\Lib\\site-packages\\xgboost\\data.py\", line 679, in _meta_from_pandas_series\n    _meta_from_numpy(data, name, dtype, handle)\n  File \"c:\\NeueFische\\ds-bootcamp-capstone-project\\.venv\\Lib\\site-packages\\xgboost\\data.py\", line 1295, in _meta_from_numpy\n    _check_call(_LIB.XGDMatrixSetInfoFromInterface(handle, c_str(field), interface_str))\n  File \"c:\\NeueFische\\ds-bootcamp-capstone-project\\.venv\\Lib\\site-packages\\xgboost\\core.py\", line 284, in _check_call\n    raise XGBoostError(py_str(_LIB.XGBGetLastError()))\nxgboost.core.XGBoostError: [16:35:57] C:\\buildkite-agent\\builds\\buildkite-windows-cpu-autoscaling-group-i-0015a694724fa8361-1\\xgboost\\xgboost-ci-windows\\src\\data\\data.cc:514: Check failed: valid: Label contains NaN, infinity or a value too large.\n\n--------------------------------------------------------------------------------\n90 fits failed with the following error:\nTraceback (most recent call last):\n  File \"c:\\NeueFische\\ds-bootcamp-capstone-project\\.venv\\Lib\\site-packages\\sklearn\\model_selection\\_validation.py\", line 686, in _fit_and_score\n    estimator.fit(X_train, y_train, **fit_params)\n  File \"c:\\NeueFische\\ds-bootcamp-capstone-project\\.venv\\Lib\\site-packages\\xgboost\\core.py\", line 726, in inner_f\n    return func(**kwargs)\n           ^^^^^^^^^^^^^^\n  File \"c:\\NeueFische\\ds-bootcamp-capstone-project\\.venv\\Lib\\site-packages\\xgboost\\sklearn.py\", line 1081, in fit\n    train_dmatrix, evals = _wrap_evaluation_matrices(\n                           ^^^^^^^^^^^^^^^^^^^^^^^^^^\n  File \"c:\\NeueFische\\ds-bootcamp-capstone-project\\.venv\\Lib\\site-packages\\xgboost\\sklearn.py\", line 596, in _wrap_evaluation_matrices\n    train_dmatrix = create_dmatrix(\n                    ^^^^^^^^^^^^^^^\n  File \"c:\\NeueFische\\ds-bootcamp-capstone-project\\.venv\\Lib\\site-packages\\xgboost\\sklearn.py\", line 1003, in _create_dmatrix\n    return QuantileDMatrix(\n           ^^^^^^^^^^^^^^^^\n  File \"c:\\NeueFische\\ds-bootcamp-capstone-project\\.venv\\Lib\\site-packages\\xgboost\\core.py\", line 726, in inner_f\n    return func(**kwargs)\n           ^^^^^^^^^^^^^^\n  File \"c:\\NeueFische\\ds-bootcamp-capstone-project\\.venv\\Lib\\site-packages\\xgboost\\core.py\", line 1573, in __init__\n    self._init(\n  File \"c:\\NeueFische\\ds-bootcamp-capstone-project\\.venv\\Lib\\site-packages\\xgboost\\core.py\", line 1632, in _init\n    it.reraise()\n  File \"c:\\NeueFische\\ds-bootcamp-capstone-project\\.venv\\Lib\\site-packages\\xgboost\\core.py\", line 569, in reraise\n    raise exc  # pylint: disable=raising-bad-type\n    ^^^^^^^^^\n  File \"c:\\NeueFische\\ds-bootcamp-capstone-project\\.venv\\Lib\\site-packages\\xgboost\\core.py\", line 550, in _handle_exception\n    return fn()\n           ^^^^\n  File \"c:\\NeueFische\\ds-bootcamp-capstone-project\\.venv\\Lib\\site-packages\\xgboost\\core.py\", line 637, in <lambda>\n    return self._handle_exception(lambda: self.next(input_data), 0)\n                                          ^^^^^^^^^^^^^^^^^^^^^\n  File \"c:\\NeueFische\\ds-bootcamp-capstone-project\\.venv\\Lib\\site-packages\\xgboost\\data.py\", line 1416, in next\n    input_data(**self.kwargs)\n  File \"c:\\NeueFische\\ds-bootcamp-capstone-project\\.venv\\Lib\\site-packages\\xgboost\\core.py\", line 726, in inner_f\n    return func(**kwargs)\n           ^^^^^^^^^^^^^^\n  File \"c:\\NeueFische\\ds-bootcamp-capstone-project\\.venv\\Lib\\site-packages\\xgboost\\core.py\", line 626, in input_data\n    self.proxy.set_info(\n  File \"c:\\NeueFische\\ds-bootcamp-capstone-project\\.venv\\Lib\\site-packages\\xgboost\\core.py\", line 726, in inner_f\n    return func(**kwargs)\n           ^^^^^^^^^^^^^^\n  File \"c:\\NeueFische\\ds-bootcamp-capstone-project\\.venv\\Lib\\site-packages\\xgboost\\core.py\", line 954, in set_info\n    self.set_label(label)\n  File \"c:\\NeueFische\\ds-bootcamp-capstone-project\\.venv\\Lib\\site-packages\\xgboost\\core.py\", line 1092, in set_label\n    dispatch_meta_backend(self, label, \"label\", \"float\")\n  File \"c:\\NeueFische\\ds-bootcamp-capstone-project\\.venv\\Lib\\site-packages\\xgboost\\data.py\", line 1362, in dispatch_meta_backend\n    _meta_from_pandas_series(data, name, dtype, handle)\n  File \"c:\\NeueFische\\ds-bootcamp-capstone-project\\.venv\\Lib\\site-packages\\xgboost\\data.py\", line 679, in _meta_from_pandas_series\n    _meta_from_numpy(data, name, dtype, handle)\n  File \"c:\\NeueFische\\ds-bootcamp-capstone-project\\.venv\\Lib\\site-packages\\xgboost\\data.py\", line 1295, in _meta_from_numpy\n    _check_call(_LIB.XGDMatrixSetInfoFromInterface(handle, c_str(field), interface_str))\n  File \"c:\\NeueFische\\ds-bootcamp-capstone-project\\.venv\\Lib\\site-packages\\xgboost\\core.py\", line 284, in _check_call\n    raise XGBoostError(py_str(_LIB.XGBGetLastError()))\nxgboost.core.XGBoostError: [16:35:58] C:\\buildkite-agent\\builds\\buildkite-windows-cpu-autoscaling-group-i-0015a694724fa8361-1\\xgboost\\xgboost-ci-windows\\src\\data\\data.cc:514: Check failed: valid: Label contains NaN, infinity or a value too large.\n\n--------------------------------------------------------------------------------\n91 fits failed with the following error:\nTraceback (most recent call last):\n  File \"c:\\NeueFische\\ds-bootcamp-capstone-project\\.venv\\Lib\\site-packages\\sklearn\\model_selection\\_validation.py\", line 686, in _fit_and_score\n    estimator.fit(X_train, y_train, **fit_params)\n  File \"c:\\NeueFische\\ds-bootcamp-capstone-project\\.venv\\Lib\\site-packages\\xgboost\\core.py\", line 726, in inner_f\n    return func(**kwargs)\n           ^^^^^^^^^^^^^^\n  File \"c:\\NeueFische\\ds-bootcamp-capstone-project\\.venv\\Lib\\site-packages\\xgboost\\sklearn.py\", line 1081, in fit\n    train_dmatrix, evals = _wrap_evaluation_matrices(\n                           ^^^^^^^^^^^^^^^^^^^^^^^^^^\n  File \"c:\\NeueFische\\ds-bootcamp-capstone-project\\.venv\\Lib\\site-packages\\xgboost\\sklearn.py\", line 596, in _wrap_evaluation_matrices\n    train_dmatrix = create_dmatrix(\n                    ^^^^^^^^^^^^^^^\n  File \"c:\\NeueFische\\ds-bootcamp-capstone-project\\.venv\\Lib\\site-packages\\xgboost\\sklearn.py\", line 1003, in _create_dmatrix\n    return QuantileDMatrix(\n           ^^^^^^^^^^^^^^^^\n  File \"c:\\NeueFische\\ds-bootcamp-capstone-project\\.venv\\Lib\\site-packages\\xgboost\\core.py\", line 726, in inner_f\n    return func(**kwargs)\n           ^^^^^^^^^^^^^^\n  File \"c:\\NeueFische\\ds-bootcamp-capstone-project\\.venv\\Lib\\site-packages\\xgboost\\core.py\", line 1573, in __init__\n    self._init(\n  File \"c:\\NeueFische\\ds-bootcamp-capstone-project\\.venv\\Lib\\site-packages\\xgboost\\core.py\", line 1632, in _init\n    it.reraise()\n  File \"c:\\NeueFische\\ds-bootcamp-capstone-project\\.venv\\Lib\\site-packages\\xgboost\\core.py\", line 569, in reraise\n    raise exc  # pylint: disable=raising-bad-type\n    ^^^^^^^^^\n  File \"c:\\NeueFische\\ds-bootcamp-capstone-project\\.venv\\Lib\\site-packages\\xgboost\\core.py\", line 550, in _handle_exception\n    return fn()\n           ^^^^\n  File \"c:\\NeueFische\\ds-bootcamp-capstone-project\\.venv\\Lib\\site-packages\\xgboost\\core.py\", line 637, in <lambda>\n    return self._handle_exception(lambda: self.next(input_data), 0)\n                                          ^^^^^^^^^^^^^^^^^^^^^\n  File \"c:\\NeueFische\\ds-bootcamp-capstone-project\\.venv\\Lib\\site-packages\\xgboost\\data.py\", line 1416, in next\n    input_data(**self.kwargs)\n  File \"c:\\NeueFische\\ds-bootcamp-capstone-project\\.venv\\Lib\\site-packages\\xgboost\\core.py\", line 726, in inner_f\n    return func(**kwargs)\n           ^^^^^^^^^^^^^^\n  File \"c:\\NeueFische\\ds-bootcamp-capstone-project\\.venv\\Lib\\site-packages\\xgboost\\core.py\", line 626, in input_data\n    self.proxy.set_info(\n  File \"c:\\NeueFische\\ds-bootcamp-capstone-project\\.venv\\Lib\\site-packages\\xgboost\\core.py\", line 726, in inner_f\n    return func(**kwargs)\n           ^^^^^^^^^^^^^^\n  File \"c:\\NeueFische\\ds-bootcamp-capstone-project\\.venv\\Lib\\site-packages\\xgboost\\core.py\", line 954, in set_info\n    self.set_label(label)\n  File \"c:\\NeueFische\\ds-bootcamp-capstone-project\\.venv\\Lib\\site-packages\\xgboost\\core.py\", line 1092, in set_label\n    dispatch_meta_backend(self, label, \"label\", \"float\")\n  File \"c:\\NeueFische\\ds-bootcamp-capstone-project\\.venv\\Lib\\site-packages\\xgboost\\data.py\", line 1362, in dispatch_meta_backend\n    _meta_from_pandas_series(data, name, dtype, handle)\n  File \"c:\\NeueFische\\ds-bootcamp-capstone-project\\.venv\\Lib\\site-packages\\xgboost\\data.py\", line 679, in _meta_from_pandas_series\n    _meta_from_numpy(data, name, dtype, handle)\n  File \"c:\\NeueFische\\ds-bootcamp-capstone-project\\.venv\\Lib\\site-packages\\xgboost\\data.py\", line 1295, in _meta_from_numpy\n    _check_call(_LIB.XGDMatrixSetInfoFromInterface(handle, c_str(field), interface_str))\n  File \"c:\\NeueFische\\ds-bootcamp-capstone-project\\.venv\\Lib\\site-packages\\xgboost\\core.py\", line 284, in _check_call\n    raise XGBoostError(py_str(_LIB.XGBGetLastError()))\nxgboost.core.XGBoostError: [16:35:59] C:\\buildkite-agent\\builds\\buildkite-windows-cpu-autoscaling-group-i-0015a694724fa8361-1\\xgboost\\xgboost-ci-windows\\src\\data\\data.cc:514: Check failed: valid: Label contains NaN, infinity or a value too large.\n\n--------------------------------------------------------------------------------\n79 fits failed with the following error:\nTraceback (most recent call last):\n  File \"c:\\NeueFische\\ds-bootcamp-capstone-project\\.venv\\Lib\\site-packages\\sklearn\\model_selection\\_validation.py\", line 686, in _fit_and_score\n    estimator.fit(X_train, y_train, **fit_params)\n  File \"c:\\NeueFische\\ds-bootcamp-capstone-project\\.venv\\Lib\\site-packages\\xgboost\\core.py\", line 726, in inner_f\n    return func(**kwargs)\n           ^^^^^^^^^^^^^^\n  File \"c:\\NeueFische\\ds-bootcamp-capstone-project\\.venv\\Lib\\site-packages\\xgboost\\sklearn.py\", line 1081, in fit\n    train_dmatrix, evals = _wrap_evaluation_matrices(\n                           ^^^^^^^^^^^^^^^^^^^^^^^^^^\n  File \"c:\\NeueFische\\ds-bootcamp-capstone-project\\.venv\\Lib\\site-packages\\xgboost\\sklearn.py\", line 596, in _wrap_evaluation_matrices\n    train_dmatrix = create_dmatrix(\n                    ^^^^^^^^^^^^^^^\n  File \"c:\\NeueFische\\ds-bootcamp-capstone-project\\.venv\\Lib\\site-packages\\xgboost\\sklearn.py\", line 1003, in _create_dmatrix\n    return QuantileDMatrix(\n           ^^^^^^^^^^^^^^^^\n  File \"c:\\NeueFische\\ds-bootcamp-capstone-project\\.venv\\Lib\\site-packages\\xgboost\\core.py\", line 726, in inner_f\n    return func(**kwargs)\n           ^^^^^^^^^^^^^^\n  File \"c:\\NeueFische\\ds-bootcamp-capstone-project\\.venv\\Lib\\site-packages\\xgboost\\core.py\", line 1573, in __init__\n    self._init(\n  File \"c:\\NeueFische\\ds-bootcamp-capstone-project\\.venv\\Lib\\site-packages\\xgboost\\core.py\", line 1632, in _init\n    it.reraise()\n  File \"c:\\NeueFische\\ds-bootcamp-capstone-project\\.venv\\Lib\\site-packages\\xgboost\\core.py\", line 569, in reraise\n    raise exc  # pylint: disable=raising-bad-type\n    ^^^^^^^^^\n  File \"c:\\NeueFische\\ds-bootcamp-capstone-project\\.venv\\Lib\\site-packages\\xgboost\\core.py\", line 550, in _handle_exception\n    return fn()\n           ^^^^\n  File \"c:\\NeueFische\\ds-bootcamp-capstone-project\\.venv\\Lib\\site-packages\\xgboost\\core.py\", line 637, in <lambda>\n    return self._handle_exception(lambda: self.next(input_data), 0)\n                                          ^^^^^^^^^^^^^^^^^^^^^\n  File \"c:\\NeueFische\\ds-bootcamp-capstone-project\\.venv\\Lib\\site-packages\\xgboost\\data.py\", line 1416, in next\n    input_data(**self.kwargs)\n  File \"c:\\NeueFische\\ds-bootcamp-capstone-project\\.venv\\Lib\\site-packages\\xgboost\\core.py\", line 726, in inner_f\n    return func(**kwargs)\n           ^^^^^^^^^^^^^^\n  File \"c:\\NeueFische\\ds-bootcamp-capstone-project\\.venv\\Lib\\site-packages\\xgboost\\core.py\", line 626, in input_data\n    self.proxy.set_info(\n  File \"c:\\NeueFische\\ds-bootcamp-capstone-project\\.venv\\Lib\\site-packages\\xgboost\\core.py\", line 726, in inner_f\n    return func(**kwargs)\n           ^^^^^^^^^^^^^^\n  File \"c:\\NeueFische\\ds-bootcamp-capstone-project\\.venv\\Lib\\site-packages\\xgboost\\core.py\", line 954, in set_info\n    self.set_label(label)\n  File \"c:\\NeueFische\\ds-bootcamp-capstone-project\\.venv\\Lib\\site-packages\\xgboost\\core.py\", line 1092, in set_label\n    dispatch_meta_backend(self, label, \"label\", \"float\")\n  File \"c:\\NeueFische\\ds-bootcamp-capstone-project\\.venv\\Lib\\site-packages\\xgboost\\data.py\", line 1362, in dispatch_meta_backend\n    _meta_from_pandas_series(data, name, dtype, handle)\n  File \"c:\\NeueFische\\ds-bootcamp-capstone-project\\.venv\\Lib\\site-packages\\xgboost\\data.py\", line 679, in _meta_from_pandas_series\n    _meta_from_numpy(data, name, dtype, handle)\n  File \"c:\\NeueFische\\ds-bootcamp-capstone-project\\.venv\\Lib\\site-packages\\xgboost\\data.py\", line 1295, in _meta_from_numpy\n    _check_call(_LIB.XGDMatrixSetInfoFromInterface(handle, c_str(field), interface_str))\n  File \"c:\\NeueFische\\ds-bootcamp-capstone-project\\.venv\\Lib\\site-packages\\xgboost\\core.py\", line 284, in _check_call\n    raise XGBoostError(py_str(_LIB.XGBGetLastError()))\nxgboost.core.XGBoostError: [16:36:00] C:\\buildkite-agent\\builds\\buildkite-windows-cpu-autoscaling-group-i-0015a694724fa8361-1\\xgboost\\xgboost-ci-windows\\src\\data\\data.cc:514: Check failed: valid: Label contains NaN, infinity or a value too large.\n",
     "output_type": "error",
     "traceback": [
      "\u001b[1;31m---------------------------------------------------------------------------\u001b[0m",
      "\u001b[1;31mValueError\u001b[0m                                Traceback (most recent call last)",
      "Cell \u001b[1;32mIn[11], line 22\u001b[0m\n\u001b[0;32m     12\u001b[0m param_grid \u001b[38;5;241m=\u001b[39m {\n\u001b[0;32m     13\u001b[0m     \u001b[38;5;124m'\u001b[39m\u001b[38;5;124mn_estimators\u001b[39m\u001b[38;5;124m'\u001b[39m: [\u001b[38;5;241m50\u001b[39m, \u001b[38;5;241m100\u001b[39m, \u001b[38;5;241m200\u001b[39m],\n\u001b[0;32m     14\u001b[0m     \u001b[38;5;124m'\u001b[39m\u001b[38;5;124mlearning_rate\u001b[39m\u001b[38;5;124m'\u001b[39m: [\u001b[38;5;241m0.01\u001b[39m, \u001b[38;5;241m0.1\u001b[39m, \u001b[38;5;241m0.2\u001b[39m],\n\u001b[1;32m   (...)\u001b[0m\n\u001b[0;32m     17\u001b[0m     \u001b[38;5;124m'\u001b[39m\u001b[38;5;124mcolsample_bytree\u001b[39m\u001b[38;5;124m'\u001b[39m: [\u001b[38;5;241m0.8\u001b[39m, \u001b[38;5;241m1.0\u001b[39m]\n\u001b[0;32m     18\u001b[0m }\n\u001b[0;32m     20\u001b[0m grid_search \u001b[38;5;241m=\u001b[39m GridSearchCV(estimator\u001b[38;5;241m=\u001b[39mxgb_reg, param_grid\u001b[38;5;241m=\u001b[39mparam_grid, scoring\u001b[38;5;241m=\u001b[39m\u001b[38;5;124m'\u001b[39m\u001b[38;5;124mneg_mean_squared_error\u001b[39m\u001b[38;5;124m'\u001b[39m, cv\u001b[38;5;241m=\u001b[39m\u001b[38;5;241m5\u001b[39m, verbose\u001b[38;5;241m=\u001b[39m\u001b[38;5;241m1\u001b[39m)\n\u001b[1;32m---> 22\u001b[0m \u001b[43mgrid_search\u001b[49m\u001b[38;5;241;43m.\u001b[39;49m\u001b[43mfit\u001b[49m\u001b[43m(\u001b[49m\u001b[43mX_train\u001b[49m\u001b[43m,\u001b[49m\u001b[43m \u001b[49m\u001b[43my_train\u001b[49m\u001b[43m)\u001b[49m\n\u001b[0;32m     24\u001b[0m best_params \u001b[38;5;241m=\u001b[39m grid_search\u001b[38;5;241m.\u001b[39mbest_params_\n\u001b[0;32m     25\u001b[0m best_score \u001b[38;5;241m=\u001b[39m grid_search\u001b[38;5;241m.\u001b[39mbest_score_\n",
      "File \u001b[1;32mc:\\NeueFische\\ds-bootcamp-capstone-project\\.venv\\Lib\\site-packages\\sklearn\\model_selection\\_search.py:874\u001b[0m, in \u001b[0;36mBaseSearchCV.fit\u001b[1;34m(self, X, y, groups, **fit_params)\u001b[0m\n\u001b[0;32m    868\u001b[0m     results \u001b[38;5;241m=\u001b[39m \u001b[38;5;28mself\u001b[39m\u001b[38;5;241m.\u001b[39m_format_results(\n\u001b[0;32m    869\u001b[0m         all_candidate_params, n_splits, all_out, all_more_results\n\u001b[0;32m    870\u001b[0m     )\n\u001b[0;32m    872\u001b[0m     \u001b[38;5;28;01mreturn\u001b[39;00m results\n\u001b[1;32m--> 874\u001b[0m \u001b[38;5;28;43mself\u001b[39;49m\u001b[38;5;241;43m.\u001b[39;49m\u001b[43m_run_search\u001b[49m\u001b[43m(\u001b[49m\u001b[43mevaluate_candidates\u001b[49m\u001b[43m)\u001b[49m\n\u001b[0;32m    876\u001b[0m \u001b[38;5;66;03m# multimetric is determined here because in the case of a callable\u001b[39;00m\n\u001b[0;32m    877\u001b[0m \u001b[38;5;66;03m# self.scoring the return type is only known after calling\u001b[39;00m\n\u001b[0;32m    878\u001b[0m first_test_score \u001b[38;5;241m=\u001b[39m all_out[\u001b[38;5;241m0\u001b[39m][\u001b[38;5;124m\"\u001b[39m\u001b[38;5;124mtest_scores\u001b[39m\u001b[38;5;124m\"\u001b[39m]\n",
      "File \u001b[1;32mc:\\NeueFische\\ds-bootcamp-capstone-project\\.venv\\Lib\\site-packages\\sklearn\\model_selection\\_search.py:1388\u001b[0m, in \u001b[0;36mGridSearchCV._run_search\u001b[1;34m(self, evaluate_candidates)\u001b[0m\n\u001b[0;32m   1386\u001b[0m \u001b[38;5;28;01mdef\u001b[39;00m \u001b[38;5;21m_run_search\u001b[39m(\u001b[38;5;28mself\u001b[39m, evaluate_candidates):\n\u001b[0;32m   1387\u001b[0m \u001b[38;5;250m    \u001b[39m\u001b[38;5;124;03m\"\"\"Search all candidates in param_grid\"\"\"\u001b[39;00m\n\u001b[1;32m-> 1388\u001b[0m     \u001b[43mevaluate_candidates\u001b[49m\u001b[43m(\u001b[49m\u001b[43mParameterGrid\u001b[49m\u001b[43m(\u001b[49m\u001b[38;5;28;43mself\u001b[39;49m\u001b[38;5;241;43m.\u001b[39;49m\u001b[43mparam_grid\u001b[49m\u001b[43m)\u001b[49m\u001b[43m)\u001b[49m\n",
      "File \u001b[1;32mc:\\NeueFische\\ds-bootcamp-capstone-project\\.venv\\Lib\\site-packages\\sklearn\\model_selection\\_search.py:851\u001b[0m, in \u001b[0;36mBaseSearchCV.fit.<locals>.evaluate_candidates\u001b[1;34m(candidate_params, cv, more_results)\u001b[0m\n\u001b[0;32m    844\u001b[0m \u001b[38;5;28;01melif\u001b[39;00m \u001b[38;5;28mlen\u001b[39m(out) \u001b[38;5;241m!=\u001b[39m n_candidates \u001b[38;5;241m*\u001b[39m n_splits:\n\u001b[0;32m    845\u001b[0m     \u001b[38;5;28;01mraise\u001b[39;00m \u001b[38;5;167;01mValueError\u001b[39;00m(\n\u001b[0;32m    846\u001b[0m         \u001b[38;5;124m\"\u001b[39m\u001b[38;5;124mcv.split and cv.get_n_splits returned \u001b[39m\u001b[38;5;124m\"\u001b[39m\n\u001b[0;32m    847\u001b[0m         \u001b[38;5;124m\"\u001b[39m\u001b[38;5;124minconsistent results. Expected \u001b[39m\u001b[38;5;132;01m{}\u001b[39;00m\u001b[38;5;124m \u001b[39m\u001b[38;5;124m\"\u001b[39m\n\u001b[0;32m    848\u001b[0m         \u001b[38;5;124m\"\u001b[39m\u001b[38;5;124msplits, got \u001b[39m\u001b[38;5;132;01m{}\u001b[39;00m\u001b[38;5;124m\"\u001b[39m\u001b[38;5;241m.\u001b[39mformat(n_splits, \u001b[38;5;28mlen\u001b[39m(out) \u001b[38;5;241m/\u001b[39m\u001b[38;5;241m/\u001b[39m n_candidates)\n\u001b[0;32m    849\u001b[0m     )\n\u001b[1;32m--> 851\u001b[0m \u001b[43m_warn_or_raise_about_fit_failures\u001b[49m\u001b[43m(\u001b[49m\u001b[43mout\u001b[49m\u001b[43m,\u001b[49m\u001b[43m \u001b[49m\u001b[38;5;28;43mself\u001b[39;49m\u001b[38;5;241;43m.\u001b[39;49m\u001b[43merror_score\u001b[49m\u001b[43m)\u001b[49m\n\u001b[0;32m    853\u001b[0m \u001b[38;5;66;03m# For callable self.scoring, the return type is only know after\u001b[39;00m\n\u001b[0;32m    854\u001b[0m \u001b[38;5;66;03m# calling. If the return type is a dictionary, the error scores\u001b[39;00m\n\u001b[0;32m    855\u001b[0m \u001b[38;5;66;03m# can now be inserted with the correct key. The type checking\u001b[39;00m\n\u001b[0;32m    856\u001b[0m \u001b[38;5;66;03m# of out will be done in `_insert_error_scores`.\u001b[39;00m\n\u001b[0;32m    857\u001b[0m \u001b[38;5;28;01mif\u001b[39;00m \u001b[38;5;28mcallable\u001b[39m(\u001b[38;5;28mself\u001b[39m\u001b[38;5;241m.\u001b[39mscoring):\n",
      "File \u001b[1;32mc:\\NeueFische\\ds-bootcamp-capstone-project\\.venv\\Lib\\site-packages\\sklearn\\model_selection\\_validation.py:367\u001b[0m, in \u001b[0;36m_warn_or_raise_about_fit_failures\u001b[1;34m(results, error_score)\u001b[0m\n\u001b[0;32m    360\u001b[0m \u001b[38;5;28;01mif\u001b[39;00m num_failed_fits \u001b[38;5;241m==\u001b[39m num_fits:\n\u001b[0;32m    361\u001b[0m     all_fits_failed_message \u001b[38;5;241m=\u001b[39m (\n\u001b[0;32m    362\u001b[0m         \u001b[38;5;124mf\u001b[39m\u001b[38;5;124m\"\u001b[39m\u001b[38;5;130;01m\\n\u001b[39;00m\u001b[38;5;124mAll the \u001b[39m\u001b[38;5;132;01m{\u001b[39;00mnum_fits\u001b[38;5;132;01m}\u001b[39;00m\u001b[38;5;124m fits failed.\u001b[39m\u001b[38;5;130;01m\\n\u001b[39;00m\u001b[38;5;124m\"\u001b[39m\n\u001b[0;32m    363\u001b[0m         \u001b[38;5;124m\"\u001b[39m\u001b[38;5;124mIt is very likely that your model is misconfigured.\u001b[39m\u001b[38;5;130;01m\\n\u001b[39;00m\u001b[38;5;124m\"\u001b[39m\n\u001b[0;32m    364\u001b[0m         \u001b[38;5;124m\"\u001b[39m\u001b[38;5;124mYou can try to debug the error by setting error_score=\u001b[39m\u001b[38;5;124m'\u001b[39m\u001b[38;5;124mraise\u001b[39m\u001b[38;5;124m'\u001b[39m\u001b[38;5;124m.\u001b[39m\u001b[38;5;130;01m\\n\u001b[39;00m\u001b[38;5;130;01m\\n\u001b[39;00m\u001b[38;5;124m\"\u001b[39m\n\u001b[0;32m    365\u001b[0m         \u001b[38;5;124mf\u001b[39m\u001b[38;5;124m\"\u001b[39m\u001b[38;5;124mBelow are more details about the failures:\u001b[39m\u001b[38;5;130;01m\\n\u001b[39;00m\u001b[38;5;132;01m{\u001b[39;00mfit_errors_summary\u001b[38;5;132;01m}\u001b[39;00m\u001b[38;5;124m\"\u001b[39m\n\u001b[0;32m    366\u001b[0m     )\n\u001b[1;32m--> 367\u001b[0m     \u001b[38;5;28;01mraise\u001b[39;00m \u001b[38;5;167;01mValueError\u001b[39;00m(all_fits_failed_message)\n\u001b[0;32m    369\u001b[0m \u001b[38;5;28;01melse\u001b[39;00m:\n\u001b[0;32m    370\u001b[0m     some_fits_failed_message \u001b[38;5;241m=\u001b[39m (\n\u001b[0;32m    371\u001b[0m         \u001b[38;5;124mf\u001b[39m\u001b[38;5;124m\"\u001b[39m\u001b[38;5;130;01m\\n\u001b[39;00m\u001b[38;5;132;01m{\u001b[39;00mnum_failed_fits\u001b[38;5;132;01m}\u001b[39;00m\u001b[38;5;124m fits failed out of a total of \u001b[39m\u001b[38;5;132;01m{\u001b[39;00mnum_fits\u001b[38;5;132;01m}\u001b[39;00m\u001b[38;5;124m.\u001b[39m\u001b[38;5;130;01m\\n\u001b[39;00m\u001b[38;5;124m\"\u001b[39m\n\u001b[0;32m    372\u001b[0m         \u001b[38;5;124m\"\u001b[39m\u001b[38;5;124mThe score on these train-test partitions for these parameters\u001b[39m\u001b[38;5;124m\"\u001b[39m\n\u001b[1;32m   (...)\u001b[0m\n\u001b[0;32m    376\u001b[0m         \u001b[38;5;124mf\u001b[39m\u001b[38;5;124m\"\u001b[39m\u001b[38;5;124mBelow are more details about the failures:\u001b[39m\u001b[38;5;130;01m\\n\u001b[39;00m\u001b[38;5;132;01m{\u001b[39;00mfit_errors_summary\u001b[38;5;132;01m}\u001b[39;00m\u001b[38;5;124m\"\u001b[39m\n\u001b[0;32m    377\u001b[0m     )\n",
      "\u001b[1;31mValueError\u001b[0m: \nAll the 540 fits failed.\nIt is very likely that your model is misconfigured.\nYou can try to debug the error by setting error_score='raise'.\n\nBelow are more details about the failures:\n--------------------------------------------------------------------------------\n24 fits failed with the following error:\nTraceback (most recent call last):\n  File \"c:\\NeueFische\\ds-bootcamp-capstone-project\\.venv\\Lib\\site-packages\\sklearn\\model_selection\\_validation.py\", line 686, in _fit_and_score\n    estimator.fit(X_train, y_train, **fit_params)\n  File \"c:\\NeueFische\\ds-bootcamp-capstone-project\\.venv\\Lib\\site-packages\\xgboost\\core.py\", line 726, in inner_f\n    return func(**kwargs)\n           ^^^^^^^^^^^^^^\n  File \"c:\\NeueFische\\ds-bootcamp-capstone-project\\.venv\\Lib\\site-packages\\xgboost\\sklearn.py\", line 1081, in fit\n    train_dmatrix, evals = _wrap_evaluation_matrices(\n                           ^^^^^^^^^^^^^^^^^^^^^^^^^^\n  File \"c:\\NeueFische\\ds-bootcamp-capstone-project\\.venv\\Lib\\site-packages\\xgboost\\sklearn.py\", line 596, in _wrap_evaluation_matrices\n    train_dmatrix = create_dmatrix(\n                    ^^^^^^^^^^^^^^^\n  File \"c:\\NeueFische\\ds-bootcamp-capstone-project\\.venv\\Lib\\site-packages\\xgboost\\sklearn.py\", line 1003, in _create_dmatrix\n    return QuantileDMatrix(\n           ^^^^^^^^^^^^^^^^\n  File \"c:\\NeueFische\\ds-bootcamp-capstone-project\\.venv\\Lib\\site-packages\\xgboost\\core.py\", line 726, in inner_f\n    return func(**kwargs)\n           ^^^^^^^^^^^^^^\n  File \"c:\\NeueFische\\ds-bootcamp-capstone-project\\.venv\\Lib\\site-packages\\xgboost\\core.py\", line 1573, in __init__\n    self._init(\n  File \"c:\\NeueFische\\ds-bootcamp-capstone-project\\.venv\\Lib\\site-packages\\xgboost\\core.py\", line 1632, in _init\n    it.reraise()\n  File \"c:\\NeueFische\\ds-bootcamp-capstone-project\\.venv\\Lib\\site-packages\\xgboost\\core.py\", line 569, in reraise\n    raise exc  # pylint: disable=raising-bad-type\n    ^^^^^^^^^\n  File \"c:\\NeueFische\\ds-bootcamp-capstone-project\\.venv\\Lib\\site-packages\\xgboost\\core.py\", line 550, in _handle_exception\n    return fn()\n           ^^^^\n  File \"c:\\NeueFische\\ds-bootcamp-capstone-project\\.venv\\Lib\\site-packages\\xgboost\\core.py\", line 637, in <lambda>\n    return self._handle_exception(lambda: self.next(input_data), 0)\n                                          ^^^^^^^^^^^^^^^^^^^^^\n  File \"c:\\NeueFische\\ds-bootcamp-capstone-project\\.venv\\Lib\\site-packages\\xgboost\\data.py\", line 1416, in next\n    input_data(**self.kwargs)\n  File \"c:\\NeueFische\\ds-bootcamp-capstone-project\\.venv\\Lib\\site-packages\\xgboost\\core.py\", line 726, in inner_f\n    return func(**kwargs)\n           ^^^^^^^^^^^^^^\n  File \"c:\\NeueFische\\ds-bootcamp-capstone-project\\.venv\\Lib\\site-packages\\xgboost\\core.py\", line 626, in input_data\n    self.proxy.set_info(\n  File \"c:\\NeueFische\\ds-bootcamp-capstone-project\\.venv\\Lib\\site-packages\\xgboost\\core.py\", line 726, in inner_f\n    return func(**kwargs)\n           ^^^^^^^^^^^^^^\n  File \"c:\\NeueFische\\ds-bootcamp-capstone-project\\.venv\\Lib\\site-packages\\xgboost\\core.py\", line 954, in set_info\n    self.set_label(label)\n  File \"c:\\NeueFische\\ds-bootcamp-capstone-project\\.venv\\Lib\\site-packages\\xgboost\\core.py\", line 1092, in set_label\n    dispatch_meta_backend(self, label, \"label\", \"float\")\n  File \"c:\\NeueFische\\ds-bootcamp-capstone-project\\.venv\\Lib\\site-packages\\xgboost\\data.py\", line 1362, in dispatch_meta_backend\n    _meta_from_pandas_series(data, name, dtype, handle)\n  File \"c:\\NeueFische\\ds-bootcamp-capstone-project\\.venv\\Lib\\site-packages\\xgboost\\data.py\", line 679, in _meta_from_pandas_series\n    _meta_from_numpy(data, name, dtype, handle)\n  File \"c:\\NeueFische\\ds-bootcamp-capstone-project\\.venv\\Lib\\site-packages\\xgboost\\data.py\", line 1295, in _meta_from_numpy\n    _check_call(_LIB.XGDMatrixSetInfoFromInterface(handle, c_str(field), interface_str))\n  File \"c:\\NeueFische\\ds-bootcamp-capstone-project\\.venv\\Lib\\site-packages\\xgboost\\core.py\", line 284, in _check_call\n    raise XGBoostError(py_str(_LIB.XGBGetLastError()))\nxgboost.core.XGBoostError: [16:35:54] C:\\buildkite-agent\\builds\\buildkite-windows-cpu-autoscaling-group-i-0015a694724fa8361-1\\xgboost\\xgboost-ci-windows\\src\\data\\data.cc:514: Check failed: valid: Label contains NaN, infinity or a value too large.\n\n--------------------------------------------------------------------------------\n75 fits failed with the following error:\nTraceback (most recent call last):\n  File \"c:\\NeueFische\\ds-bootcamp-capstone-project\\.venv\\Lib\\site-packages\\sklearn\\model_selection\\_validation.py\", line 686, in _fit_and_score\n    estimator.fit(X_train, y_train, **fit_params)\n  File \"c:\\NeueFische\\ds-bootcamp-capstone-project\\.venv\\Lib\\site-packages\\xgboost\\core.py\", line 726, in inner_f\n    return func(**kwargs)\n           ^^^^^^^^^^^^^^\n  File \"c:\\NeueFische\\ds-bootcamp-capstone-project\\.venv\\Lib\\site-packages\\xgboost\\sklearn.py\", line 1081, in fit\n    train_dmatrix, evals = _wrap_evaluation_matrices(\n                           ^^^^^^^^^^^^^^^^^^^^^^^^^^\n  File \"c:\\NeueFische\\ds-bootcamp-capstone-project\\.venv\\Lib\\site-packages\\xgboost\\sklearn.py\", line 596, in _wrap_evaluation_matrices\n    train_dmatrix = create_dmatrix(\n                    ^^^^^^^^^^^^^^^\n  File \"c:\\NeueFische\\ds-bootcamp-capstone-project\\.venv\\Lib\\site-packages\\xgboost\\sklearn.py\", line 1003, in _create_dmatrix\n    return QuantileDMatrix(\n           ^^^^^^^^^^^^^^^^\n  File \"c:\\NeueFische\\ds-bootcamp-capstone-project\\.venv\\Lib\\site-packages\\xgboost\\core.py\", line 726, in inner_f\n    return func(**kwargs)\n           ^^^^^^^^^^^^^^\n  File \"c:\\NeueFische\\ds-bootcamp-capstone-project\\.venv\\Lib\\site-packages\\xgboost\\core.py\", line 1573, in __init__\n    self._init(\n  File \"c:\\NeueFische\\ds-bootcamp-capstone-project\\.venv\\Lib\\site-packages\\xgboost\\core.py\", line 1632, in _init\n    it.reraise()\n  File \"c:\\NeueFische\\ds-bootcamp-capstone-project\\.venv\\Lib\\site-packages\\xgboost\\core.py\", line 569, in reraise\n    raise exc  # pylint: disable=raising-bad-type\n    ^^^^^^^^^\n  File \"c:\\NeueFische\\ds-bootcamp-capstone-project\\.venv\\Lib\\site-packages\\xgboost\\core.py\", line 550, in _handle_exception\n    return fn()\n           ^^^^\n  File \"c:\\NeueFische\\ds-bootcamp-capstone-project\\.venv\\Lib\\site-packages\\xgboost\\core.py\", line 637, in <lambda>\n    return self._handle_exception(lambda: self.next(input_data), 0)\n                                          ^^^^^^^^^^^^^^^^^^^^^\n  File \"c:\\NeueFische\\ds-bootcamp-capstone-project\\.venv\\Lib\\site-packages\\xgboost\\data.py\", line 1416, in next\n    input_data(**self.kwargs)\n  File \"c:\\NeueFische\\ds-bootcamp-capstone-project\\.venv\\Lib\\site-packages\\xgboost\\core.py\", line 726, in inner_f\n    return func(**kwargs)\n           ^^^^^^^^^^^^^^\n  File \"c:\\NeueFische\\ds-bootcamp-capstone-project\\.venv\\Lib\\site-packages\\xgboost\\core.py\", line 626, in input_data\n    self.proxy.set_info(\n  File \"c:\\NeueFische\\ds-bootcamp-capstone-project\\.venv\\Lib\\site-packages\\xgboost\\core.py\", line 726, in inner_f\n    return func(**kwargs)\n           ^^^^^^^^^^^^^^\n  File \"c:\\NeueFische\\ds-bootcamp-capstone-project\\.venv\\Lib\\site-packages\\xgboost\\core.py\", line 954, in set_info\n    self.set_label(label)\n  File \"c:\\NeueFische\\ds-bootcamp-capstone-project\\.venv\\Lib\\site-packages\\xgboost\\core.py\", line 1092, in set_label\n    dispatch_meta_backend(self, label, \"label\", \"float\")\n  File \"c:\\NeueFische\\ds-bootcamp-capstone-project\\.venv\\Lib\\site-packages\\xgboost\\data.py\", line 1362, in dispatch_meta_backend\n    _meta_from_pandas_series(data, name, dtype, handle)\n  File \"c:\\NeueFische\\ds-bootcamp-capstone-project\\.venv\\Lib\\site-packages\\xgboost\\data.py\", line 679, in _meta_from_pandas_series\n    _meta_from_numpy(data, name, dtype, handle)\n  File \"c:\\NeueFische\\ds-bootcamp-capstone-project\\.venv\\Lib\\site-packages\\xgboost\\data.py\", line 1295, in _meta_from_numpy\n    _check_call(_LIB.XGDMatrixSetInfoFromInterface(handle, c_str(field), interface_str))\n  File \"c:\\NeueFische\\ds-bootcamp-capstone-project\\.venv\\Lib\\site-packages\\xgboost\\core.py\", line 284, in _check_call\n    raise XGBoostError(py_str(_LIB.XGBGetLastError()))\nxgboost.core.XGBoostError: [16:35:55] C:\\buildkite-agent\\builds\\buildkite-windows-cpu-autoscaling-group-i-0015a694724fa8361-1\\xgboost\\xgboost-ci-windows\\src\\data\\data.cc:514: Check failed: valid: Label contains NaN, infinity or a value too large.\n\n--------------------------------------------------------------------------------\n90 fits failed with the following error:\nTraceback (most recent call last):\n  File \"c:\\NeueFische\\ds-bootcamp-capstone-project\\.venv\\Lib\\site-packages\\sklearn\\model_selection\\_validation.py\", line 686, in _fit_and_score\n    estimator.fit(X_train, y_train, **fit_params)\n  File \"c:\\NeueFische\\ds-bootcamp-capstone-project\\.venv\\Lib\\site-packages\\xgboost\\core.py\", line 726, in inner_f\n    return func(**kwargs)\n           ^^^^^^^^^^^^^^\n  File \"c:\\NeueFische\\ds-bootcamp-capstone-project\\.venv\\Lib\\site-packages\\xgboost\\sklearn.py\", line 1081, in fit\n    train_dmatrix, evals = _wrap_evaluation_matrices(\n                           ^^^^^^^^^^^^^^^^^^^^^^^^^^\n  File \"c:\\NeueFische\\ds-bootcamp-capstone-project\\.venv\\Lib\\site-packages\\xgboost\\sklearn.py\", line 596, in _wrap_evaluation_matrices\n    train_dmatrix = create_dmatrix(\n                    ^^^^^^^^^^^^^^^\n  File \"c:\\NeueFische\\ds-bootcamp-capstone-project\\.venv\\Lib\\site-packages\\xgboost\\sklearn.py\", line 1003, in _create_dmatrix\n    return QuantileDMatrix(\n           ^^^^^^^^^^^^^^^^\n  File \"c:\\NeueFische\\ds-bootcamp-capstone-project\\.venv\\Lib\\site-packages\\xgboost\\core.py\", line 726, in inner_f\n    return func(**kwargs)\n           ^^^^^^^^^^^^^^\n  File \"c:\\NeueFische\\ds-bootcamp-capstone-project\\.venv\\Lib\\site-packages\\xgboost\\core.py\", line 1573, in __init__\n    self._init(\n  File \"c:\\NeueFische\\ds-bootcamp-capstone-project\\.venv\\Lib\\site-packages\\xgboost\\core.py\", line 1632, in _init\n    it.reraise()\n  File \"c:\\NeueFische\\ds-bootcamp-capstone-project\\.venv\\Lib\\site-packages\\xgboost\\core.py\", line 569, in reraise\n    raise exc  # pylint: disable=raising-bad-type\n    ^^^^^^^^^\n  File \"c:\\NeueFische\\ds-bootcamp-capstone-project\\.venv\\Lib\\site-packages\\xgboost\\core.py\", line 550, in _handle_exception\n    return fn()\n           ^^^^\n  File \"c:\\NeueFische\\ds-bootcamp-capstone-project\\.venv\\Lib\\site-packages\\xgboost\\core.py\", line 637, in <lambda>\n    return self._handle_exception(lambda: self.next(input_data), 0)\n                                          ^^^^^^^^^^^^^^^^^^^^^\n  File \"c:\\NeueFische\\ds-bootcamp-capstone-project\\.venv\\Lib\\site-packages\\xgboost\\data.py\", line 1416, in next\n    input_data(**self.kwargs)\n  File \"c:\\NeueFische\\ds-bootcamp-capstone-project\\.venv\\Lib\\site-packages\\xgboost\\core.py\", line 726, in inner_f\n    return func(**kwargs)\n           ^^^^^^^^^^^^^^\n  File \"c:\\NeueFische\\ds-bootcamp-capstone-project\\.venv\\Lib\\site-packages\\xgboost\\core.py\", line 626, in input_data\n    self.proxy.set_info(\n  File \"c:\\NeueFische\\ds-bootcamp-capstone-project\\.venv\\Lib\\site-packages\\xgboost\\core.py\", line 726, in inner_f\n    return func(**kwargs)\n           ^^^^^^^^^^^^^^\n  File \"c:\\NeueFische\\ds-bootcamp-capstone-project\\.venv\\Lib\\site-packages\\xgboost\\core.py\", line 954, in set_info\n    self.set_label(label)\n  File \"c:\\NeueFische\\ds-bootcamp-capstone-project\\.venv\\Lib\\site-packages\\xgboost\\core.py\", line 1092, in set_label\n    dispatch_meta_backend(self, label, \"label\", \"float\")\n  File \"c:\\NeueFische\\ds-bootcamp-capstone-project\\.venv\\Lib\\site-packages\\xgboost\\data.py\", line 1362, in dispatch_meta_backend\n    _meta_from_pandas_series(data, name, dtype, handle)\n  File \"c:\\NeueFische\\ds-bootcamp-capstone-project\\.venv\\Lib\\site-packages\\xgboost\\data.py\", line 679, in _meta_from_pandas_series\n    _meta_from_numpy(data, name, dtype, handle)\n  File \"c:\\NeueFische\\ds-bootcamp-capstone-project\\.venv\\Lib\\site-packages\\xgboost\\data.py\", line 1295, in _meta_from_numpy\n    _check_call(_LIB.XGDMatrixSetInfoFromInterface(handle, c_str(field), interface_str))\n  File \"c:\\NeueFische\\ds-bootcamp-capstone-project\\.venv\\Lib\\site-packages\\xgboost\\core.py\", line 284, in _check_call\n    raise XGBoostError(py_str(_LIB.XGBGetLastError()))\nxgboost.core.XGBoostError: [16:35:56] C:\\buildkite-agent\\builds\\buildkite-windows-cpu-autoscaling-group-i-0015a694724fa8361-1\\xgboost\\xgboost-ci-windows\\src\\data\\data.cc:514: Check failed: valid: Label contains NaN, infinity or a value too large.\n\n--------------------------------------------------------------------------------\n91 fits failed with the following error:\nTraceback (most recent call last):\n  File \"c:\\NeueFische\\ds-bootcamp-capstone-project\\.venv\\Lib\\site-packages\\sklearn\\model_selection\\_validation.py\", line 686, in _fit_and_score\n    estimator.fit(X_train, y_train, **fit_params)\n  File \"c:\\NeueFische\\ds-bootcamp-capstone-project\\.venv\\Lib\\site-packages\\xgboost\\core.py\", line 726, in inner_f\n    return func(**kwargs)\n           ^^^^^^^^^^^^^^\n  File \"c:\\NeueFische\\ds-bootcamp-capstone-project\\.venv\\Lib\\site-packages\\xgboost\\sklearn.py\", line 1081, in fit\n    train_dmatrix, evals = _wrap_evaluation_matrices(\n                           ^^^^^^^^^^^^^^^^^^^^^^^^^^\n  File \"c:\\NeueFische\\ds-bootcamp-capstone-project\\.venv\\Lib\\site-packages\\xgboost\\sklearn.py\", line 596, in _wrap_evaluation_matrices\n    train_dmatrix = create_dmatrix(\n                    ^^^^^^^^^^^^^^^\n  File \"c:\\NeueFische\\ds-bootcamp-capstone-project\\.venv\\Lib\\site-packages\\xgboost\\sklearn.py\", line 1003, in _create_dmatrix\n    return QuantileDMatrix(\n           ^^^^^^^^^^^^^^^^\n  File \"c:\\NeueFische\\ds-bootcamp-capstone-project\\.venv\\Lib\\site-packages\\xgboost\\core.py\", line 726, in inner_f\n    return func(**kwargs)\n           ^^^^^^^^^^^^^^\n  File \"c:\\NeueFische\\ds-bootcamp-capstone-project\\.venv\\Lib\\site-packages\\xgboost\\core.py\", line 1573, in __init__\n    self._init(\n  File \"c:\\NeueFische\\ds-bootcamp-capstone-project\\.venv\\Lib\\site-packages\\xgboost\\core.py\", line 1632, in _init\n    it.reraise()\n  File \"c:\\NeueFische\\ds-bootcamp-capstone-project\\.venv\\Lib\\site-packages\\xgboost\\core.py\", line 569, in reraise\n    raise exc  # pylint: disable=raising-bad-type\n    ^^^^^^^^^\n  File \"c:\\NeueFische\\ds-bootcamp-capstone-project\\.venv\\Lib\\site-packages\\xgboost\\core.py\", line 550, in _handle_exception\n    return fn()\n           ^^^^\n  File \"c:\\NeueFische\\ds-bootcamp-capstone-project\\.venv\\Lib\\site-packages\\xgboost\\core.py\", line 637, in <lambda>\n    return self._handle_exception(lambda: self.next(input_data), 0)\n                                          ^^^^^^^^^^^^^^^^^^^^^\n  File \"c:\\NeueFische\\ds-bootcamp-capstone-project\\.venv\\Lib\\site-packages\\xgboost\\data.py\", line 1416, in next\n    input_data(**self.kwargs)\n  File \"c:\\NeueFische\\ds-bootcamp-capstone-project\\.venv\\Lib\\site-packages\\xgboost\\core.py\", line 726, in inner_f\n    return func(**kwargs)\n           ^^^^^^^^^^^^^^\n  File \"c:\\NeueFische\\ds-bootcamp-capstone-project\\.venv\\Lib\\site-packages\\xgboost\\core.py\", line 626, in input_data\n    self.proxy.set_info(\n  File \"c:\\NeueFische\\ds-bootcamp-capstone-project\\.venv\\Lib\\site-packages\\xgboost\\core.py\", line 726, in inner_f\n    return func(**kwargs)\n           ^^^^^^^^^^^^^^\n  File \"c:\\NeueFische\\ds-bootcamp-capstone-project\\.venv\\Lib\\site-packages\\xgboost\\core.py\", line 954, in set_info\n    self.set_label(label)\n  File \"c:\\NeueFische\\ds-bootcamp-capstone-project\\.venv\\Lib\\site-packages\\xgboost\\core.py\", line 1092, in set_label\n    dispatch_meta_backend(self, label, \"label\", \"float\")\n  File \"c:\\NeueFische\\ds-bootcamp-capstone-project\\.venv\\Lib\\site-packages\\xgboost\\data.py\", line 1362, in dispatch_meta_backend\n    _meta_from_pandas_series(data, name, dtype, handle)\n  File \"c:\\NeueFische\\ds-bootcamp-capstone-project\\.venv\\Lib\\site-packages\\xgboost\\data.py\", line 679, in _meta_from_pandas_series\n    _meta_from_numpy(data, name, dtype, handle)\n  File \"c:\\NeueFische\\ds-bootcamp-capstone-project\\.venv\\Lib\\site-packages\\xgboost\\data.py\", line 1295, in _meta_from_numpy\n    _check_call(_LIB.XGDMatrixSetInfoFromInterface(handle, c_str(field), interface_str))\n  File \"c:\\NeueFische\\ds-bootcamp-capstone-project\\.venv\\Lib\\site-packages\\xgboost\\core.py\", line 284, in _check_call\n    raise XGBoostError(py_str(_LIB.XGBGetLastError()))\nxgboost.core.XGBoostError: [16:35:57] C:\\buildkite-agent\\builds\\buildkite-windows-cpu-autoscaling-group-i-0015a694724fa8361-1\\xgboost\\xgboost-ci-windows\\src\\data\\data.cc:514: Check failed: valid: Label contains NaN, infinity or a value too large.\n\n--------------------------------------------------------------------------------\n90 fits failed with the following error:\nTraceback (most recent call last):\n  File \"c:\\NeueFische\\ds-bootcamp-capstone-project\\.venv\\Lib\\site-packages\\sklearn\\model_selection\\_validation.py\", line 686, in _fit_and_score\n    estimator.fit(X_train, y_train, **fit_params)\n  File \"c:\\NeueFische\\ds-bootcamp-capstone-project\\.venv\\Lib\\site-packages\\xgboost\\core.py\", line 726, in inner_f\n    return func(**kwargs)\n           ^^^^^^^^^^^^^^\n  File \"c:\\NeueFische\\ds-bootcamp-capstone-project\\.venv\\Lib\\site-packages\\xgboost\\sklearn.py\", line 1081, in fit\n    train_dmatrix, evals = _wrap_evaluation_matrices(\n                           ^^^^^^^^^^^^^^^^^^^^^^^^^^\n  File \"c:\\NeueFische\\ds-bootcamp-capstone-project\\.venv\\Lib\\site-packages\\xgboost\\sklearn.py\", line 596, in _wrap_evaluation_matrices\n    train_dmatrix = create_dmatrix(\n                    ^^^^^^^^^^^^^^^\n  File \"c:\\NeueFische\\ds-bootcamp-capstone-project\\.venv\\Lib\\site-packages\\xgboost\\sklearn.py\", line 1003, in _create_dmatrix\n    return QuantileDMatrix(\n           ^^^^^^^^^^^^^^^^\n  File \"c:\\NeueFische\\ds-bootcamp-capstone-project\\.venv\\Lib\\site-packages\\xgboost\\core.py\", line 726, in inner_f\n    return func(**kwargs)\n           ^^^^^^^^^^^^^^\n  File \"c:\\NeueFische\\ds-bootcamp-capstone-project\\.venv\\Lib\\site-packages\\xgboost\\core.py\", line 1573, in __init__\n    self._init(\n  File \"c:\\NeueFische\\ds-bootcamp-capstone-project\\.venv\\Lib\\site-packages\\xgboost\\core.py\", line 1632, in _init\n    it.reraise()\n  File \"c:\\NeueFische\\ds-bootcamp-capstone-project\\.venv\\Lib\\site-packages\\xgboost\\core.py\", line 569, in reraise\n    raise exc  # pylint: disable=raising-bad-type\n    ^^^^^^^^^\n  File \"c:\\NeueFische\\ds-bootcamp-capstone-project\\.venv\\Lib\\site-packages\\xgboost\\core.py\", line 550, in _handle_exception\n    return fn()\n           ^^^^\n  File \"c:\\NeueFische\\ds-bootcamp-capstone-project\\.venv\\Lib\\site-packages\\xgboost\\core.py\", line 637, in <lambda>\n    return self._handle_exception(lambda: self.next(input_data), 0)\n                                          ^^^^^^^^^^^^^^^^^^^^^\n  File \"c:\\NeueFische\\ds-bootcamp-capstone-project\\.venv\\Lib\\site-packages\\xgboost\\data.py\", line 1416, in next\n    input_data(**self.kwargs)\n  File \"c:\\NeueFische\\ds-bootcamp-capstone-project\\.venv\\Lib\\site-packages\\xgboost\\core.py\", line 726, in inner_f\n    return func(**kwargs)\n           ^^^^^^^^^^^^^^\n  File \"c:\\NeueFische\\ds-bootcamp-capstone-project\\.venv\\Lib\\site-packages\\xgboost\\core.py\", line 626, in input_data\n    self.proxy.set_info(\n  File \"c:\\NeueFische\\ds-bootcamp-capstone-project\\.venv\\Lib\\site-packages\\xgboost\\core.py\", line 726, in inner_f\n    return func(**kwargs)\n           ^^^^^^^^^^^^^^\n  File \"c:\\NeueFische\\ds-bootcamp-capstone-project\\.venv\\Lib\\site-packages\\xgboost\\core.py\", line 954, in set_info\n    self.set_label(label)\n  File \"c:\\NeueFische\\ds-bootcamp-capstone-project\\.venv\\Lib\\site-packages\\xgboost\\core.py\", line 1092, in set_label\n    dispatch_meta_backend(self, label, \"label\", \"float\")\n  File \"c:\\NeueFische\\ds-bootcamp-capstone-project\\.venv\\Lib\\site-packages\\xgboost\\data.py\", line 1362, in dispatch_meta_backend\n    _meta_from_pandas_series(data, name, dtype, handle)\n  File \"c:\\NeueFische\\ds-bootcamp-capstone-project\\.venv\\Lib\\site-packages\\xgboost\\data.py\", line 679, in _meta_from_pandas_series\n    _meta_from_numpy(data, name, dtype, handle)\n  File \"c:\\NeueFische\\ds-bootcamp-capstone-project\\.venv\\Lib\\site-packages\\xgboost\\data.py\", line 1295, in _meta_from_numpy\n    _check_call(_LIB.XGDMatrixSetInfoFromInterface(handle, c_str(field), interface_str))\n  File \"c:\\NeueFische\\ds-bootcamp-capstone-project\\.venv\\Lib\\site-packages\\xgboost\\core.py\", line 284, in _check_call\n    raise XGBoostError(py_str(_LIB.XGBGetLastError()))\nxgboost.core.XGBoostError: [16:35:58] C:\\buildkite-agent\\builds\\buildkite-windows-cpu-autoscaling-group-i-0015a694724fa8361-1\\xgboost\\xgboost-ci-windows\\src\\data\\data.cc:514: Check failed: valid: Label contains NaN, infinity or a value too large.\n\n--------------------------------------------------------------------------------\n91 fits failed with the following error:\nTraceback (most recent call last):\n  File \"c:\\NeueFische\\ds-bootcamp-capstone-project\\.venv\\Lib\\site-packages\\sklearn\\model_selection\\_validation.py\", line 686, in _fit_and_score\n    estimator.fit(X_train, y_train, **fit_params)\n  File \"c:\\NeueFische\\ds-bootcamp-capstone-project\\.venv\\Lib\\site-packages\\xgboost\\core.py\", line 726, in inner_f\n    return func(**kwargs)\n           ^^^^^^^^^^^^^^\n  File \"c:\\NeueFische\\ds-bootcamp-capstone-project\\.venv\\Lib\\site-packages\\xgboost\\sklearn.py\", line 1081, in fit\n    train_dmatrix, evals = _wrap_evaluation_matrices(\n                           ^^^^^^^^^^^^^^^^^^^^^^^^^^\n  File \"c:\\NeueFische\\ds-bootcamp-capstone-project\\.venv\\Lib\\site-packages\\xgboost\\sklearn.py\", line 596, in _wrap_evaluation_matrices\n    train_dmatrix = create_dmatrix(\n                    ^^^^^^^^^^^^^^^\n  File \"c:\\NeueFische\\ds-bootcamp-capstone-project\\.venv\\Lib\\site-packages\\xgboost\\sklearn.py\", line 1003, in _create_dmatrix\n    return QuantileDMatrix(\n           ^^^^^^^^^^^^^^^^\n  File \"c:\\NeueFische\\ds-bootcamp-capstone-project\\.venv\\Lib\\site-packages\\xgboost\\core.py\", line 726, in inner_f\n    return func(**kwargs)\n           ^^^^^^^^^^^^^^\n  File \"c:\\NeueFische\\ds-bootcamp-capstone-project\\.venv\\Lib\\site-packages\\xgboost\\core.py\", line 1573, in __init__\n    self._init(\n  File \"c:\\NeueFische\\ds-bootcamp-capstone-project\\.venv\\Lib\\site-packages\\xgboost\\core.py\", line 1632, in _init\n    it.reraise()\n  File \"c:\\NeueFische\\ds-bootcamp-capstone-project\\.venv\\Lib\\site-packages\\xgboost\\core.py\", line 569, in reraise\n    raise exc  # pylint: disable=raising-bad-type\n    ^^^^^^^^^\n  File \"c:\\NeueFische\\ds-bootcamp-capstone-project\\.venv\\Lib\\site-packages\\xgboost\\core.py\", line 550, in _handle_exception\n    return fn()\n           ^^^^\n  File \"c:\\NeueFische\\ds-bootcamp-capstone-project\\.venv\\Lib\\site-packages\\xgboost\\core.py\", line 637, in <lambda>\n    return self._handle_exception(lambda: self.next(input_data), 0)\n                                          ^^^^^^^^^^^^^^^^^^^^^\n  File \"c:\\NeueFische\\ds-bootcamp-capstone-project\\.venv\\Lib\\site-packages\\xgboost\\data.py\", line 1416, in next\n    input_data(**self.kwargs)\n  File \"c:\\NeueFische\\ds-bootcamp-capstone-project\\.venv\\Lib\\site-packages\\xgboost\\core.py\", line 726, in inner_f\n    return func(**kwargs)\n           ^^^^^^^^^^^^^^\n  File \"c:\\NeueFische\\ds-bootcamp-capstone-project\\.venv\\Lib\\site-packages\\xgboost\\core.py\", line 626, in input_data\n    self.proxy.set_info(\n  File \"c:\\NeueFische\\ds-bootcamp-capstone-project\\.venv\\Lib\\site-packages\\xgboost\\core.py\", line 726, in inner_f\n    return func(**kwargs)\n           ^^^^^^^^^^^^^^\n  File \"c:\\NeueFische\\ds-bootcamp-capstone-project\\.venv\\Lib\\site-packages\\xgboost\\core.py\", line 954, in set_info\n    self.set_label(label)\n  File \"c:\\NeueFische\\ds-bootcamp-capstone-project\\.venv\\Lib\\site-packages\\xgboost\\core.py\", line 1092, in set_label\n    dispatch_meta_backend(self, label, \"label\", \"float\")\n  File \"c:\\NeueFische\\ds-bootcamp-capstone-project\\.venv\\Lib\\site-packages\\xgboost\\data.py\", line 1362, in dispatch_meta_backend\n    _meta_from_pandas_series(data, name, dtype, handle)\n  File \"c:\\NeueFische\\ds-bootcamp-capstone-project\\.venv\\Lib\\site-packages\\xgboost\\data.py\", line 679, in _meta_from_pandas_series\n    _meta_from_numpy(data, name, dtype, handle)\n  File \"c:\\NeueFische\\ds-bootcamp-capstone-project\\.venv\\Lib\\site-packages\\xgboost\\data.py\", line 1295, in _meta_from_numpy\n    _check_call(_LIB.XGDMatrixSetInfoFromInterface(handle, c_str(field), interface_str))\n  File \"c:\\NeueFische\\ds-bootcamp-capstone-project\\.venv\\Lib\\site-packages\\xgboost\\core.py\", line 284, in _check_call\n    raise XGBoostError(py_str(_LIB.XGBGetLastError()))\nxgboost.core.XGBoostError: [16:35:59] C:\\buildkite-agent\\builds\\buildkite-windows-cpu-autoscaling-group-i-0015a694724fa8361-1\\xgboost\\xgboost-ci-windows\\src\\data\\data.cc:514: Check failed: valid: Label contains NaN, infinity or a value too large.\n\n--------------------------------------------------------------------------------\n79 fits failed with the following error:\nTraceback (most recent call last):\n  File \"c:\\NeueFische\\ds-bootcamp-capstone-project\\.venv\\Lib\\site-packages\\sklearn\\model_selection\\_validation.py\", line 686, in _fit_and_score\n    estimator.fit(X_train, y_train, **fit_params)\n  File \"c:\\NeueFische\\ds-bootcamp-capstone-project\\.venv\\Lib\\site-packages\\xgboost\\core.py\", line 726, in inner_f\n    return func(**kwargs)\n           ^^^^^^^^^^^^^^\n  File \"c:\\NeueFische\\ds-bootcamp-capstone-project\\.venv\\Lib\\site-packages\\xgboost\\sklearn.py\", line 1081, in fit\n    train_dmatrix, evals = _wrap_evaluation_matrices(\n                           ^^^^^^^^^^^^^^^^^^^^^^^^^^\n  File \"c:\\NeueFische\\ds-bootcamp-capstone-project\\.venv\\Lib\\site-packages\\xgboost\\sklearn.py\", line 596, in _wrap_evaluation_matrices\n    train_dmatrix = create_dmatrix(\n                    ^^^^^^^^^^^^^^^\n  File \"c:\\NeueFische\\ds-bootcamp-capstone-project\\.venv\\Lib\\site-packages\\xgboost\\sklearn.py\", line 1003, in _create_dmatrix\n    return QuantileDMatrix(\n           ^^^^^^^^^^^^^^^^\n  File \"c:\\NeueFische\\ds-bootcamp-capstone-project\\.venv\\Lib\\site-packages\\xgboost\\core.py\", line 726, in inner_f\n    return func(**kwargs)\n           ^^^^^^^^^^^^^^\n  File \"c:\\NeueFische\\ds-bootcamp-capstone-project\\.venv\\Lib\\site-packages\\xgboost\\core.py\", line 1573, in __init__\n    self._init(\n  File \"c:\\NeueFische\\ds-bootcamp-capstone-project\\.venv\\Lib\\site-packages\\xgboost\\core.py\", line 1632, in _init\n    it.reraise()\n  File \"c:\\NeueFische\\ds-bootcamp-capstone-project\\.venv\\Lib\\site-packages\\xgboost\\core.py\", line 569, in reraise\n    raise exc  # pylint: disable=raising-bad-type\n    ^^^^^^^^^\n  File \"c:\\NeueFische\\ds-bootcamp-capstone-project\\.venv\\Lib\\site-packages\\xgboost\\core.py\", line 550, in _handle_exception\n    return fn()\n           ^^^^\n  File \"c:\\NeueFische\\ds-bootcamp-capstone-project\\.venv\\Lib\\site-packages\\xgboost\\core.py\", line 637, in <lambda>\n    return self._handle_exception(lambda: self.next(input_data), 0)\n                                          ^^^^^^^^^^^^^^^^^^^^^\n  File \"c:\\NeueFische\\ds-bootcamp-capstone-project\\.venv\\Lib\\site-packages\\xgboost\\data.py\", line 1416, in next\n    input_data(**self.kwargs)\n  File \"c:\\NeueFische\\ds-bootcamp-capstone-project\\.venv\\Lib\\site-packages\\xgboost\\core.py\", line 726, in inner_f\n    return func(**kwargs)\n           ^^^^^^^^^^^^^^\n  File \"c:\\NeueFische\\ds-bootcamp-capstone-project\\.venv\\Lib\\site-packages\\xgboost\\core.py\", line 626, in input_data\n    self.proxy.set_info(\n  File \"c:\\NeueFische\\ds-bootcamp-capstone-project\\.venv\\Lib\\site-packages\\xgboost\\core.py\", line 726, in inner_f\n    return func(**kwargs)\n           ^^^^^^^^^^^^^^\n  File \"c:\\NeueFische\\ds-bootcamp-capstone-project\\.venv\\Lib\\site-packages\\xgboost\\core.py\", line 954, in set_info\n    self.set_label(label)\n  File \"c:\\NeueFische\\ds-bootcamp-capstone-project\\.venv\\Lib\\site-packages\\xgboost\\core.py\", line 1092, in set_label\n    dispatch_meta_backend(self, label, \"label\", \"float\")\n  File \"c:\\NeueFische\\ds-bootcamp-capstone-project\\.venv\\Lib\\site-packages\\xgboost\\data.py\", line 1362, in dispatch_meta_backend\n    _meta_from_pandas_series(data, name, dtype, handle)\n  File \"c:\\NeueFische\\ds-bootcamp-capstone-project\\.venv\\Lib\\site-packages\\xgboost\\data.py\", line 679, in _meta_from_pandas_series\n    _meta_from_numpy(data, name, dtype, handle)\n  File \"c:\\NeueFische\\ds-bootcamp-capstone-project\\.venv\\Lib\\site-packages\\xgboost\\data.py\", line 1295, in _meta_from_numpy\n    _check_call(_LIB.XGDMatrixSetInfoFromInterface(handle, c_str(field), interface_str))\n  File \"c:\\NeueFische\\ds-bootcamp-capstone-project\\.venv\\Lib\\site-packages\\xgboost\\core.py\", line 284, in _check_call\n    raise XGBoostError(py_str(_LIB.XGBGetLastError()))\nxgboost.core.XGBoostError: [16:36:00] C:\\buildkite-agent\\builds\\buildkite-windows-cpu-autoscaling-group-i-0015a694724fa8361-1\\xgboost\\xgboost-ci-windows\\src\\data\\data.cc:514: Check failed: valid: Label contains NaN, infinity or a value too large.\n"
     ]
    }
   ],
   "source": [
    "from xgboost import XGBRegressor\n",
    "from sklearn.model_selection import train_test_split, GridSearchCV, RandomizedSearchCV\n",
    "from sklearn.metrics import mean_squared_error\n",
    "\n",
    "X = df.drop(columns=['wlc_baseline_incl_NCG'])\n",
    "y = df['wlc_baseline_incl_NCG']\n",
    "\n",
    "X_train, X_test, y_train, y_test = train_test_split(X, y, test_size=0.2, random_state=42)\n",
    "\n",
    "xgb_reg = XGBRegressor(objective='reg:squarederror', random_state=42)\n",
    "\n",
    "param_grid = {\n",
    "    'n_estimators': [50, 100, 200],\n",
    "    'learning_rate': [0.01, 0.1, 0.2],\n",
    "    'max_depth': [3, 5, 7],\n",
    "    'subsample': [0.8, 1.0],\n",
    "    'colsample_bytree': [0.8, 1.0]\n",
    "}\n",
    "\n",
    "grid_search = GridSearchCV(estimator=xgb_reg, param_grid=param_grid, scoring='neg_mean_squared_error', cv=5, verbose=1)\n",
    "\n",
    "grid_search.fit(X_train, y_train)\n",
    "\n",
    "best_params = grid_search.best_params_\n",
    "best_score = grid_search.best_score_\n",
    "print(f'Best Params: {best_params}')\n",
    "print(f'Best negative MSE (Training): {best_score}')\n",
    "\n",
    "best_model = grid_search.best_estimator_\n",
    "y_pred = best_model.predict(X_test)\n",
    "\n",
    "mse = mean_squared_error(y_test, y_pred)\n",
    "print(f'Mean Squared Error (Test): {mse}')\n"
   ]
  },
  {
   "cell_type": "code",
   "execution_count": null,
   "metadata": {},
   "outputs": [],
   "source": [
    "rmse = np.sqrt(mse)\n",
    "print(f'Root Mean Squared Error: {rmse}')"
   ]
  },
  {
   "cell_type": "code",
   "execution_count": null,
   "metadata": {},
   "outputs": [],
   "source": [
    "from sklearn.model_selection import train_test_split, GridSearchCV, RandomizedSearchCV\n",
    "from sklearn.linear_model import LinearRegression\n",
    "from sklearn.metrics import mean_squared_error\n",
    "from xgboost import XGBRegressor\n",
    "from bayes_opt import BayesianOptimization\n",
    "from hyperopt import hp, fmin, tpe"
   ]
  },
  {
   "cell_type": "code",
   "execution_count": null,
   "metadata": {},
   "outputs": [],
   "source": [
    "from sklearn.datasets import make_regression\n",
    "\n",
    "X = df[['year_duration'] + [col for col in df.columns if 'department_' in col]]\n",
    "y = df['wlc_baseline_incl_NCG']\n",
    "\n",
    "\n",
    "# Train-Test-Split\n",
    "X_train, X_test, y_train, y_test = train_test_split(X, y, test_size=0.2, random_state=42)\n",
    "\n",
    "# Define the objective function to minimize\n",
    "def xgb_eval(max_depth, learning_rate, subsample, colsample_bytree):\n",
    "    params = {\n",
    "        'max_depth': int(max_depth),\n",
    "        'learning_rate': learning_rate,\n",
    "        'subsample': subsample,\n",
    "        'colsample_bytree': colsample_bytree,\n",
    "        'n_estimators': 100,\n",
    "        'objective': 'reg:squarederror',\n",
    "        'random_state': 42,\n",
    "    }\n",
    "\n",
    "    model = XGBRegressor(**params)\n",
    "    model.fit(X_train, y_train)\n",
    "    score = model.score(X_test, y_test)\n",
    "    return score\n",
    "\n",
    "# Define the search space\n",
    "pbounds = {\n",
    "    'max_depth': (3, 10),\n",
    "    'learning_rate': (0.01, 0.3),\n",
    "    'subsample': (0.5, 1.0),\n",
    "    'colsample_bytree': (0.5, 1.0),\n",
    "}\n",
    "\n",
    "# Perform Bayesian optimization\n",
    "optimizer = BayesianOptimization(f=xgb_eval, pbounds=pbounds, random_state=42)\n",
    "optimizer.maximize(init_points=5, n_iter=25)\n",
    "\n",
    "best_params = optimizer.max['params']\n",
    "\n",
    "# Print the best hyperparameters and score\n",
    "print(f\"Best hyperparameters: {optimizer.max['params']}\")\n",
    "print(f\"Best score: {optimizer.max['target']:.4f}\")"
   ]
  },
  {
   "cell_type": "code",
   "execution_count": null,
   "metadata": {},
   "outputs": [],
   "source": [
    "from xgboost import XGBRegressor\n",
    "\n",
    "# Round best_params 'max_depth' result by saving as integer\n",
    "best_params['max_depth'] = int(best_params['max_depth'])\n",
    "\n",
    "# Initialising model with best parameters\n",
    "best_model = XGBRegressor(\n",
    "    max_depth=best_params['max_depth'],\n",
    "    learning_rate=best_params['learning_rate'],\n",
    "    subsample=best_params['subsample'],\n",
    "    colsample_bytree=best_params['colsample_bytree'],\n",
    "    n_estimators=100,\n",
    "    objective='reg:squarederror',\n",
    "    random_state=42\n",
    ")\n",
    "\n",
    "# Train the model with best parameters\n",
    "best_model.fit(X_train, y_train)"
   ]
  },
  {
   "cell_type": "code",
   "execution_count": null,
   "metadata": {},
   "outputs": [],
   "source": [
    "y_pred = best_model.predict(X_test)\n",
    "y_true = y_test\n",
    "mse = mean_squared_error(y_test, y_pred)\n",
    "print(f'Mean Squared Error (Test): {mse}')\n",
    "rmse = np.sqrt(mse)\n",
    "print(f'Root Mean Squared Error (Test): {rmse}')\n",
    "def mean_absolute_percentage_error(y_true, y_pred):\n",
    "    return np.mean(np.abs((y_true - y_pred) / y_true)) * 100\n",
    "mape = mean_absolute_percentage_error(y_true, y_pred)\n",
    "print(f\"Mean Absolute Percentage Error (MAPE): {mape:.2f}%\")"
   ]
  },
  {
   "cell_type": "code",
   "execution_count": null,
   "metadata": {},
   "outputs": [],
   "source": [
    "import pickle\n",
    "\n",
    "with open('best_model.pkl', 'wb') as file:\n",
    "    pickle.dump(best_model, file)"
   ]
  }
 ],
 "metadata": {
  "kernelspec": {
   "display_name": ".venv",
   "language": "python",
   "name": "python3"
  },
  "language_info": {
   "codemirror_mode": {
    "name": "ipython",
    "version": 3
   },
   "file_extension": ".py",
   "mimetype": "text/x-python",
   "name": "python",
   "nbconvert_exporter": "python",
   "pygments_lexer": "ipython3",
   "version": "3.11.3"
  }
 },
 "nbformat": 4,
 "nbformat_minor": 2
}
