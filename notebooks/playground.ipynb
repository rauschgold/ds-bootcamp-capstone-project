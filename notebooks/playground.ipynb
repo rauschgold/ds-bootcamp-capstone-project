{
 "cells": [
  {
   "cell_type": "code",
   "execution_count": 3,
   "metadata": {},
   "outputs": [],
   "source": [
    "import pandas as pd\n",
    "import numpy as np"
   ]
  },
  {
   "cell_type": "code",
   "execution_count": 4,
   "metadata": {},
   "outputs": [],
   "source": [
    "df_2023 = pd.read_csv('../data/raw_data/uk_2023.csv', encoding='iso-8859-2', delimiter=';')\n",
    "df_2022 = pd.read_csv('../data/raw_data/uk_2022.csv', encoding='iso-8859-2', delimiter=';')\n",
    "df_2021 = pd.read_csv('../data/raw_data/uk_2021.csv', encoding='iso-8859-2', delimiter=';')\n"
   ]
  },
  {
   "cell_type": "code",
   "execution_count": 5,
   "metadata": {},
   "outputs": [],
   "source": [
    "result = pd.concat([df_2023, df_2022, df_2021], axis=0, ignore_index=True)"
   ]
  },
  {
   "cell_type": "code",
   "execution_count": 6,
   "metadata": {},
   "outputs": [],
   "source": [
    "result['colour_rating_new'] = result['colour_rating'].combine_first(result['colour_rating.1'])\n"
   ]
  },
  {
   "cell_type": "code",
   "execution_count": 7,
   "metadata": {},
   "outputs": [],
   "source": [
    "result = result.drop(columns=['colour_rating', 'colour_rating.1'])"
   ]
  },
  {
   "cell_type": "code",
   "execution_count": 8,
   "metadata": {},
   "outputs": [],
   "source": [
    "result['total_baseline'] = result['total_baseline'].str.replace('Ł', '', regex=False)"
   ]
  },
  {
   "cell_type": "code",
   "execution_count": 9,
   "metadata": {},
   "outputs": [],
   "source": [
    "result['total_baseline'] = pd.to_numeric(result['total_baseline'], errors='coerce')"
   ]
  },
  {
   "cell_type": "code",
   "execution_count": 10,
   "metadata": {},
   "outputs": [
    {
     "name": "stderr",
     "output_type": "stream",
     "text": [
      "C:\\Users\\fraus\\AppData\\Local\\Temp\\ipykernel_32740\\2580846696.py:1: UserWarning: Parsing dates in %d.%m.%Y format when dayfirst=False (the default) was specified. Pass `dayfirst=True` or specify a format to silence this warning.\n",
      "  result['start_date'] = pd.to_datetime(result['start_date'], errors='coerce')\n"
     ]
    }
   ],
   "source": [
    "result['start_date'] = pd.to_datetime(result['start_date'], errors='coerce')"
   ]
  },
  {
   "cell_type": "code",
   "execution_count": 11,
   "metadata": {},
   "outputs": [
    {
     "name": "stderr",
     "output_type": "stream",
     "text": [
      "C:\\Users\\fraus\\AppData\\Local\\Temp\\ipykernel_32740\\628838394.py:1: UserWarning: Parsing dates in %d.%m.%Y format when dayfirst=False (the default) was specified. Pass `dayfirst=True` or specify a format to silence this warning.\n",
      "  result['end_date'] = pd.to_datetime(result['end_date'], errors='coerce')\n"
     ]
    }
   ],
   "source": [
    "result['end_date'] = pd.to_datetime(result['end_date'], errors='coerce')"
   ]
  },
  {
   "cell_type": "code",
   "execution_count": 12,
   "metadata": {},
   "outputs": [
    {
     "data": {
      "text/plain": [
       "Index(['year', 'project_number', 'project_name', 'department',\n",
       "       'report_category', 'description_aims', 'rating_comment', 'start_date',\n",
       "       'end_date', 'schedule_comment', 'total_baseline', 'forecast_incl_NGC',\n",
       "       'variance_comment', 'wlc_baseline_incl_NCG', 'budget_comment',\n",
       "       'TOTAL Baseline Benefits (Łm)', 'benefits_comment', 'yearly_forecast',\n",
       "       'colour_rating_new'],\n",
       "      dtype='object')"
      ]
     },
     "execution_count": 12,
     "metadata": {},
     "output_type": "execute_result"
    }
   ],
   "source": [
    "result.columns"
   ]
  },
  {
   "cell_type": "code",
   "execution_count": 13,
   "metadata": {},
   "outputs": [],
   "source": [
    "result['forecast_incl_NGC'] = result['forecast_incl_NGC'].str.replace('Ł', '', regex=False)\n",
    "result['forecast_incl_NGC'] = pd.to_numeric(result['forecast_incl_NGC'], errors='coerce')"
   ]
  },
  {
   "cell_type": "code",
   "execution_count": 14,
   "metadata": {},
   "outputs": [],
   "source": [
    "result['wlc_baseline_incl_NCG'] = result['wlc_baseline_incl_NCG'].str.replace('Ł', '', regex=False)\n",
    "result['wlc_baseline_incl_NCG'] = pd.to_numeric(result['wlc_baseline_incl_NCG'], errors='coerce')"
   ]
  },
  {
   "cell_type": "code",
   "execution_count": 15,
   "metadata": {},
   "outputs": [],
   "source": [
    "result['TOTAL Baseline Benefits (Łm)'] = result['TOTAL Baseline Benefits (Łm)'].str.replace('Ł', '', regex=False)\n",
    "result['TOTAL Baseline Benefits (Łm)'] = pd.to_numeric(result['TOTAL Baseline Benefits (Łm)'], errors='coerce')"
   ]
  },
  {
   "cell_type": "code",
   "execution_count": 16,
   "metadata": {},
   "outputs": [],
   "source": [
    "result['yearly_forecast'] = result['yearly_forecast'].str.replace('Ł', '', regex=False)\n",
    "result['yearly_forecast'] = pd.to_numeric(result['yearly_forecast'], errors='coerce')"
   ]
  },
  {
   "cell_type": "code",
   "execution_count": 17,
   "metadata": {},
   "outputs": [],
   "source": [
    "allowed_values = ['Amber', 'Green', 'Red', 'Amber/red', 'Amber/Green']\n",
    "result['colour_rating_new'] = result['colour_rating_new'].apply(lambda x: x if x in allowed_values else np.nan)"
   ]
  },
  {
   "cell_type": "code",
   "execution_count": 18,
   "metadata": {},
   "outputs": [
    {
     "data": {
      "text/plain": [
       "array(['Amber', 'Green', 'Red', nan, 'Amber/red', 'Amber/Green'],\n",
       "      dtype=object)"
      ]
     },
     "execution_count": 18,
     "metadata": {},
     "output_type": "execute_result"
    }
   ],
   "source": [
    "result['colour_rating_new'].unique()"
   ]
  },
  {
   "cell_type": "code",
   "execution_count": 19,
   "metadata": {},
   "outputs": [],
   "source": [
    "result = result.rename(columns={'colour_rating_new': 'colour_rating'})"
   ]
  },
  {
   "cell_type": "code",
   "execution_count": 20,
   "metadata": {},
   "outputs": [],
   "source": [
    "result['yearly_budget'] = np.nan"
   ]
  },
  {
   "cell_type": "code",
   "execution_count": 22,
   "metadata": {},
   "outputs": [],
   "source": [
    "result['yearly_forecast_new'] = result['yearly_forecast'].combine_first(result['forecast_incl_NGC'])"
   ]
  },
  {
   "cell_type": "code",
   "execution_count": 24,
   "metadata": {},
   "outputs": [
    {
     "data": {
      "text/plain": [
       "Index(['year', 'project_number', 'project_name', 'department',\n",
       "       'report_category', 'description_aims', 'rating_comment', 'start_date',\n",
       "       'end_date', 'schedule_comment', 'total_baseline', 'forecast_incl_NGC',\n",
       "       'variance_comment', 'wlc_baseline_incl_NCG', 'budget_comment',\n",
       "       'TOTAL Baseline Benefits (Łm)', 'benefits_comment', 'yearly_forecast',\n",
       "       'colour_rating', 'yearly_budget', 'yearly_forecast_new'],\n",
       "      dtype='object')"
      ]
     },
     "execution_count": 24,
     "metadata": {},
     "output_type": "execute_result"
    }
   ],
   "source": [
    "result.columns"
   ]
  },
  {
   "cell_type": "code",
   "execution_count": 27,
   "metadata": {},
   "outputs": [],
   "source": [
    "result = result.drop(columns=['yearly_forecast', 'forecast_incl_NGC'])"
   ]
  },
  {
   "cell_type": "code",
   "execution_count": 28,
   "metadata": {},
   "outputs": [],
   "source": [
    "result = result.rename(columns={'yearly_forecast_new': 'yearly_forecast'})"
   ]
  },
  {
   "cell_type": "code",
   "execution_count": 35,
   "metadata": {},
   "outputs": [
    {
     "data": {
      "text/plain": [
       "Index(['year', 'project_number', 'project_name', 'department',\n",
       "       'report_category', 'description_aims', 'rating_comment', 'start_date',\n",
       "       'end_date', 'schedule_comment', 'total_baseline', 'variance_comment',\n",
       "       'wlc_baseline_incl_NCG', 'budget_comment',\n",
       "       'TOTAL Baseline Benefits (Łm)', 'benefits_comment', 'colour_rating',\n",
       "       'yearly_budget', 'yearly_forecast'],\n",
       "      dtype='object')"
      ]
     },
     "execution_count": 35,
     "metadata": {},
     "output_type": "execute_result"
    }
   ],
   "source": [
    "result.columns"
   ]
  },
  {
   "cell_type": "code",
   "execution_count": 37,
   "metadata": {},
   "outputs": [],
   "source": [
    "result = result.drop(columns=['yearly_budget'])"
   ]
  },
  {
   "cell_type": "code",
   "execution_count": 38,
   "metadata": {},
   "outputs": [],
   "source": [
    "result = result.rename(columns={'total_baseline': 'yearly_budget'})"
   ]
  },
  {
   "cell_type": "code",
   "execution_count": 39,
   "metadata": {},
   "outputs": [],
   "source": [
    "column_order = ['project_name','department','colour_rating','description_aims','rating_comment','start_date','end_date','schedule_comment','yearly_budget','yearly_forecast','wlc_baseline_incl_NCG','variance_comment','budget_comment','year','report_category','project_number','TOTAL Baseline Benefits (Łm)','benefits_comment']"
   ]
  },
  {
   "cell_type": "code",
   "execution_count": 41,
   "metadata": {},
   "outputs": [],
   "source": [
    "result = result[column_order]"
   ]
  },
  {
   "cell_type": "code",
   "execution_count": 43,
   "metadata": {},
   "outputs": [],
   "source": [
    "result.to_csv('../data/raw_data/2021_2023.csv')"
   ]
  },
  {
   "cell_type": "code",
   "execution_count": 49,
   "metadata": {},
   "outputs": [],
   "source": [
    "df_rauschgold = pd.read_csv('../data/raw_data/2021_2023.csv')\n",
    "df_emna = pd.read_csv('df_2014_2017.csv')"
   ]
  },
  {
   "cell_type": "code",
   "execution_count": 50,
   "metadata": {},
   "outputs": [],
   "source": [
    "result = pd.concat([df_rauschgold, df_emna], axis=0, ignore_index=True)"
   ]
  },
  {
   "cell_type": "code",
   "execution_count": 52,
   "metadata": {},
   "outputs": [
    {
     "data": {
      "text/plain": [
       "Index(['Unnamed: 0', 'project_name', 'department', 'colour_rating',\n",
       "       'description_aims', 'rating_comment', 'start_date', 'end_date',\n",
       "       'schedule_comment', 'yearly_budget', 'yearly_forecast',\n",
       "       'wlc_baseline_incl_NCG', 'variance_comment', 'budget_comment', 'year',\n",
       "       'report_category', 'project_number', 'TOTAL Baseline Benefits (Łm)',\n",
       "       'benefits_comment'],\n",
       "      dtype='object')"
      ]
     },
     "execution_count": 52,
     "metadata": {},
     "output_type": "execute_result"
    }
   ],
   "source": [
    "result.columns"
   ]
  },
  {
   "cell_type": "code",
   "execution_count": 54,
   "metadata": {},
   "outputs": [],
   "source": [
    "result = result.drop(columns=['Unnamed: 0'])"
   ]
  },
  {
   "cell_type": "code",
   "execution_count": 56,
   "metadata": {},
   "outputs": [],
   "source": [
    "result.to_csv('emna_franzi.csv')"
   ]
  },
  {
   "cell_type": "code",
   "execution_count": 66,
   "metadata": {},
   "outputs": [],
   "source": [
    "df1 = pd.read_csv('../data/raw_data/2021_2023.csv')\n",
    "df2 = pd.read_csv('../data/raw_data/df_2014_2017.csv')\n",
    "df3= pd.read_csv('../data/raw_data/uk_2018-2020.csv')"
   ]
  },
  {
   "cell_type": "code",
   "execution_count": 67,
   "metadata": {},
   "outputs": [],
   "source": [
    "result = pd.concat([df1, df2, df3], axis=0, ignore_index=True)"
   ]
  },
  {
   "cell_type": "code",
   "execution_count": 68,
   "metadata": {},
   "outputs": [],
   "source": [
    "result = result.drop(columns=['Unnamed: 0'])"
   ]
  },
  {
   "cell_type": "code",
   "execution_count": 69,
   "metadata": {},
   "outputs": [],
   "source": [
    "result.to_csv('dataset_EDA.csv')"
   ]
  },
  {
   "cell_type": "code",
   "execution_count": 65,
   "metadata": {},
   "outputs": [
    {
     "data": {
      "text/html": [
       "<div>\n",
       "<style scoped>\n",
       "    .dataframe tbody tr th:only-of-type {\n",
       "        vertical-align: middle;\n",
       "    }\n",
       "\n",
       "    .dataframe tbody tr th {\n",
       "        vertical-align: top;\n",
       "    }\n",
       "\n",
       "    .dataframe thead th {\n",
       "        text-align: right;\n",
       "    }\n",
       "</style>\n",
       "<table border=\"1\" class=\"dataframe\">\n",
       "  <thead>\n",
       "    <tr style=\"text-align: right;\">\n",
       "      <th></th>\n",
       "      <th>Unnamed: 0</th>\n",
       "      <th>project_name</th>\n",
       "      <th>department</th>\n",
       "      <th>colour_rating</th>\n",
       "      <th>description_aims</th>\n",
       "      <th>rating_comment</th>\n",
       "      <th>start_date</th>\n",
       "      <th>end_date</th>\n",
       "      <th>schedule_comment</th>\n",
       "      <th>yearly_budget</th>\n",
       "      <th>yearly_forecast</th>\n",
       "      <th>wlc_baseline_incl_NCG</th>\n",
       "      <th>variance_comment</th>\n",
       "      <th>budget_comment</th>\n",
       "      <th>year</th>\n",
       "      <th>report_category</th>\n",
       "      <th>project_number</th>\n",
       "      <th>TOTAL Baseline Benefits (Łm)</th>\n",
       "      <th>benefits_comment</th>\n",
       "    </tr>\n",
       "  </thead>\n",
       "  <tbody>\n",
       "    <tr>\n",
       "      <th>0</th>\n",
       "      <td>0</td>\n",
       "      <td>Civil Service Pensions 2015 Remedy</td>\n",
       "      <td>CO</td>\n",
       "      <td>Amber</td>\n",
       "      <td>The 2015 Pensions Remedy Programme was created...</td>\n",
       "      <td>Compared to financial year 21/22-Q4, the Deliv...</td>\n",
       "      <td>2020-05-20</td>\n",
       "      <td>2024-09-30</td>\n",
       "      <td>Compared to financial year 21/22-Q4, the proje...</td>\n",
       "      <td>7.9</td>\n",
       "      <td>4.2</td>\n",
       "      <td>34.0</td>\n",
       "      <td>The budget variance exceeds 5%. This is primar...</td>\n",
       "      <td>Compared to financial year 21/22-Q4, the proje...</td>\n",
       "      <td>2023.0</td>\n",
       "      <td>Government Transformation and Service Delivery</td>\n",
       "      <td>CO_0024_2021-Q2</td>\n",
       "      <td>NaN</td>\n",
       "      <td>The project did not provide departmental-agree...</td>\n",
       "    </tr>\n",
       "    <tr>\n",
       "      <th>1</th>\n",
       "      <td>1</td>\n",
       "      <td>Commercial Capability Expansion Programme</td>\n",
       "      <td>CO</td>\n",
       "      <td>Amber</td>\n",
       "      <td>The original Commercial Capability Programme s...</td>\n",
       "      <td>Compared to financial year 21/22-Q4, the  Seni...</td>\n",
       "      <td>2017-04-01</td>\n",
       "      <td>2023-03-31</td>\n",
       "      <td>Compared to financial year 21/22-Q4, the proje...</td>\n",
       "      <td>3.7</td>\n",
       "      <td>3.1</td>\n",
       "      <td>26.0</td>\n",
       "      <td>The budget variance exceeds 5%. We are continu...</td>\n",
       "      <td>Compared to financial year 21/22-Q4, the proje...</td>\n",
       "      <td>2023.0</td>\n",
       "      <td>Government Transformation and Service Delivery</td>\n",
       "      <td>CO_0020_1718-Q4</td>\n",
       "      <td>NaN</td>\n",
       "      <td>The project did not provide departmental-agree...</td>\n",
       "    </tr>\n",
       "    <tr>\n",
       "      <th>2</th>\n",
       "      <td>2</td>\n",
       "      <td>Falcon IT Platform Refresh and Migration</td>\n",
       "      <td>CO</td>\n",
       "      <td>Amber</td>\n",
       "      <td>Falcon is a business change programme that wil...</td>\n",
       "      <td>The Senior Responsible Owner's Delivery Confid...</td>\n",
       "      <td>2022-05-01</td>\n",
       "      <td>2025-03-31</td>\n",
       "      <td>The project's end-date at 22/23-Q4 is 2025-03-...</td>\n",
       "      <td>0.0</td>\n",
       "      <td>0.0</td>\n",
       "      <td>52.0</td>\n",
       "      <td>The programme was challenged to move at pace b...</td>\n",
       "      <td>The project's departmental-agree Whole Life Co...</td>\n",
       "      <td>2023.0</td>\n",
       "      <td>Government Transformation and Service Delivery</td>\n",
       "      <td>CO_0176_2223-Q3</td>\n",
       "      <td>60.0</td>\n",
       "      <td>The project's departmental-agree monetised ben...</td>\n",
       "    </tr>\n",
       "    <tr>\n",
       "      <th>3</th>\n",
       "      <td>3</td>\n",
       "      <td>Future Service Programme</td>\n",
       "      <td>CO</td>\n",
       "      <td>Amber</td>\n",
       "      <td>Future Services Programme is a series of procu...</td>\n",
       "      <td>Compared to financial year 21/22-Q4, the Deliv...</td>\n",
       "      <td>2020-10-01</td>\n",
       "      <td>2025-12-31</td>\n",
       "      <td>Compared to financial year 21/22-Q4, the proje...</td>\n",
       "      <td>1.6</td>\n",
       "      <td>1.7</td>\n",
       "      <td>NaN</td>\n",
       "      <td>Data already completed on GMPP</td>\n",
       "      <td>NA\\r\\nThe project did not provide data</td>\n",
       "      <td>2023.0</td>\n",
       "      <td>Government Transformation and Service Delivery</td>\n",
       "      <td>CO_0027_2021-Q4</td>\n",
       "      <td>11.0</td>\n",
       "      <td>The project's departmental-agree monetised ben...</td>\n",
       "    </tr>\n",
       "    <tr>\n",
       "      <th>4</th>\n",
       "      <td>4</td>\n",
       "      <td>GOV.UK One Login</td>\n",
       "      <td>CO</td>\n",
       "      <td>Amber</td>\n",
       "      <td>GOV.UK One Login will provide a single account...</td>\n",
       "      <td>Compared to financial year 21/22-Q4, the Infra...</td>\n",
       "      <td>2021-01-04</td>\n",
       "      <td>2025-03-31</td>\n",
       "      <td>Compared to financial year 21/22-Q4, the proje...</td>\n",
       "      <td>114.0</td>\n",
       "      <td>114.0</td>\n",
       "      <td>305.0</td>\n",
       "      <td>The programme's departmental-agree Whole Life ...</td>\n",
       "      <td>Compared to financial year 21/22-Q4, the proje...</td>\n",
       "      <td>2023.0</td>\n",
       "      <td>ICT</td>\n",
       "      <td>CO_0033_2122-Q1</td>\n",
       "      <td>1752.0</td>\n",
       "      <td>The project's departmental-agree monetised ben...</td>\n",
       "    </tr>\n",
       "    <tr>\n",
       "      <th>...</th>\n",
       "      <td>...</td>\n",
       "      <td>...</td>\n",
       "      <td>...</td>\n",
       "      <td>...</td>\n",
       "      <td>...</td>\n",
       "      <td>...</td>\n",
       "      <td>...</td>\n",
       "      <td>...</td>\n",
       "      <td>...</td>\n",
       "      <td>...</td>\n",
       "      <td>...</td>\n",
       "      <td>...</td>\n",
       "      <td>...</td>\n",
       "      <td>...</td>\n",
       "      <td>...</td>\n",
       "      <td>...</td>\n",
       "      <td>...</td>\n",
       "      <td>...</td>\n",
       "      <td>...</td>\n",
       "    </tr>\n",
       "    <tr>\n",
       "      <th>1724</th>\n",
       "      <td>1724</td>\n",
       "      <td>Shared Services (ISSC2) Evolve</td>\n",
       "      <td>MoJ</td>\n",
       "      <td>Amber/Green</td>\n",
       "      <td>The MoJ Shared Services Programmes aim is to ...</td>\n",
       "      <td>As SOP had been accepted into service, the pro...</td>\n",
       "      <td>07.09.13</td>\n",
       "      <td>05.11.15</td>\n",
       "      <td>Programme is now closed.</td>\n",
       "      <td>Ł43.86</td>\n",
       "      <td>Ł46.03</td>\n",
       "      <td>Ł398.07</td>\n",
       "      <td>Budget variance less than 5%</td>\n",
       "      <td>The Whole Life Costs (WLC) represent the move ...</td>\n",
       "      <td>2018.0</td>\n",
       "      <td>NaN</td>\n",
       "      <td>NaN</td>\n",
       "      <td>NaN</td>\n",
       "      <td>NaN</td>\n",
       "    </tr>\n",
       "    <tr>\n",
       "      <th>1725</th>\n",
       "      <td>1725</td>\n",
       "      <td>Transforming Compliance Enforcement Programme ...</td>\n",
       "      <td>MoJ</td>\n",
       "      <td>Amber/Red</td>\n",
       "      <td>The Transforming Compliance and Enforcement Pr...</td>\n",
       "      <td>The Programme was rebaselined, including costs...</td>\n",
       "      <td>04.01.16</td>\n",
       "      <td>26.04.19</td>\n",
       "      <td>The rating reflects the  HMCTS Change Portfoli...</td>\n",
       "      <td>Ł27.40</td>\n",
       "      <td>Ł27.40</td>\n",
       "      <td>Ł123.00</td>\n",
       "      <td>Budget variance less than 5%</td>\n",
       "      <td>The TCEP Resource One-off costs Ł25m consist o...</td>\n",
       "      <td>2018.0</td>\n",
       "      <td>NaN</td>\n",
       "      <td>NaN</td>\n",
       "      <td>NaN</td>\n",
       "      <td>NaN</td>\n",
       "    </tr>\n",
       "    <tr>\n",
       "      <th>1726</th>\n",
       "      <td>1726</td>\n",
       "      <td>NCA Transformation Programme</td>\n",
       "      <td>NCA</td>\n",
       "      <td>Amber</td>\n",
       "      <td>The NCA's Change Programme will enable the NCA...</td>\n",
       "      <td>The overall status of the Transformation Progr...</td>\n",
       "      <td>01.04.14</td>\n",
       "      <td>31.03.19</td>\n",
       "      <td>The schedule is still on track</td>\n",
       "      <td>Ł61.00</td>\n",
       "      <td>Ł61.00</td>\n",
       "      <td>Ł304.30</td>\n",
       "      <td>Budget variance less than 5%</td>\n",
       "      <td>The change to Whole Life Costs in the 17/18 re...</td>\n",
       "      <td>2018.0</td>\n",
       "      <td>NaN</td>\n",
       "      <td>NaN</td>\n",
       "      <td>NaN</td>\n",
       "      <td>NaN</td>\n",
       "    </tr>\n",
       "    <tr>\n",
       "      <th>1727</th>\n",
       "      <td>1727</td>\n",
       "      <td>IT Transformation Programme</td>\n",
       "      <td>NCA</td>\n",
       "      <td>Amber</td>\n",
       "      <td>IT Transformation is one of three programmes t...</td>\n",
       "      <td>Following the ITTP Gateway 2 Review in April, ...</td>\n",
       "      <td>01.04.16</td>\n",
       "      <td>31.07.22</td>\n",
       "      <td>The schedule of work remains on track</td>\n",
       "      <td>Ł38.80</td>\n",
       "      <td>Ł38.80</td>\n",
       "      <td>Ł167.68</td>\n",
       "      <td>Budget variance less than 5%</td>\n",
       "      <td>IT Transformation Programme WLC is sub-set of ...</td>\n",
       "      <td>2018.0</td>\n",
       "      <td>NaN</td>\n",
       "      <td>NaN</td>\n",
       "      <td>NaN</td>\n",
       "      <td>NaN</td>\n",
       "    </tr>\n",
       "    <tr>\n",
       "      <th>1728</th>\n",
       "      <td>1728</td>\n",
       "      <td>Census &amp; Data Collection Transformation</td>\n",
       "      <td>ONS</td>\n",
       "      <td>Amber</td>\n",
       "      <td>The Census Transformation Programme will run f...</td>\n",
       "      <td>The Programme mobilization period for Tranche ...</td>\n",
       "      <td>01.01.15</td>\n",
       "      <td>31.03.25</td>\n",
       "      <td>Tranche delivery on schedule. A Programme Assu...</td>\n",
       "      <td>Ł55.60</td>\n",
       "      <td>Ł55.01</td>\n",
       "      <td>Ł905.76</td>\n",
       "      <td>Budget variance less than 5%</td>\n",
       "      <td>The Baseline Whole Life Costs are based on Pro...</td>\n",
       "      <td>2018.0</td>\n",
       "      <td>NaN</td>\n",
       "      <td>NaN</td>\n",
       "      <td>NaN</td>\n",
       "      <td>NaN</td>\n",
       "    </tr>\n",
       "  </tbody>\n",
       "</table>\n",
       "<p>1729 rows × 19 columns</p>\n",
       "</div>"
      ],
      "text/plain": [
       "      Unnamed: 0                                       project_name   \n",
       "0              0                 Civil Service Pensions 2015 Remedy  \\\n",
       "1              1          Commercial Capability Expansion Programme   \n",
       "2              2           Falcon IT Platform Refresh and Migration   \n",
       "3              3                           Future Service Programme   \n",
       "4              4                                   GOV.UK One Login   \n",
       "...          ...                                                ...   \n",
       "1724        1724                     Shared Services (ISSC2) Evolve   \n",
       "1725        1725  Transforming Compliance Enforcement Programme ...   \n",
       "1726        1726                       NCA Transformation Programme   \n",
       "1727        1727                        IT Transformation Programme   \n",
       "1728        1728            Census & Data Collection Transformation   \n",
       "\n",
       "     department colour_rating   \n",
       "0            CO         Amber  \\\n",
       "1            CO         Amber   \n",
       "2            CO         Amber   \n",
       "3            CO         Amber   \n",
       "4            CO         Amber   \n",
       "...         ...           ...   \n",
       "1724        MoJ   Amber/Green   \n",
       "1725        MoJ     Amber/Red   \n",
       "1726        NCA         Amber   \n",
       "1727        NCA         Amber   \n",
       "1728        ONS         Amber   \n",
       "\n",
       "                                       description_aims   \n",
       "0     The 2015 Pensions Remedy Programme was created...  \\\n",
       "1     The original Commercial Capability Programme s...   \n",
       "2     Falcon is a business change programme that wil...   \n",
       "3     Future Services Programme is a series of procu...   \n",
       "4     GOV.UK One Login will provide a single account...   \n",
       "...                                                 ...   \n",
       "1724  The MoJ Shared Services Programmes aim is to ...   \n",
       "1725  The Transforming Compliance and Enforcement Pr...   \n",
       "1726  The NCA's Change Programme will enable the NCA...   \n",
       "1727  IT Transformation is one of three programmes t...   \n",
       "1728  The Census Transformation Programme will run f...   \n",
       "\n",
       "                                         rating_comment  start_date   \n",
       "0     Compared to financial year 21/22-Q4, the Deliv...  2020-05-20  \\\n",
       "1     Compared to financial year 21/22-Q4, the  Seni...  2017-04-01   \n",
       "2     The Senior Responsible Owner's Delivery Confid...  2022-05-01   \n",
       "3     Compared to financial year 21/22-Q4, the Deliv...  2020-10-01   \n",
       "4     Compared to financial year 21/22-Q4, the Infra...  2021-01-04   \n",
       "...                                                 ...         ...   \n",
       "1724  As SOP had been accepted into service, the pro...    07.09.13   \n",
       "1725  The Programme was rebaselined, including costs...    04.01.16   \n",
       "1726  The overall status of the Transformation Progr...    01.04.14   \n",
       "1727  Following the ITTP Gateway 2 Review in April, ...    01.04.16   \n",
       "1728  The Programme mobilization period for Tranche ...    01.01.15   \n",
       "\n",
       "        end_date                                   schedule_comment   \n",
       "0     2024-09-30  Compared to financial year 21/22-Q4, the proje...  \\\n",
       "1     2023-03-31  Compared to financial year 21/22-Q4, the proje...   \n",
       "2     2025-03-31  The project's end-date at 22/23-Q4 is 2025-03-...   \n",
       "3     2025-12-31  Compared to financial year 21/22-Q4, the proje...   \n",
       "4     2025-03-31  Compared to financial year 21/22-Q4, the proje...   \n",
       "...          ...                                                ...   \n",
       "1724    05.11.15                           Programme is now closed.   \n",
       "1725    26.04.19  The rating reflects the  HMCTS Change Portfoli...   \n",
       "1726    31.03.19                     The schedule is still on track   \n",
       "1727    31.07.22             The schedule of work remains on track    \n",
       "1728    31.03.25  Tranche delivery on schedule. A Programme Assu...   \n",
       "\n",
       "     yearly_budget yearly_forecast wlc_baseline_incl_NCG   \n",
       "0              7.9             4.2                  34.0  \\\n",
       "1              3.7             3.1                  26.0   \n",
       "2              0.0             0.0                  52.0   \n",
       "3              1.6             1.7                   NaN   \n",
       "4            114.0           114.0                 305.0   \n",
       "...            ...             ...                   ...   \n",
       "1724        Ł43.86          Ł46.03               Ł398.07   \n",
       "1725        Ł27.40          Ł27.40               Ł123.00   \n",
       "1726        Ł61.00          Ł61.00               Ł304.30   \n",
       "1727        Ł38.80          Ł38.80               Ł167.68   \n",
       "1728        Ł55.60          Ł55.01               Ł905.76   \n",
       "\n",
       "                                       variance_comment   \n",
       "0     The budget variance exceeds 5%. This is primar...  \\\n",
       "1     The budget variance exceeds 5%. We are continu...   \n",
       "2     The programme was challenged to move at pace b...   \n",
       "3                        Data already completed on GMPP   \n",
       "4     The programme's departmental-agree Whole Life ...   \n",
       "...                                                 ...   \n",
       "1724                       Budget variance less than 5%   \n",
       "1725                       Budget variance less than 5%   \n",
       "1726                       Budget variance less than 5%   \n",
       "1727                       Budget variance less than 5%   \n",
       "1728                       Budget variance less than 5%   \n",
       "\n",
       "                                         budget_comment    year   \n",
       "0     Compared to financial year 21/22-Q4, the proje...  2023.0  \\\n",
       "1     Compared to financial year 21/22-Q4, the proje...  2023.0   \n",
       "2     The project's departmental-agree Whole Life Co...  2023.0   \n",
       "3                NA\\r\\nThe project did not provide data  2023.0   \n",
       "4     Compared to financial year 21/22-Q4, the proje...  2023.0   \n",
       "...                                                 ...     ...   \n",
       "1724  The Whole Life Costs (WLC) represent the move ...  2018.0   \n",
       "1725  The TCEP Resource One-off costs Ł25m consist o...  2018.0   \n",
       "1726  The change to Whole Life Costs in the 17/18 re...  2018.0   \n",
       "1727  IT Transformation Programme WLC is sub-set of ...  2018.0   \n",
       "1728  The Baseline Whole Life Costs are based on Pro...  2018.0   \n",
       "\n",
       "                                     report_category   project_number   \n",
       "0     Government Transformation and Service Delivery  CO_0024_2021-Q2  \\\n",
       "1     Government Transformation and Service Delivery  CO_0020_1718-Q4   \n",
       "2     Government Transformation and Service Delivery  CO_0176_2223-Q3   \n",
       "3     Government Transformation and Service Delivery  CO_0027_2021-Q4   \n",
       "4                                                ICT  CO_0033_2122-Q1   \n",
       "...                                              ...              ...   \n",
       "1724                                             NaN              NaN   \n",
       "1725                                             NaN              NaN   \n",
       "1726                                             NaN              NaN   \n",
       "1727                                             NaN              NaN   \n",
       "1728                                             NaN              NaN   \n",
       "\n",
       "      TOTAL Baseline Benefits (Łm)   \n",
       "0                              NaN  \\\n",
       "1                              NaN   \n",
       "2                             60.0   \n",
       "3                             11.0   \n",
       "4                           1752.0   \n",
       "...                            ...   \n",
       "1724                           NaN   \n",
       "1725                           NaN   \n",
       "1726                           NaN   \n",
       "1727                           NaN   \n",
       "1728                           NaN   \n",
       "\n",
       "                                       benefits_comment  \n",
       "0     The project did not provide departmental-agree...  \n",
       "1     The project did not provide departmental-agree...  \n",
       "2     The project's departmental-agree monetised ben...  \n",
       "3     The project's departmental-agree monetised ben...  \n",
       "4     The project's departmental-agree monetised ben...  \n",
       "...                                                 ...  \n",
       "1724                                                NaN  \n",
       "1725                                                NaN  \n",
       "1726                                                NaN  \n",
       "1727                                                NaN  \n",
       "1728                                                NaN  \n",
       "\n",
       "[1729 rows x 19 columns]"
      ]
     },
     "execution_count": 65,
     "metadata": {},
     "output_type": "execute_result"
    }
   ],
   "source": [
    "df"
   ]
  },
  {
   "cell_type": "code",
   "execution_count": null,
   "metadata": {},
   "outputs": [],
   "source": []
  }
 ],
 "metadata": {
  "kernelspec": {
   "display_name": ".venv",
   "language": "python",
   "name": "python3"
  },
  "language_info": {
   "codemirror_mode": {
    "name": "ipython",
    "version": 3
   },
   "file_extension": ".py",
   "mimetype": "text/x-python",
   "name": "python",
   "nbconvert_exporter": "python",
   "pygments_lexer": "ipython3",
   "version": "3.11.3"
  }
 },
 "nbformat": 4,
 "nbformat_minor": 2
}
