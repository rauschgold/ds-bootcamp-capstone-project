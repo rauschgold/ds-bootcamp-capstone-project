{
 "cells": [
  {
   "cell_type": "code",
   "execution_count": 71,
   "metadata": {},
   "outputs": [],
   "source": [
    "import pandas as pd\n",
    "import numpy as np"
   ]
  },
  {
   "cell_type": "code",
   "execution_count": 72,
   "metadata": {},
   "outputs": [],
   "source": [
    "df_2023 = pd.read_csv('../data/raw_data/uk_2023.csv', encoding='iso-8859-2', delimiter=';')\n",
    "df_2022 = pd.read_csv('../data/raw_data/uk_2022.csv', encoding='iso-8859-2', delimiter=';')\n",
    "df_2021 = pd.read_csv('../data/raw_data/uk_2021.csv', encoding='iso-8859-2', delimiter=';')"
   ]
  },
  {
   "cell_type": "code",
   "execution_count": 73,
   "metadata": {},
   "outputs": [],
   "source": [
    "result = pd.concat([df_2023, df_2022, df_2021], axis=0, ignore_index=True)"
   ]
  },
  {
   "cell_type": "code",
   "execution_count": 74,
   "metadata": {},
   "outputs": [],
   "source": [
    "result['colour_rating_new'] = result['colour_rating'].combine_first(result['colour_rating.1'])\n"
   ]
  },
  {
   "cell_type": "code",
   "execution_count": 75,
   "metadata": {},
   "outputs": [],
   "source": [
    "result = result.drop(columns=['colour_rating', 'colour_rating.1'])"
   ]
  },
  {
   "cell_type": "code",
   "execution_count": 106,
   "metadata": {},
   "outputs": [
    {
     "data": {
      "text/html": [
       "<div>\n",
       "<style scoped>\n",
       "    .dataframe tbody tr th:only-of-type {\n",
       "        vertical-align: middle;\n",
       "    }\n",
       "\n",
       "    .dataframe tbody tr th {\n",
       "        vertical-align: top;\n",
       "    }\n",
       "\n",
       "    .dataframe thead th {\n",
       "        text-align: right;\n",
       "    }\n",
       "</style>\n",
       "<table border=\"1\" class=\"dataframe\">\n",
       "  <thead>\n",
       "    <tr style=\"text-align: right;\">\n",
       "      <th></th>\n",
       "      <th>project_name</th>\n",
       "      <th>department</th>\n",
       "      <th>colour_rating</th>\n",
       "      <th>description_aims</th>\n",
       "      <th>rating_comment</th>\n",
       "      <th>start_date</th>\n",
       "      <th>end_date</th>\n",
       "      <th>schedule_comment</th>\n",
       "      <th>yearly_budget</th>\n",
       "      <th>yearly_forecast</th>\n",
       "      <th>wlc_baseline_incl_NCG</th>\n",
       "      <th>variance_comment</th>\n",
       "      <th>budget_comment</th>\n",
       "      <th>year</th>\n",
       "      <th>report_category</th>\n",
       "      <th>project_number</th>\n",
       "      <th>total_benefits</th>\n",
       "      <th>benefits_comment</th>\n",
       "    </tr>\n",
       "  </thead>\n",
       "  <tbody>\n",
       "    <tr>\n",
       "      <th>0</th>\n",
       "      <td>Civil Service Pensions 2015 Remedy</td>\n",
       "      <td>CO</td>\n",
       "      <td>Amber</td>\n",
       "      <td>The 2015 Pensions Remedy Programme was created...</td>\n",
       "      <td>Compared to financial year 21/22-Q4, the Deliv...</td>\n",
       "      <td>2020-05-20</td>\n",
       "      <td>2024-09-30</td>\n",
       "      <td>Compared to financial year 21/22-Q4, the proje...</td>\n",
       "      <td>7.90</td>\n",
       "      <td>4.20</td>\n",
       "      <td>34.00</td>\n",
       "      <td>The budget variance exceeds 5%. This is primar...</td>\n",
       "      <td>Compared to financial year 21/22-Q4, the proje...</td>\n",
       "      <td>2023</td>\n",
       "      <td>Government Transformation and Service Delivery</td>\n",
       "      <td>CO_0024_2021-Q2</td>\n",
       "      <td>NaN</td>\n",
       "      <td>The project did not provide departmental-agree...</td>\n",
       "    </tr>\n",
       "    <tr>\n",
       "      <th>1</th>\n",
       "      <td>Commercial Capability Expansion Programme</td>\n",
       "      <td>CO</td>\n",
       "      <td>Amber</td>\n",
       "      <td>The original Commercial Capability Programme s...</td>\n",
       "      <td>Compared to financial year 21/22-Q4, the  Seni...</td>\n",
       "      <td>2017-04-01</td>\n",
       "      <td>2023-03-31</td>\n",
       "      <td>Compared to financial year 21/22-Q4, the proje...</td>\n",
       "      <td>3.70</td>\n",
       "      <td>3.10</td>\n",
       "      <td>26.00</td>\n",
       "      <td>The budget variance exceeds 5%. We are continu...</td>\n",
       "      <td>Compared to financial year 21/22-Q4, the proje...</td>\n",
       "      <td>2023</td>\n",
       "      <td>Government Transformation and Service Delivery</td>\n",
       "      <td>CO_0020_1718-Q4</td>\n",
       "      <td>NaN</td>\n",
       "      <td>The project did not provide departmental-agree...</td>\n",
       "    </tr>\n",
       "    <tr>\n",
       "      <th>2</th>\n",
       "      <td>Falcon IT Platform Refresh and Migration</td>\n",
       "      <td>CO</td>\n",
       "      <td>Amber</td>\n",
       "      <td>Falcon is a business change programme that wil...</td>\n",
       "      <td>The Senior Responsible Owner's Delivery Confid...</td>\n",
       "      <td>2022-05-01</td>\n",
       "      <td>2025-03-31</td>\n",
       "      <td>The project's end-date at 22/23-Q4 is 2025-03-...</td>\n",
       "      <td>0.00</td>\n",
       "      <td>0.00</td>\n",
       "      <td>52.00</td>\n",
       "      <td>The programme was challenged to move at pace b...</td>\n",
       "      <td>The project's departmental-agree Whole Life Co...</td>\n",
       "      <td>2023</td>\n",
       "      <td>Government Transformation and Service Delivery</td>\n",
       "      <td>CO_0176_2223-Q3</td>\n",
       "      <td>60.0</td>\n",
       "      <td>The project's departmental-agree monetised ben...</td>\n",
       "    </tr>\n",
       "    <tr>\n",
       "      <th>3</th>\n",
       "      <td>Future Service Programme</td>\n",
       "      <td>CO</td>\n",
       "      <td>Amber</td>\n",
       "      <td>Future Services Programme is a series of procu...</td>\n",
       "      <td>Compared to financial year 21/22-Q4, the Deliv...</td>\n",
       "      <td>2020-10-01</td>\n",
       "      <td>2025-12-31</td>\n",
       "      <td>Compared to financial year 21/22-Q4, the proje...</td>\n",
       "      <td>1.60</td>\n",
       "      <td>1.70</td>\n",
       "      <td>NaN</td>\n",
       "      <td>Data already completed on GMPP</td>\n",
       "      <td>NA\\r\\nThe project did not provide data</td>\n",
       "      <td>2023</td>\n",
       "      <td>Government Transformation and Service Delivery</td>\n",
       "      <td>CO_0027_2021-Q4</td>\n",
       "      <td>11.0</td>\n",
       "      <td>The project's departmental-agree monetised ben...</td>\n",
       "    </tr>\n",
       "    <tr>\n",
       "      <th>4</th>\n",
       "      <td>GOV.UK One Login</td>\n",
       "      <td>CO</td>\n",
       "      <td>Amber</td>\n",
       "      <td>GOV.UK One Login will provide a single account...</td>\n",
       "      <td>Compared to financial year 21/22-Q4, the Infra...</td>\n",
       "      <td>2021-01-04</td>\n",
       "      <td>2025-03-31</td>\n",
       "      <td>Compared to financial year 21/22-Q4, the proje...</td>\n",
       "      <td>114.00</td>\n",
       "      <td>114.00</td>\n",
       "      <td>305.00</td>\n",
       "      <td>The programme's departmental-agree Whole Life ...</td>\n",
       "      <td>Compared to financial year 21/22-Q4, the proje...</td>\n",
       "      <td>2023</td>\n",
       "      <td>ICT</td>\n",
       "      <td>CO_0033_2122-Q1</td>\n",
       "      <td>1752.0</td>\n",
       "      <td>The project's departmental-agree monetised ben...</td>\n",
       "    </tr>\n",
       "    <tr>\n",
       "      <th>...</th>\n",
       "      <td>...</td>\n",
       "      <td>...</td>\n",
       "      <td>...</td>\n",
       "      <td>...</td>\n",
       "      <td>...</td>\n",
       "      <td>...</td>\n",
       "      <td>...</td>\n",
       "      <td>...</td>\n",
       "      <td>...</td>\n",
       "      <td>...</td>\n",
       "      <td>...</td>\n",
       "      <td>...</td>\n",
       "      <td>...</td>\n",
       "      <td>...</td>\n",
       "      <td>...</td>\n",
       "      <td>...</td>\n",
       "      <td>...</td>\n",
       "      <td>...</td>\n",
       "    </tr>\n",
       "    <tr>\n",
       "      <th>658</th>\n",
       "      <td>Cerberus</td>\n",
       "      <td>HO</td>\n",
       "      <td>Amber</td>\n",
       "      <td>Border Force is making a transformative change...</td>\n",
       "      <td>The Infrastructure Project Authority's Deliver...</td>\n",
       "      <td>NaT</td>\n",
       "      <td>NaT</td>\n",
       "      <td>The project end-date is 01 April 2024. This is...</td>\n",
       "      <td>28.50</td>\n",
       "      <td>28.50</td>\n",
       "      <td>172.10</td>\n",
       "      <td>The budget variance is less than or equal to 5%.</td>\n",
       "      <td>The projects Baseline Whole Life Cost is Ł172....</td>\n",
       "      <td>2021</td>\n",
       "      <td>Government Transformation and Service Delivery</td>\n",
       "      <td>HO_0042_2021-Q3</td>\n",
       "      <td>NaN</td>\n",
       "      <td>NaN</td>\n",
       "    </tr>\n",
       "    <tr>\n",
       "      <th>659</th>\n",
       "      <td>Future Suppliers Services</td>\n",
       "      <td>HO</td>\n",
       "      <td>Amber/red</td>\n",
       "      <td>Future Supplier Services (FSS) aim is to re-pr...</td>\n",
       "      <td>The Infrastructure Project Authority's Deliver...</td>\n",
       "      <td>NaT</td>\n",
       "      <td>NaT</td>\n",
       "      <td>The project end-date is 01 May 2024. This is p...</td>\n",
       "      <td>1.20</td>\n",
       "      <td>1.20</td>\n",
       "      <td>927.50</td>\n",
       "      <td>The budget variance is less than or equal to 5%.</td>\n",
       "      <td>The projects Baseline Whole Life Cost is Ł927....</td>\n",
       "      <td>2021</td>\n",
       "      <td>Government Transformation and Service Delivery</td>\n",
       "      <td>HO_0043_2021-Q4</td>\n",
       "      <td>NaN</td>\n",
       "      <td>NaN</td>\n",
       "    </tr>\n",
       "    <tr>\n",
       "      <th>660</th>\n",
       "      <td>HMPO Transformation</td>\n",
       "      <td>HO</td>\n",
       "      <td>Amber/red</td>\n",
       "      <td>The Her Majesty's Passport Office (HMPO) Trans...</td>\n",
       "      <td>The Infrastructure Project Authority's Deliver...</td>\n",
       "      <td>NaT</td>\n",
       "      <td>NaT</td>\n",
       "      <td>The project end-date is 31 March 2022. This is...</td>\n",
       "      <td>49.28</td>\n",
       "      <td>49.28</td>\n",
       "      <td>230.77</td>\n",
       "      <td>The budget variance is less than or equal to 5%.</td>\n",
       "      <td>The projects Baseline Whole Life Cost is Ł230....</td>\n",
       "      <td>2021</td>\n",
       "      <td>Government Transformation and Service Delivery</td>\n",
       "      <td>HO_0044_2021-Q4</td>\n",
       "      <td>NaN</td>\n",
       "      <td>NaN</td>\n",
       "    </tr>\n",
       "    <tr>\n",
       "      <th>661</th>\n",
       "      <td>Local Land Charges (LLC) Programme</td>\n",
       "      <td>HMLR</td>\n",
       "      <td>Amber/Green</td>\n",
       "      <td>Deliver a single Local Land Charges (LLC) Serv...</td>\n",
       "      <td>Compared to financial year 19/20-Q2, the Infra...</td>\n",
       "      <td>NaT</td>\n",
       "      <td>NaT</td>\n",
       "      <td>Compared to financial year 19/20-Q2, the proje...</td>\n",
       "      <td>32.50</td>\n",
       "      <td>7.39</td>\n",
       "      <td>193.30</td>\n",
       "      <td>The budget variance exceeds 5%. The forecast s...</td>\n",
       "      <td>Compared to financial year 19/20-Q2, the proje...</td>\n",
       "      <td>2021</td>\n",
       "      <td>Government Transformation and Service Delivery</td>\n",
       "      <td>BIS_0015_1516-Q1</td>\n",
       "      <td>NaN</td>\n",
       "      <td>NaN</td>\n",
       "    </tr>\n",
       "    <tr>\n",
       "      <th>662</th>\n",
       "      <td>NS&amp;I Rainbow</td>\n",
       "      <td>HMT</td>\n",
       "      <td>Amber</td>\n",
       "      <td>The Programme has three key aims to;\\r\\n. Meas...</td>\n",
       "      <td>The Infrastructure Project Authority's Deliver...</td>\n",
       "      <td>NaT</td>\n",
       "      <td>NaT</td>\n",
       "      <td>The project end-date is 31 July 2024. This is ...</td>\n",
       "      <td>0.00</td>\n",
       "      <td>0.00</td>\n",
       "      <td>1158.35</td>\n",
       "      <td>The GMPP project did not provide data</td>\n",
       "      <td>The projects Baseline Whole Life Cost is Ł1158...</td>\n",
       "      <td>2021</td>\n",
       "      <td>Government Transformation and Service Delivery</td>\n",
       "      <td>HMT_0004_2021-Q2</td>\n",
       "      <td>NaN</td>\n",
       "      <td>NaN</td>\n",
       "    </tr>\n",
       "  </tbody>\n",
       "</table>\n",
       "<p>663 rows × 18 columns</p>\n",
       "</div>"
      ],
      "text/plain": [
       "                                  project_name department colour_rating   \n",
       "0           Civil Service Pensions 2015 Remedy         CO         Amber  \\\n",
       "1    Commercial Capability Expansion Programme         CO         Amber   \n",
       "2     Falcon IT Platform Refresh and Migration         CO         Amber   \n",
       "3                     Future Service Programme         CO         Amber   \n",
       "4                             GOV.UK One Login         CO         Amber   \n",
       "..                                         ...        ...           ...   \n",
       "658                                   Cerberus         HO         Amber   \n",
       "659                  Future Suppliers Services         HO     Amber/red   \n",
       "660                        HMPO Transformation         HO     Amber/red   \n",
       "661         Local Land Charges (LLC) Programme       HMLR   Amber/Green   \n",
       "662                               NS&I Rainbow        HMT         Amber   \n",
       "\n",
       "                                      description_aims   \n",
       "0    The 2015 Pensions Remedy Programme was created...  \\\n",
       "1    The original Commercial Capability Programme s...   \n",
       "2    Falcon is a business change programme that wil...   \n",
       "3    Future Services Programme is a series of procu...   \n",
       "4    GOV.UK One Login will provide a single account...   \n",
       "..                                                 ...   \n",
       "658  Border Force is making a transformative change...   \n",
       "659  Future Supplier Services (FSS) aim is to re-pr...   \n",
       "660  The Her Majesty's Passport Office (HMPO) Trans...   \n",
       "661  Deliver a single Local Land Charges (LLC) Serv...   \n",
       "662  The Programme has three key aims to;\\r\\n. Meas...   \n",
       "\n",
       "                                        rating_comment start_date   end_date   \n",
       "0    Compared to financial year 21/22-Q4, the Deliv... 2020-05-20 2024-09-30  \\\n",
       "1    Compared to financial year 21/22-Q4, the  Seni... 2017-04-01 2023-03-31   \n",
       "2    The Senior Responsible Owner's Delivery Confid... 2022-05-01 2025-03-31   \n",
       "3    Compared to financial year 21/22-Q4, the Deliv... 2020-10-01 2025-12-31   \n",
       "4    Compared to financial year 21/22-Q4, the Infra... 2021-01-04 2025-03-31   \n",
       "..                                                 ...        ...        ...   \n",
       "658  The Infrastructure Project Authority's Deliver...        NaT        NaT   \n",
       "659  The Infrastructure Project Authority's Deliver...        NaT        NaT   \n",
       "660  The Infrastructure Project Authority's Deliver...        NaT        NaT   \n",
       "661  Compared to financial year 19/20-Q2, the Infra...        NaT        NaT   \n",
       "662  The Infrastructure Project Authority's Deliver...        NaT        NaT   \n",
       "\n",
       "                                      schedule_comment  yearly_budget   \n",
       "0    Compared to financial year 21/22-Q4, the proje...           7.90  \\\n",
       "1    Compared to financial year 21/22-Q4, the proje...           3.70   \n",
       "2    The project's end-date at 22/23-Q4 is 2025-03-...           0.00   \n",
       "3    Compared to financial year 21/22-Q4, the proje...           1.60   \n",
       "4    Compared to financial year 21/22-Q4, the proje...         114.00   \n",
       "..                                                 ...            ...   \n",
       "658  The project end-date is 01 April 2024. This is...          28.50   \n",
       "659  The project end-date is 01 May 2024. This is p...           1.20   \n",
       "660  The project end-date is 31 March 2022. This is...          49.28   \n",
       "661  Compared to financial year 19/20-Q2, the proje...          32.50   \n",
       "662  The project end-date is 31 July 2024. This is ...           0.00   \n",
       "\n",
       "     yearly_forecast  wlc_baseline_incl_NCG   \n",
       "0               4.20                  34.00  \\\n",
       "1               3.10                  26.00   \n",
       "2               0.00                  52.00   \n",
       "3               1.70                    NaN   \n",
       "4             114.00                 305.00   \n",
       "..               ...                    ...   \n",
       "658            28.50                 172.10   \n",
       "659             1.20                 927.50   \n",
       "660            49.28                 230.77   \n",
       "661             7.39                 193.30   \n",
       "662             0.00                1158.35   \n",
       "\n",
       "                                      variance_comment   \n",
       "0    The budget variance exceeds 5%. This is primar...  \\\n",
       "1    The budget variance exceeds 5%. We are continu...   \n",
       "2    The programme was challenged to move at pace b...   \n",
       "3                       Data already completed on GMPP   \n",
       "4    The programme's departmental-agree Whole Life ...   \n",
       "..                                                 ...   \n",
       "658  The budget variance is less than or equal to 5%.    \n",
       "659  The budget variance is less than or equal to 5%.    \n",
       "660  The budget variance is less than or equal to 5%.    \n",
       "661  The budget variance exceeds 5%. The forecast s...   \n",
       "662              The GMPP project did not provide data   \n",
       "\n",
       "                                        budget_comment  year   \n",
       "0    Compared to financial year 21/22-Q4, the proje...  2023  \\\n",
       "1    Compared to financial year 21/22-Q4, the proje...  2023   \n",
       "2    The project's departmental-agree Whole Life Co...  2023   \n",
       "3               NA\\r\\nThe project did not provide data  2023   \n",
       "4    Compared to financial year 21/22-Q4, the proje...  2023   \n",
       "..                                                 ...   ...   \n",
       "658  The projects Baseline Whole Life Cost is Ł172....  2021   \n",
       "659  The projects Baseline Whole Life Cost is Ł927....  2021   \n",
       "660  The projects Baseline Whole Life Cost is Ł230....  2021   \n",
       "661  Compared to financial year 19/20-Q2, the proje...  2021   \n",
       "662  The projects Baseline Whole Life Cost is Ł1158...  2021   \n",
       "\n",
       "                                    report_category    project_number   \n",
       "0    Government Transformation and Service Delivery   CO_0024_2021-Q2  \\\n",
       "1    Government Transformation and Service Delivery   CO_0020_1718-Q4   \n",
       "2    Government Transformation and Service Delivery   CO_0176_2223-Q3   \n",
       "3    Government Transformation and Service Delivery   CO_0027_2021-Q4   \n",
       "4                                               ICT   CO_0033_2122-Q1   \n",
       "..                                              ...               ...   \n",
       "658  Government Transformation and Service Delivery   HO_0042_2021-Q3   \n",
       "659  Government Transformation and Service Delivery   HO_0043_2021-Q4   \n",
       "660  Government Transformation and Service Delivery   HO_0044_2021-Q4   \n",
       "661  Government Transformation and Service Delivery  BIS_0015_1516-Q1   \n",
       "662  Government Transformation and Service Delivery  HMT_0004_2021-Q2   \n",
       "\n",
       "     total_benefits                                   benefits_comment  \n",
       "0               NaN  The project did not provide departmental-agree...  \n",
       "1               NaN  The project did not provide departmental-agree...  \n",
       "2              60.0  The project's departmental-agree monetised ben...  \n",
       "3              11.0  The project's departmental-agree monetised ben...  \n",
       "4            1752.0  The project's departmental-agree monetised ben...  \n",
       "..              ...                                                ...  \n",
       "658             NaN                                                NaN  \n",
       "659             NaN                                                NaN  \n",
       "660             NaN                                                NaN  \n",
       "661             NaN                                                NaN  \n",
       "662             NaN                                                NaN  \n",
       "\n",
       "[663 rows x 18 columns]"
      ]
     },
     "execution_count": 106,
     "metadata": {},
     "output_type": "execute_result"
    }
   ],
   "source": [
    "result"
   ]
  },
  {
   "cell_type": "markdown",
   "metadata": {},
   "source": [
    "# Cleaning text from columns"
   ]
  },
  {
   "cell_type": "code",
   "execution_count": 76,
   "metadata": {},
   "outputs": [],
   "source": [
    "result['wlc_baseline_incl_NCG'] = result['wlc_baseline_incl_NCG'].str.replace('Ł', '', regex=False)\n",
    "result['total_baseline'] = result['total_baseline'].str.replace('Ł', '', regex=False)\n",
    "result['forecast_incl_NGC'] = result['forecast_incl_NGC'].str.replace('Ł', '', regex=False)\n",
    "result['yearly_forecast'] = result['yearly_forecast'].str.replace('Ł', '', regex=False)\n",
    "result['TOTAL Baseline Benefits (Łm)'] = result['TOTAL Baseline Benefits (Łm)'].str.replace('Ł', '', regex=False)"
   ]
  },
  {
   "cell_type": "markdown",
   "metadata": {},
   "source": [
    "## Loop for cleaning many columns at once"
   ]
  },
  {
   "cell_type": "code",
   "execution_count": 77,
   "metadata": {},
   "outputs": [
    {
     "name": "stdout",
     "output_type": "stream",
     "text": [
      "     year    project_number                               project_name   \n",
      "0    2023   CO_0024_2021-Q2         Civil Service Pensions 2015 Remedy  \\\n",
      "1    2023   CO_0020_1718-Q4  Commercial Capability Expansion Programme   \n",
      "2    2023   CO_0176_2223-Q3   Falcon IT Platform Refresh and Migration   \n",
      "3    2023   CO_0027_2021-Q4                   Future Service Programme   \n",
      "4    2023   CO_0033_2122-Q1                           GOV.UK One Login   \n",
      "..    ...               ...                                        ...   \n",
      "658  2021   HO_0042_2021-Q3                                   Cerberus   \n",
      "659  2021   HO_0043_2021-Q4                  Future Suppliers Services   \n",
      "660  2021   HO_0044_2021-Q4                        HMPO Transformation   \n",
      "661  2021  BIS_0015_1516-Q1         Local Land Charges (LLC) Programme   \n",
      "662  2021  HMT_0004_2021-Q2                               NS&I Rainbow   \n",
      "\n",
      "    department                                 report_category   \n",
      "0           CO  Government Transformation and Service Delivery  \\\n",
      "1           CO  Government Transformation and Service Delivery   \n",
      "2           CO  Government Transformation and Service Delivery   \n",
      "3           CO  Government Transformation and Service Delivery   \n",
      "4           CO                                             ICT   \n",
      "..         ...                                             ...   \n",
      "658         HO  Government Transformation and Service Delivery   \n",
      "659         HO  Government Transformation and Service Delivery   \n",
      "660         HO  Government Transformation and Service Delivery   \n",
      "661       HMLR  Government Transformation and Service Delivery   \n",
      "662        HMT  Government Transformation and Service Delivery   \n",
      "\n",
      "                                      description_aims   \n",
      "0    The 2015 Pensions Remedy Programme was created...  \\\n",
      "1    The original Commercial Capability Programme s...   \n",
      "2    Falcon is a business change programme that wil...   \n",
      "3    Future Services Programme is a series of procu...   \n",
      "4    GOV.UK One Login will provide a single account...   \n",
      "..                                                 ...   \n",
      "658  Border Force is making a transformative change...   \n",
      "659  Future Supplier Services (FSS) aim is to re-pr...   \n",
      "660  The Her Majesty's Passport Office (HMPO) Trans...   \n",
      "661  Deliver a single Local Land Charges (LLC) Serv...   \n",
      "662  The Programme has three key aims to;\\r\\n. Meas...   \n",
      "\n",
      "                                        rating_comment  start_date   \n",
      "0    Compared to financial year 21/22-Q4, the Deliv...  20.05.2020  \\\n",
      "1    Compared to financial year 21/22-Q4, the  Seni...  01.04.2017   \n",
      "2    The Senior Responsible Owner's Delivery Confid...  01.05.2022   \n",
      "3    Compared to financial year 21/22-Q4, the Deliv...  01.10.2020   \n",
      "4    Compared to financial year 21/22-Q4, the Infra...  04.01.2021   \n",
      "..                                                 ...         ...   \n",
      "658  The Infrastructure Project Authority's Deliver...  2019-10-01   \n",
      "659  The Infrastructure Project Authority's Deliver...  2019-12-12   \n",
      "660  The Infrastructure Project Authority's Deliver...  2016-04-01   \n",
      "661  Compared to financial year 19/20-Q2, the Infra...  2014-03-01   \n",
      "662  The Infrastructure Project Authority's Deliver...  2019-06-03   \n",
      "\n",
      "       end_date                                   schedule_comment   \n",
      "0    30.09.2024  Compared to financial year 21/22-Q4, the proje...  \\\n",
      "1    31.03.2023  Compared to financial year 21/22-Q4, the proje...   \n",
      "2    31.03.2025  The project's end-date at 22/23-Q4 is 2025-03-...   \n",
      "3    31.12.2025  Compared to financial year 21/22-Q4, the proje...   \n",
      "4    31.03.2025  Compared to financial year 21/22-Q4, the proje...   \n",
      "..          ...                                                ...   \n",
      "658  2024-04-01  The project end-date is 01 April 2024. This is...   \n",
      "659  2024-05-01  The project end-date is 01 May 2024. This is p...   \n",
      "660  2022-03-31  The project end-date is 31 March 2022. This is...   \n",
      "661  2027-03-31  Compared to financial year 19/20-Q2, the proje...   \n",
      "662  2024-07-31  The project end-date is 31 July 2024. This is ...   \n",
      "\n",
      "    total_baseline forecast_incl_NGC   \n",
      "0              7.9               4.2  \\\n",
      "1              3.7               3.1   \n",
      "2                0                 0   \n",
      "3              1.6               1.7   \n",
      "4              114               114   \n",
      "..             ...               ...   \n",
      "658          28.50               NaN   \n",
      "659           1.20               NaN   \n",
      "660          49.28               NaN   \n",
      "661          32.50               NaN   \n",
      "662           0.00               NaN   \n",
      "\n",
      "                                      variance_comment wlc_baseline_incl_NCG   \n",
      "0    The budget variance exceeds 5%. This is primar...                    34  \\\n",
      "1    The budget variance exceeds 5%. We are continu...                    26   \n",
      "2    The programme was challenged to move at pace b...                    52   \n",
      "3                       Data already completed on GMPP                   NaN   \n",
      "4    The programme's departmental-agree Whole Life ...                   305   \n",
      "..                                                 ...                   ...   \n",
      "658  The budget variance is less than or equal to 5%.                 172.10   \n",
      "659  The budget variance is less than or equal to 5%.                 927.50   \n",
      "660  The budget variance is less than or equal to 5%.                 230.77   \n",
      "661  The budget variance exceeds 5%. The forecast s...                193.30   \n",
      "662              The GMPP project did not provide data               1158.35   \n",
      "\n",
      "                                        budget_comment   \n",
      "0    Compared to financial year 21/22-Q4, the proje...  \\\n",
      "1    Compared to financial year 21/22-Q4, the proje...   \n",
      "2    The project's departmental-agree Whole Life Co...   \n",
      "3               NA\\r\\nThe project did not provide data   \n",
      "4    Compared to financial year 21/22-Q4, the proje...   \n",
      "..                                                 ...   \n",
      "658  The projects Baseline Whole Life Cost is Ł172....   \n",
      "659  The projects Baseline Whole Life Cost is Ł927....   \n",
      "660  The projects Baseline Whole Life Cost is Ł230....   \n",
      "661  Compared to financial year 19/20-Q2, the proje...   \n",
      "662  The projects Baseline Whole Life Cost is Ł1158...   \n",
      "\n",
      "    TOTAL Baseline Benefits (Łm)   \n",
      "0                            NaN  \\\n",
      "1                            NaN   \n",
      "2                             60   \n",
      "3                             11   \n",
      "4                           1752   \n",
      "..                           ...   \n",
      "658                          NaN   \n",
      "659                          NaN   \n",
      "660                          NaN   \n",
      "661                          NaN   \n",
      "662                          NaN   \n",
      "\n",
      "                                      benefits_comment yearly_forecast   \n",
      "0    The project did not provide departmental-agree...             NaN  \\\n",
      "1    The project did not provide departmental-agree...             NaN   \n",
      "2    The project's departmental-agree monetised ben...             NaN   \n",
      "3    The project's departmental-agree monetised ben...             NaN   \n",
      "4    The project's departmental-agree monetised ben...             NaN   \n",
      "..                                                 ...             ...   \n",
      "658                                                NaN           28.50   \n",
      "659                                                NaN            1.20   \n",
      "660                                                NaN           49.28   \n",
      "661                                                NaN            7.39   \n",
      "662                                                NaN            0.00   \n",
      "\n",
      "    colour_rating_new  \n",
      "0               Amber  \n",
      "1               Amber  \n",
      "2               Amber  \n",
      "3               Amber  \n",
      "4               Amber  \n",
      "..                ...  \n",
      "658             Amber  \n",
      "659         Amber/red  \n",
      "660         Amber/red  \n",
      "661       Amber/Green  \n",
      "662             Amber  \n",
      "\n",
      "[663 rows x 19 columns]\n"
     ]
    }
   ],
   "source": [
    "# Definiere eine Funktion, die den gesamten Prozess für eine Zelle übernimmt\n",
    "def process_value(value):\n",
    "    # Erster Schritt: Versuchen, in eine Zahl zu konvertieren\n",
    "    try:\n",
    "        float(value)\n",
    "        return value\n",
    "    except ValueError:\n",
    "        pass\n",
    "    \n",
    "    # Zweiter Schritt: Ersetze ',' durch '' und versuche erneut, in eine Zahl zu konvertieren\n",
    "    try:\n",
    "        value = value.replace(',', '')\n",
    "        float(value)\n",
    "        return value\n",
    "    except (ValueError, AttributeError):\n",
    "        return np.nan\n",
    "\n",
    "# Wende die Funktion auf mehrere Spalten gleichzeitig an\n",
    "columns_to_process = ['total_baseline', 'forecast_incl_NGC', 'wlc_baseline_incl_NCG', 'TOTAL Baseline Benefits (Łm)', 'yearly_forecast']\n",
    "result[columns_to_process] = result[columns_to_process].applymap(process_value)\n",
    "\n",
    "# Zeige das Ergebnis an\n",
    "print(result)\n"
   ]
  },
  {
   "cell_type": "code",
   "execution_count": 78,
   "metadata": {},
   "outputs": [
    {
     "name": "stdout",
     "output_type": "stream",
     "text": [
      "[]\n"
     ]
    }
   ],
   "source": [
    "unique_texts = result[result['wlc_baseline_incl_NCG'].apply(is_text)]['wlc_baseline_incl_NCG'].unique()\n",
    "\n",
    "print(unique_texts)"
   ]
  },
  {
   "cell_type": "markdown",
   "metadata": {},
   "source": [
    "# Further cleaning"
   ]
  },
  {
   "cell_type": "code",
   "execution_count": 79,
   "metadata": {},
   "outputs": [
    {
     "name": "stderr",
     "output_type": "stream",
     "text": [
      "C:\\Users\\fraus\\AppData\\Local\\Temp\\ipykernel_10932\\2580846696.py:1: UserWarning: Parsing dates in %d.%m.%Y format when dayfirst=False (the default) was specified. Pass `dayfirst=True` or specify a format to silence this warning.\n",
      "  result['start_date'] = pd.to_datetime(result['start_date'], errors='coerce')\n"
     ]
    }
   ],
   "source": [
    "result['start_date'] = pd.to_datetime(result['start_date'], errors='coerce')"
   ]
  },
  {
   "cell_type": "code",
   "execution_count": 80,
   "metadata": {},
   "outputs": [
    {
     "name": "stderr",
     "output_type": "stream",
     "text": [
      "C:\\Users\\fraus\\AppData\\Local\\Temp\\ipykernel_10932\\628838394.py:1: UserWarning: Parsing dates in %d.%m.%Y format when dayfirst=False (the default) was specified. Pass `dayfirst=True` or specify a format to silence this warning.\n",
      "  result['end_date'] = pd.to_datetime(result['end_date'], errors='coerce')\n"
     ]
    }
   ],
   "source": [
    "result['end_date'] = pd.to_datetime(result['end_date'], errors='coerce')"
   ]
  },
  {
   "cell_type": "code",
   "execution_count": 81,
   "metadata": {},
   "outputs": [],
   "source": [
    "result['forecast_incl_NGC'] = pd.to_numeric(result['forecast_incl_NGC'], errors='coerce')\n",
    "result['wlc_baseline_incl_NCG'] = pd.to_numeric(result['wlc_baseline_incl_NCG'], errors='coerce')\n",
    "result['yearly_forecast'] = pd.to_numeric(result['yearly_forecast'], errors='coerce')\n",
    "result['TOTAL Baseline Benefits (Łm)'] = pd.to_numeric(result['TOTAL Baseline Benefits (Łm)'], errors='coerce')\n",
    "result['total_baseline'] = pd.to_numeric(result['total_baseline'], errors='coerce')"
   ]
  },
  {
   "cell_type": "code",
   "execution_count": 82,
   "metadata": {},
   "outputs": [],
   "source": [
    "allowed_values = ['Amber', 'Green', 'Red', 'Amber/red', 'Amber/Green']\n",
    "result['colour_rating_new'] = result['colour_rating_new'].apply(lambda x: x if x in allowed_values else np.nan)"
   ]
  },
  {
   "cell_type": "code",
   "execution_count": 83,
   "metadata": {},
   "outputs": [
    {
     "data": {
      "text/plain": [
       "array(['Amber', 'Green', 'Red', nan, 'Amber/red', 'Amber/Green'],\n",
       "      dtype=object)"
      ]
     },
     "execution_count": 83,
     "metadata": {},
     "output_type": "execute_result"
    }
   ],
   "source": [
    "result['colour_rating_new'].unique()"
   ]
  },
  {
   "cell_type": "code",
   "execution_count": 84,
   "metadata": {},
   "outputs": [],
   "source": [
    "result = result.rename(columns={'colour_rating_new': 'colour_rating'})"
   ]
  },
  {
   "cell_type": "code",
   "execution_count": 85,
   "metadata": {},
   "outputs": [],
   "source": [
    "result['yearly_budget'] = np.nan"
   ]
  },
  {
   "cell_type": "code",
   "execution_count": 86,
   "metadata": {},
   "outputs": [],
   "source": [
    "result['yearly_forecast_new'] = result['yearly_forecast'].combine_first(result['forecast_incl_NGC'])"
   ]
  },
  {
   "cell_type": "code",
   "execution_count": 87,
   "metadata": {},
   "outputs": [
    {
     "data": {
      "text/plain": [
       "Index(['year', 'project_number', 'project_name', 'department',\n",
       "       'report_category', 'description_aims', 'rating_comment', 'start_date',\n",
       "       'end_date', 'schedule_comment', 'total_baseline', 'forecast_incl_NGC',\n",
       "       'variance_comment', 'wlc_baseline_incl_NCG', 'budget_comment',\n",
       "       'TOTAL Baseline Benefits (Łm)', 'benefits_comment', 'yearly_forecast',\n",
       "       'colour_rating', 'yearly_budget', 'yearly_forecast_new'],\n",
       "      dtype='object')"
      ]
     },
     "execution_count": 87,
     "metadata": {},
     "output_type": "execute_result"
    }
   ],
   "source": [
    "result.columns"
   ]
  },
  {
   "cell_type": "code",
   "execution_count": 88,
   "metadata": {},
   "outputs": [],
   "source": [
    "result = result.drop(columns=['yearly_forecast', 'forecast_incl_NGC'])"
   ]
  },
  {
   "cell_type": "code",
   "execution_count": 89,
   "metadata": {},
   "outputs": [],
   "source": [
    "result = result.rename(columns={'yearly_forecast_new': 'yearly_forecast'})"
   ]
  },
  {
   "cell_type": "code",
   "execution_count": 90,
   "metadata": {},
   "outputs": [
    {
     "data": {
      "text/plain": [
       "Index(['year', 'project_number', 'project_name', 'department',\n",
       "       'report_category', 'description_aims', 'rating_comment', 'start_date',\n",
       "       'end_date', 'schedule_comment', 'total_baseline', 'variance_comment',\n",
       "       'wlc_baseline_incl_NCG', 'budget_comment',\n",
       "       'TOTAL Baseline Benefits (Łm)', 'benefits_comment', 'colour_rating',\n",
       "       'yearly_budget', 'yearly_forecast'],\n",
       "      dtype='object')"
      ]
     },
     "execution_count": 90,
     "metadata": {},
     "output_type": "execute_result"
    }
   ],
   "source": [
    "result.columns"
   ]
  },
  {
   "cell_type": "code",
   "execution_count": 91,
   "metadata": {},
   "outputs": [],
   "source": [
    "result = result.drop(columns=['yearly_budget'])"
   ]
  },
  {
   "cell_type": "code",
   "execution_count": 96,
   "metadata": {},
   "outputs": [],
   "source": [
    "result = result.rename(columns={'total_baseline': 'yearly_budget'})\n",
    "result = result.rename(columns={'TOTAL Baseline Benefits (Łm)': 'total_benefits'})"
   ]
  },
  {
   "cell_type": "code",
   "execution_count": 99,
   "metadata": {},
   "outputs": [],
   "source": [
    "column_order = ['project_name','department','colour_rating','description_aims','rating_comment','start_date','end_date','schedule_comment','yearly_budget','yearly_forecast','wlc_baseline_incl_NCG','variance_comment','budget_comment','year','report_category','project_number','total_benefits','benefits_comment']"
   ]
  },
  {
   "cell_type": "code",
   "execution_count": 100,
   "metadata": {},
   "outputs": [],
   "source": [
    "result = result[column_order]"
   ]
  },
  {
   "cell_type": "code",
   "execution_count": 101,
   "metadata": {},
   "outputs": [
    {
     "data": {
      "text/plain": [
       "Index(['project_name', 'department', 'colour_rating', 'description_aims',\n",
       "       'rating_comment', 'start_date', 'end_date', 'schedule_comment',\n",
       "       'yearly_budget', 'yearly_forecast', 'wlc_baseline_incl_NCG',\n",
       "       'variance_comment', 'budget_comment', 'year', 'report_category',\n",
       "       'project_number', 'total_benefits', 'benefits_comment'],\n",
       "      dtype='object')"
      ]
     },
     "execution_count": 101,
     "metadata": {},
     "output_type": "execute_result"
    }
   ],
   "source": [
    "result.columns"
   ]
  },
  {
   "cell_type": "code",
   "execution_count": 107,
   "metadata": {},
   "outputs": [
    {
     "name": "stdout",
     "output_type": "stream",
     "text": [
      "<class 'pandas.core.frame.DataFrame'>\n",
      "RangeIndex: 663 entries, 0 to 662\n",
      "Data columns (total 18 columns):\n",
      " #   Column                 Non-Null Count  Dtype         \n",
      "---  ------                 --------------  -----         \n",
      " 0   project_name           663 non-null    object        \n",
      " 1   department             663 non-null    object        \n",
      " 2   colour_rating          629 non-null    object        \n",
      " 3   description_aims       660 non-null    object        \n",
      " 4   rating_comment         662 non-null    object        \n",
      " 5   start_date             237 non-null    datetime64[ns]\n",
      " 6   end_date               214 non-null    datetime64[ns]\n",
      " 7   schedule_comment       663 non-null    object        \n",
      " 8   yearly_budget          588 non-null    float64       \n",
      " 9   yearly_forecast        590 non-null    float64       \n",
      " 10  wlc_baseline_incl_NCG  548 non-null    float64       \n",
      " 11  variance_comment       662 non-null    object        \n",
      " 12  budget_comment         663 non-null    object        \n",
      " 13  year                   663 non-null    int64         \n",
      " 14  report_category        663 non-null    object        \n",
      " 15  project_number         663 non-null    object        \n",
      " 16  total_benefits         110 non-null    float64       \n",
      " 17  benefits_comment       244 non-null    object        \n",
      "dtypes: datetime64[ns](2), float64(4), int64(1), object(11)\n",
      "memory usage: 93.4+ KB\n"
     ]
    }
   ],
   "source": [
    "result.info()"
   ]
  },
  {
   "cell_type": "code",
   "execution_count": 102,
   "metadata": {},
   "outputs": [],
   "source": [
    "result.to_csv('../data/raw_data/2021_2023.csv')"
   ]
  },
  {
   "cell_type": "code",
   "execution_count": 114,
   "metadata": {},
   "outputs": [],
   "source": [
    "result.to_pickle(\"cleaned_2021_2023.pkl\")"
   ]
  },
  {
   "cell_type": "code",
   "execution_count": null,
   "metadata": {},
   "outputs": [],
   "source": [
    "df_rauschgold = pd.read_csv('../data/raw_data/2021_2023.csv')\n",
    "df_emna = pd.read_csv('df_2014_2017.csv')"
   ]
  },
  {
   "cell_type": "code",
   "execution_count": null,
   "metadata": {},
   "outputs": [],
   "source": [
    "result = pd.concat([df_rauschgold, df_emna], axis=0, ignore_index=True)"
   ]
  },
  {
   "cell_type": "code",
   "execution_count": null,
   "metadata": {},
   "outputs": [],
   "source": [
    "result.columns"
   ]
  },
  {
   "cell_type": "code",
   "execution_count": null,
   "metadata": {},
   "outputs": [],
   "source": [
    "result = result.drop(columns=['Unnamed: 0'])"
   ]
  },
  {
   "cell_type": "code",
   "execution_count": null,
   "metadata": {},
   "outputs": [],
   "source": [
    "result.to_csv('emna_franzi.csv')"
   ]
  },
  {
   "cell_type": "code",
   "execution_count": null,
   "metadata": {},
   "outputs": [],
   "source": [
    "df1 = pd.read_csv('../data/raw_data/2021_2023.csv')\n",
    "df2 = pd.read_csv('../data/raw_data/df_2014_2017.csv')\n",
    "df3= pd.read_csv('../data/raw_data/uk_2018-2020.csv')"
   ]
  },
  {
   "cell_type": "code",
   "execution_count": null,
   "metadata": {},
   "outputs": [],
   "source": [
    "result = pd.concat([df1, df2, df3], axis=0, ignore_index=True)"
   ]
  },
  {
   "cell_type": "code",
   "execution_count": null,
   "metadata": {},
   "outputs": [],
   "source": [
    "result = result.drop(columns=['Unnamed: 0'])"
   ]
  },
  {
   "cell_type": "code",
   "execution_count": null,
   "metadata": {},
   "outputs": [],
   "source": [
    "result.to_csv('dataset_EDA.csv')"
   ]
  },
  {
   "cell_type": "code",
   "execution_count": null,
   "metadata": {},
   "outputs": [],
   "source": [
    "df"
   ]
  }
 ],
 "metadata": {
  "kernelspec": {
   "display_name": ".venv",
   "language": "python",
   "name": "python3"
  },
  "language_info": {
   "codemirror_mode": {
    "name": "ipython",
    "version": 3
   },
   "file_extension": ".py",
   "mimetype": "text/x-python",
   "name": "python",
   "nbconvert_exporter": "python",
   "pygments_lexer": "ipython3",
   "version": "3.11.3"
  }
 },
 "nbformat": 4,
 "nbformat_minor": 2
}
