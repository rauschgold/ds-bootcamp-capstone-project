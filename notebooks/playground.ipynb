{
 "cells": [
  {
   "cell_type": "code",
   "execution_count": null,
   "metadata": {},
   "outputs": [],
   "source": [
    "import pandas as pd\n",
    "import numpy as np"
   ]
  },
  {
   "cell_type": "code",
   "execution_count": null,
   "metadata": {},
   "outputs": [],
   "source": [
    "df_2023 = pd.read_csv('../data/raw_data/uk_2023.csv', encoding='iso-8859-2', delimiter=';')\n",
    "df_2022 = pd.read_csv('../data/raw_data/uk_2022.csv', encoding='iso-8859-2', delimiter=';')\n",
    "df_2021 = pd.read_csv('../data/raw_data/uk_2021.csv', encoding='iso-8859-2', delimiter=';')"
   ]
  },
  {
   "cell_type": "code",
   "execution_count": null,
   "metadata": {},
   "outputs": [],
   "source": [
    "result = pd.concat([df_2023, df_2022, df_2021], axis=0, ignore_index=True)"
   ]
  },
  {
   "cell_type": "code",
   "execution_count": null,
   "metadata": {},
   "outputs": [],
   "source": [
    "result['colour_rating_new'] = result['colour_rating'].combine_first(result['colour_rating.1'])\n"
   ]
  },
  {
   "cell_type": "code",
   "execution_count": null,
   "metadata": {},
   "outputs": [],
   "source": [
    "result = result.drop(columns=['colour_rating', 'colour_rating.1'])"
   ]
  },
  {
   "cell_type": "code",
   "execution_count": null,
   "metadata": {},
   "outputs": [],
   "source": [
    "result"
   ]
  },
  {
   "cell_type": "markdown",
   "metadata": {},
   "source": [
    "# Cleaning text from columns"
   ]
  },
  {
   "cell_type": "code",
   "execution_count": null,
   "metadata": {},
   "outputs": [],
   "source": [
    "result['wlc_baseline_incl_NCG'] = result['wlc_baseline_incl_NCG'].str.replace('Ł', '', regex=False)\n",
    "result['total_baseline'] = result['total_baseline'].str.replace('Ł', '', regex=False)\n",
    "result['forecast_incl_NGC'] = result['forecast_incl_NGC'].str.replace('Ł', '', regex=False)\n",
    "result['yearly_forecast'] = result['yearly_forecast'].str.replace('Ł', '', regex=False)\n",
    "result['TOTAL Baseline Benefits (Łm)'] = result['TOTAL Baseline Benefits (Łm)'].str.replace('Ł', '', regex=False)"
   ]
  },
  {
   "cell_type": "markdown",
   "metadata": {},
   "source": [
    "## Loop for cleaning many columns at once"
   ]
  },
  {
   "cell_type": "code",
   "execution_count": null,
   "metadata": {},
   "outputs": [],
   "source": [
    "# Definiere eine Funktion, die den gesamten Prozess für eine Zelle übernimmt\n",
    "def process_value(value):\n",
    "    # Erster Schritt: Versuchen, in eine Zahl zu konvertieren\n",
    "    try:\n",
    "        float(value)\n",
    "        return value\n",
    "    except ValueError:\n",
    "        pass\n",
    "    \n",
    "    # Zweiter Schritt: Ersetze ',' durch '' und versuche erneut, in eine Zahl zu konvertieren\n",
    "    try:\n",
    "        value = value.replace(',', '')\n",
    "        float(value)\n",
    "        return value\n",
    "    except (ValueError, AttributeError):\n",
    "        return np.nan\n",
    "\n",
    "# Wende die Funktion auf mehrere Spalten gleichzeitig an\n",
    "columns_to_process = ['total_baseline', 'forecast_incl_NGC', 'wlc_baseline_incl_NCG', 'TOTAL Baseline Benefits (Łm)', 'yearly_forecast']\n",
    "result[columns_to_process] = result[columns_to_process].applymap(process_value)\n",
    "\n",
    "# Zeige das Ergebnis an\n",
    "print(result)\n"
   ]
  },
  {
   "cell_type": "code",
   "execution_count": null,
   "metadata": {},
   "outputs": [],
   "source": [
    "unique_texts = result[result['wlc_baseline_incl_NCG'].apply(is_text)]['wlc_baseline_incl_NCG'].unique()\n",
    "\n",
    "print(unique_texts)"
   ]
  },
  {
   "cell_type": "markdown",
   "metadata": {},
   "source": [
    "# Further cleaning"
   ]
  },
  {
   "cell_type": "code",
   "execution_count": null,
   "metadata": {},
   "outputs": [],
   "source": [
    "result['start_date'] = pd.to_datetime(result['start_date'], errors='coerce')"
   ]
  },
  {
   "cell_type": "code",
   "execution_count": null,
   "metadata": {},
   "outputs": [],
   "source": [
    "result['end_date'] = pd.to_datetime(result['end_date'], errors='coerce')"
   ]
  },
  {
   "cell_type": "code",
   "execution_count": null,
   "metadata": {},
   "outputs": [],
   "source": [
    "result['forecast_incl_NGC'] = pd.to_numeric(result['forecast_incl_NGC'], errors='coerce')\n",
    "result['wlc_baseline_incl_NCG'] = pd.to_numeric(result['wlc_baseline_incl_NCG'], errors='coerce')\n",
    "result['yearly_forecast'] = pd.to_numeric(result['yearly_forecast'], errors='coerce')\n",
    "result['TOTAL Baseline Benefits (Łm)'] = pd.to_numeric(result['TOTAL Baseline Benefits (Łm)'], errors='coerce')\n",
    "result['total_baseline'] = pd.to_numeric(result['total_baseline'], errors='coerce')"
   ]
  },
  {
   "cell_type": "code",
   "execution_count": null,
   "metadata": {},
   "outputs": [],
   "source": [
    "result['colour_rating_new'].unique()"
   ]
  },
  {
   "cell_type": "code",
   "execution_count": null,
   "metadata": {},
   "outputs": [],
   "source": [
    "allowed_values = ['Amber', 'Green', 'Red', 'Amber/red', 'Amber/Green']\n",
    "result['colour_rating_new'] = result['colour_rating_new'].apply(lambda x: x if x in allowed_values else np.nan)"
   ]
  },
  {
   "cell_type": "code",
   "execution_count": null,
   "metadata": {},
   "outputs": [],
   "source": [
    "result['colour_rating_new'].unique()"
   ]
  },
  {
   "cell_type": "code",
   "execution_count": null,
   "metadata": {},
   "outputs": [],
   "source": [
    "result = result.rename(columns={'colour_rating_new': 'colour_rating'})"
   ]
  },
  {
   "cell_type": "code",
   "execution_count": null,
   "metadata": {},
   "outputs": [],
   "source": [
    "result['yearly_budget'] = np.nan"
   ]
  },
  {
   "cell_type": "code",
   "execution_count": null,
   "metadata": {},
   "outputs": [],
   "source": [
    "result['yearly_forecast_new'] = result['yearly_forecast'].combine_first(result['forecast_incl_NGC'])"
   ]
  },
  {
   "cell_type": "code",
   "execution_count": null,
   "metadata": {},
   "outputs": [],
   "source": [
    "result.columns"
   ]
  },
  {
   "cell_type": "code",
   "execution_count": null,
   "metadata": {},
   "outputs": [],
   "source": [
    "result = result.drop(columns=['yearly_forecast', 'forecast_incl_NGC'])"
   ]
  },
  {
   "cell_type": "code",
   "execution_count": null,
   "metadata": {},
   "outputs": [],
   "source": [
    "result = result.rename(columns={'yearly_forecast_new': 'yearly_forecast'})"
   ]
  },
  {
   "cell_type": "code",
   "execution_count": null,
   "metadata": {},
   "outputs": [],
   "source": [
    "result.columns"
   ]
  },
  {
   "cell_type": "code",
   "execution_count": null,
   "metadata": {},
   "outputs": [],
   "source": [
    "result = result.drop(columns=['yearly_budget'])"
   ]
  },
  {
   "cell_type": "code",
   "execution_count": null,
   "metadata": {},
   "outputs": [],
   "source": [
    "result = result.rename(columns={'total_baseline': 'yearly_budget'})\n",
    "result = result.rename(columns={'TOTAL Baseline Benefits (Łm)': 'total_benefits'})"
   ]
  },
  {
   "cell_type": "code",
   "execution_count": null,
   "metadata": {},
   "outputs": [],
   "source": [
    "column_order = ['project_name','department','colour_rating','description_aims','rating_comment','start_date','end_date','schedule_comment','yearly_budget','yearly_forecast','wlc_baseline_incl_NCG','variance_comment','budget_comment','year','report_category','project_number','total_benefits','benefits_comment']"
   ]
  },
  {
   "cell_type": "code",
   "execution_count": null,
   "metadata": {},
   "outputs": [],
   "source": [
    "result = result[column_order]"
   ]
  },
  {
   "cell_type": "code",
   "execution_count": null,
   "metadata": {},
   "outputs": [],
   "source": [
    "result.columns"
   ]
  },
  {
   "cell_type": "code",
   "execution_count": null,
   "metadata": {},
   "outputs": [],
   "source": [
    "result.info()"
   ]
  },
  {
   "cell_type": "code",
   "execution_count": null,
   "metadata": {},
   "outputs": [],
   "source": [
    "result.to_csv('../data/raw_data/2021_2023.csv')"
   ]
  },
  {
   "cell_type": "code",
   "execution_count": null,
   "metadata": {},
   "outputs": [],
   "source": [
    "result.to_pickle(\"cleaned_2021_2023.pkl\")"
   ]
  },
  {
   "cell_type": "code",
   "execution_count": null,
   "metadata": {},
   "outputs": [],
   "source": [
    "df_rauschgold = pd.read_csv('../data/raw_data/2021_2023.csv')\n",
    "df_emna = pd.read_csv('df_2014_2017.csv')"
   ]
  },
  {
   "cell_type": "code",
   "execution_count": null,
   "metadata": {},
   "outputs": [],
   "source": [
    "result = pd.concat([df_rauschgold, df_emna], axis=0, ignore_index=True)"
   ]
  },
  {
   "cell_type": "code",
   "execution_count": null,
   "metadata": {},
   "outputs": [],
   "source": [
    "result.columns"
   ]
  },
  {
   "cell_type": "code",
   "execution_count": null,
   "metadata": {},
   "outputs": [],
   "source": [
    "result = result.drop(columns=['Unnamed: 0'])"
   ]
  },
  {
   "cell_type": "code",
   "execution_count": null,
   "metadata": {},
   "outputs": [],
   "source": [
    "result.to_csv('emna_franzi.csv')"
   ]
  },
  {
   "cell_type": "code",
   "execution_count": null,
   "metadata": {},
   "outputs": [],
   "source": [
    "df1 = pd.read_csv('../data/raw_data/2021_2023.csv')\n",
    "df2 = pd.read_csv('../data/raw_data/df_2014_2017.csv')\n",
    "df3= pd.read_csv('../data/raw_data/uk_2018-2020.csv')"
   ]
  },
  {
   "cell_type": "code",
   "execution_count": null,
   "metadata": {},
   "outputs": [],
   "source": [
    "result = pd.concat([df1, df2, df3], axis=0, ignore_index=True)"
   ]
  },
  {
   "cell_type": "code",
   "execution_count": null,
   "metadata": {},
   "outputs": [],
   "source": [
    "result = result.drop(columns=['Unnamed: 0'])"
   ]
  },
  {
   "cell_type": "code",
   "execution_count": null,
   "metadata": {},
   "outputs": [],
   "source": [
    "result.to_csv('dataset_EDA.csv')"
   ]
  },
  {
   "cell_type": "code",
   "execution_count": null,
   "metadata": {},
   "outputs": [],
   "source": [
    "df"
   ]
  },
  {
   "cell_type": "code",
   "execution_count": null,
   "metadata": {},
   "outputs": [],
   "source": [
    "df_macro = pd.read_csv('../data/macro/GDP.csv',encoding='iso-8859-2', delimiter=';')"
   ]
  },
  {
   "cell_type": "code",
   "execution_count": null,
   "metadata": {},
   "outputs": [],
   "source": [
    "df_macro"
   ]
  },
  {
   "cell_type": "code",
   "execution_count": null,
   "metadata": {},
   "outputs": [],
   "source": [
    "df_macro.info()"
   ]
  },
  {
   "cell_type": "code",
   "execution_count": null,
   "metadata": {},
   "outputs": [],
   "source": [
    "df_franzi = pd.read_csv('../data/EDA/2021_2023.csv')"
   ]
  },
  {
   "cell_type": "code",
   "execution_count": null,
   "metadata": {},
   "outputs": [],
   "source": [
    "import re\n",
    "\n",
    "# Funktion zur Extraktion von Datumsangaben im Format '01 April 2024', '30 MAR 2023', oder '30 MAR  2023'\n",
    "def extract_dates_for_end_date(comment):\n",
    "    # Muster zur Erkennung von Datumsformaten wie '01 April 2024', '30 MAR 2023', '30 MAR  2023'\n",
    "    date_pattern = r'\\d{2} \\w+ {1,2}\\d{4}'\n",
    "    dates = re.findall(date_pattern, comment)\n",
    "    return dates\n",
    "\n",
    "# Fehlende Daten in 'end_date' ergänzen\n",
    "for index, row in df_franzi.iterrows():\n",
    "    dates = extract_dates_for_end_date(row['schedule_comment'])\n",
    "    \n",
    "    if pd.isna(row['end_date']) and dates:\n",
    "        # Nur das erste gefundene Datum wird verwendet\n",
    "        converted_date = convert_date(dates[0])\n",
    "        if converted_date:\n",
    "            df_franzi.at[index, 'end_date'] = converted_date\n",
    "\n",
    "# Ergebnis anzeigen\n",
    "df_franzi\n",
    "\n"
   ]
  },
  {
   "cell_type": "code",
   "execution_count": null,
   "metadata": {},
   "outputs": [],
   "source": [
    "# Schritt 1: Identifizieren der relevanten Zeilen\n",
    "remained_scheduled_df = df_franzi[df_franzi['schedule_comment'].str.contains('remained scheduled', case=False)]\n",
    "\n",
    "# Schritt 2: Aktuellsten 'end_date'-Wert für jedes 'project_name' ermitteln\n",
    "latest_end_dates = df_franzi.groupby('project_name').apply(lambda x: x.loc[x['year'].idxmax(), 'end_date'])\n",
    "\n",
    "# Schritt 3: Zuweisen des aktuellsten 'end_date' an die relevanten Zeilen\n",
    "for index, row in remained_scheduled_df.iterrows():\n",
    "    latest_end_date = latest_end_dates[row['project_name']]\n",
    "    if pd.isna(row['end_date']) and pd.notna(latest_end_date):\n",
    "        df_franzi.at[index, 'end_date'] = latest_end_date\n",
    "\n",
    "# Ergebnis anzeigen\n",
    "df_franzi\n"
   ]
  },
  {
   "cell_type": "code",
   "execution_count": null,
   "metadata": {},
   "outputs": [],
   "source": [
    "# Schritt 2: Aktuellsten 'end_date'-Wert für jedes 'project_name' ermitteln\n",
    "latest_end_dates = df_franzi.groupby('project_name').apply(lambda x: x.loc[x['year'].idxmax(), 'start_date'])\n",
    "\n",
    "# Schritt 3: Zuweisen des aktuellsten 'end_date' an die relevanten Zeilen\n",
    "for index, row in remained_scheduled_df.iterrows():\n",
    "    latest_end_date = latest_end_dates[row['project_name']]\n",
    "    if pd.isna(row['start_date']) and pd.notna(latest_end_date):\n",
    "        df_franzi.at[index, 'start_date'] = latest_end_date\n",
    "\n",
    "# Ergebnis anzeigen\n",
    "df_franzi"
   ]
  },
  {
   "cell_type": "code",
   "execution_count": null,
   "metadata": {},
   "outputs": [],
   "source": [
    "    month_mapping = {\n",
    "        'jan': '01', 'january': '01',\n",
    "        'feb': '02', 'february': '02',\n",
    "        'mar': '03', 'march': '03',\n",
    "        'apr': '04', 'april': '04',\n",
    "        'may': '05', 'may': '05',\n",
    "        'jun': '06', 'june': '06',\n",
    "        'jul': '07', 'july': '07',\n",
    "        'aug': '08', 'august': '08',\n",
    "        'sep': '09', 'september': '09',\n",
    "        'oct': '10', 'october': '10',\n",
    "        'nov': '11', 'november': '11',\n",
    "        'dec': '12', 'december': '12'\n",
    "    }\n",
    "\n"
   ]
  },
  {
   "cell_type": "code",
   "execution_count": null,
   "metadata": {},
   "outputs": [],
   "source": [
    "def extract_date_after_to_or_on(comment):\n",
    "    REGEX = \"(to|is|on)\\s*(\\d{1,2})\\s+(\\w+)\\s+(\\d{2,4})\"\n",
    "    x = re.compile(REGEX)\n",
    "    \n",
    "    match_REGEX = x.search(comment)      \n",
    "    \n",
    "    if match_REGEX:\n",
    "        day = match_REGEX.group(2)\n",
    "        month = match_REGEX.group(3)\n",
    "        year = match_REGEX.group(4)\n",
    "        if len(day) == 1:\n",
    "            day = '0'+ day\n",
    "        month = month_mapping.get(month.lower())\n",
    "        if len(year) == 2:\n",
    "            year = '20' + year\n",
    "        return year +'-'+ month +'-'+ day\n",
    "    \n",
    "for index, row in df_franzi.iterrows():\n",
    "    if pd.isna(row['end_date']):\n",
    "        extracted_date = extract_date_after_to_or_on(row['schedule_comment'])\n",
    "        if extracted_date:\n",
    "            df_franzi.at[index, 'end_date'] = extracted_date\n",
    "\n",
    "df_franzi\n",
    "\n"
   ]
  },
  {
   "cell_type": "code",
   "execution_count": null,
   "metadata": {},
   "outputs": [],
   "source": [
    "df_franzi.drop(columns='Unnamed: 0')"
   ]
  },
  {
   "cell_type": "code",
   "execution_count": null,
   "metadata": {},
   "outputs": [],
   "source": [
    "df_franzi.to_pickle(\"cleaned_2021_2023.pkl\")"
   ]
  },
  {
   "cell_type": "code",
   "execution_count": null,
   "metadata": {},
   "outputs": [],
   "source": [
    "# Der Code zum Filtern von Zeilen, in denen 'start_date' oder 'end_date' 'NaN' ist\n",
    "# und die 'schedule_comment' nicht mit 'Exempt' oder '\\r\\nExempt' beginnen\n",
    "\n",
    "nan_dates_df = df_franzi[\n",
    "    ((df_franzi['end_date'].isna())) & \n",
    "    (~df_franzi['schedule_comment'].str.match(r'^(Exempt|\\r\\nExempt)'))\n",
    "][['start_date', 'end_date', 'schedule_comment']]\n",
    "\n",
    "# Ausgabe des gefilterten DataFrames\n",
    "nan_dates_df"
   ]
  },
  {
   "cell_type": "code",
   "execution_count": null,
   "metadata": {},
   "outputs": [],
   "source": [
    "# Der Code zum Filtern von Zeilen, in denen 'start_date' oder 'end_date' 'NaN' ist\n",
    "# und die 'schedule_comment' nicht mit 'Exempt' oder '\\r\\nExempt' beginnen\n",
    "\n",
    "nan_dates_df_start = df_franzi[\n",
    "    ((df_franzi['start_date'].isna())) & \n",
    "    (~df_franzi['schedule_comment'].str.match(r'^(Exempt|\\r\\nExempt)'))\n",
    "][['start_date', 'schedule_comment']]\n",
    "\n",
    "# Ausgabe des gefilterten DataFrames\n",
    "nan_dates_df_start"
   ]
  },
  {
   "cell_type": "code",
   "execution_count": null,
   "metadata": {},
   "outputs": [],
   "source": [
    "len(nan_dates_df)\n",
    "nan_dates_df['schedule_comment'].to_list()"
   ]
  },
  {
   "cell_type": "code",
   "execution_count": null,
   "metadata": {},
   "outputs": [],
   "source": [
    "merged_df = df_franzi.merge(df_macro, on='year', how='left')"
   ]
  },
  {
   "cell_type": "code",
   "execution_count": null,
   "metadata": {},
   "outputs": [],
   "source": [
    "merged_df"
   ]
  },
  {
   "cell_type": "code",
   "execution_count": 130,
   "metadata": {},
   "outputs": [],
   "source": [
    "df1 = pd.read_pickle(\"../data/pickle/cleaned_2021_2023.pkl\")\n",
    "df2 = pd.read_pickle('../data/pickle/cleaned_2018_2020.pkl')\n",
    "df3 = pd.read_pickle('../data/pickle/cleaned_2014-2017.pkl')\n",
    "df4 = pd.read_csv('../data/macro/GDP.csv',encoding='iso-8859-2', delimiter=';')"
   ]
  },
  {
   "cell_type": "code",
   "execution_count": 131,
   "metadata": {},
   "outputs": [],
   "source": [
    "df = pd.concat([df1, df2, df3], axis=0, ignore_index=True)"
   ]
  },
  {
   "cell_type": "code",
   "execution_count": 132,
   "metadata": {},
   "outputs": [],
   "source": [
    "df = df.merge(df4, on='year', how='left')"
   ]
  },
  {
   "cell_type": "code",
   "execution_count": 133,
   "metadata": {},
   "outputs": [
    {
     "data": {
      "text/html": [
       "<div>\n",
       "<style scoped>\n",
       "    .dataframe tbody tr th:only-of-type {\n",
       "        vertical-align: middle;\n",
       "    }\n",
       "\n",
       "    .dataframe tbody tr th {\n",
       "        vertical-align: top;\n",
       "    }\n",
       "\n",
       "    .dataframe thead th {\n",
       "        text-align: right;\n",
       "    }\n",
       "</style>\n",
       "<table border=\"1\" class=\"dataframe\">\n",
       "  <thead>\n",
       "    <tr style=\"text-align: right;\">\n",
       "      <th></th>\n",
       "      <th>project_name</th>\n",
       "      <th>department</th>\n",
       "      <th>colour_rating</th>\n",
       "      <th>description_aims</th>\n",
       "      <th>rating_comment</th>\n",
       "      <th>start_date</th>\n",
       "      <th>end_date</th>\n",
       "      <th>schedule_comment</th>\n",
       "      <th>yearly_budget</th>\n",
       "      <th>yearly_forecast</th>\n",
       "      <th>...</th>\n",
       "      <th>GDP</th>\n",
       "      <th>annual_earning_ft</th>\n",
       "      <th>unemployment_rate</th>\n",
       "      <th>youth_unemployment_rate</th>\n",
       "      <th>inflation_rate</th>\n",
       "      <th>population</th>\n",
       "      <th>gov_debt</th>\n",
       "      <th>tax_revenue</th>\n",
       "      <th>revenue_excl_grants</th>\n",
       "      <th>grants_and_other_revenue</th>\n",
       "    </tr>\n",
       "  </thead>\n",
       "  <tbody>\n",
       "    <tr>\n",
       "      <th>0</th>\n",
       "      <td>Civil Service Pensions 2015 Remedy</td>\n",
       "      <td>CO</td>\n",
       "      <td>Amber</td>\n",
       "      <td>The 2015 Pensions Remedy Programme was created...</td>\n",
       "      <td>Compared to financial year 21/22-Q4, the Deliv...</td>\n",
       "      <td>2020-05-20</td>\n",
       "      <td>2024-09-30</td>\n",
       "      <td>Compared to financial year 21/22-Q4, the proje...</td>\n",
       "      <td>7.90</td>\n",
       "      <td>4.20</td>\n",
       "      <td>...</td>\n",
       "      <td>2273126.0</td>\n",
       "      <td>34963.0</td>\n",
       "      <td>0.0440</td>\n",
       "      <td>0.1254</td>\n",
       "      <td>0.042</td>\n",
       "      <td>68350000.0</td>\n",
       "      <td>22967000.0</td>\n",
       "      <td>7885900.0</td>\n",
       "      <td>NaN</td>\n",
       "      <td>NaN</td>\n",
       "    </tr>\n",
       "    <tr>\n",
       "      <th>1</th>\n",
       "      <td>Commercial Capability Expansion Programme</td>\n",
       "      <td>CO</td>\n",
       "      <td>Amber</td>\n",
       "      <td>The original Commercial Capability Programme s...</td>\n",
       "      <td>Compared to financial year 21/22-Q4, the  Seni...</td>\n",
       "      <td>2017-04-01</td>\n",
       "      <td>2023-03-31</td>\n",
       "      <td>Compared to financial year 21/22-Q4, the proje...</td>\n",
       "      <td>3.70</td>\n",
       "      <td>3.10</td>\n",
       "      <td>...</td>\n",
       "      <td>2273126.0</td>\n",
       "      <td>34963.0</td>\n",
       "      <td>0.0440</td>\n",
       "      <td>0.1254</td>\n",
       "      <td>0.042</td>\n",
       "      <td>68350000.0</td>\n",
       "      <td>22967000.0</td>\n",
       "      <td>7885900.0</td>\n",
       "      <td>NaN</td>\n",
       "      <td>NaN</td>\n",
       "    </tr>\n",
       "    <tr>\n",
       "      <th>2</th>\n",
       "      <td>Falcon IT Platform Refresh and Migration</td>\n",
       "      <td>CO</td>\n",
       "      <td>Amber</td>\n",
       "      <td>Falcon is a business change programme that wil...</td>\n",
       "      <td>The Senior Responsible Owner's Delivery Confid...</td>\n",
       "      <td>2022-05-01</td>\n",
       "      <td>2025-03-31</td>\n",
       "      <td>The project's end-date at 22/23-Q4 is 2025-03-...</td>\n",
       "      <td>0.00</td>\n",
       "      <td>0.00</td>\n",
       "      <td>...</td>\n",
       "      <td>2273126.0</td>\n",
       "      <td>34963.0</td>\n",
       "      <td>0.0440</td>\n",
       "      <td>0.1254</td>\n",
       "      <td>0.042</td>\n",
       "      <td>68350000.0</td>\n",
       "      <td>22967000.0</td>\n",
       "      <td>7885900.0</td>\n",
       "      <td>NaN</td>\n",
       "      <td>NaN</td>\n",
       "    </tr>\n",
       "    <tr>\n",
       "      <th>3</th>\n",
       "      <td>Future Service Programme</td>\n",
       "      <td>CO</td>\n",
       "      <td>Amber</td>\n",
       "      <td>Future Services Programme is a series of procu...</td>\n",
       "      <td>Compared to financial year 21/22-Q4, the Deliv...</td>\n",
       "      <td>2020-10-01</td>\n",
       "      <td>2025-12-31</td>\n",
       "      <td>Compared to financial year 21/22-Q4, the proje...</td>\n",
       "      <td>1.60</td>\n",
       "      <td>1.70</td>\n",
       "      <td>...</td>\n",
       "      <td>2273126.0</td>\n",
       "      <td>34963.0</td>\n",
       "      <td>0.0440</td>\n",
       "      <td>0.1254</td>\n",
       "      <td>0.042</td>\n",
       "      <td>68350000.0</td>\n",
       "      <td>22967000.0</td>\n",
       "      <td>7885900.0</td>\n",
       "      <td>NaN</td>\n",
       "      <td>NaN</td>\n",
       "    </tr>\n",
       "    <tr>\n",
       "      <th>4</th>\n",
       "      <td>GOV.UK One Login</td>\n",
       "      <td>CO</td>\n",
       "      <td>Amber</td>\n",
       "      <td>GOV.UK One Login will provide a single account...</td>\n",
       "      <td>Compared to financial year 21/22-Q4, the Infra...</td>\n",
       "      <td>2021-01-04</td>\n",
       "      <td>2025-03-31</td>\n",
       "      <td>Compared to financial year 21/22-Q4, the proje...</td>\n",
       "      <td>114.00</td>\n",
       "      <td>114.00</td>\n",
       "      <td>...</td>\n",
       "      <td>2273126.0</td>\n",
       "      <td>34963.0</td>\n",
       "      <td>0.0440</td>\n",
       "      <td>0.1254</td>\n",
       "      <td>0.042</td>\n",
       "      <td>68350000.0</td>\n",
       "      <td>22967000.0</td>\n",
       "      <td>7885900.0</td>\n",
       "      <td>NaN</td>\n",
       "      <td>NaN</td>\n",
       "    </tr>\n",
       "    <tr>\n",
       "      <th>...</th>\n",
       "      <td>...</td>\n",
       "      <td>...</td>\n",
       "      <td>...</td>\n",
       "      <td>...</td>\n",
       "      <td>...</td>\n",
       "      <td>...</td>\n",
       "      <td>...</td>\n",
       "      <td>...</td>\n",
       "      <td>...</td>\n",
       "      <td>...</td>\n",
       "      <td>...</td>\n",
       "      <td>...</td>\n",
       "      <td>...</td>\n",
       "      <td>...</td>\n",
       "      <td>...</td>\n",
       "      <td>...</td>\n",
       "      <td>...</td>\n",
       "      <td>...</td>\n",
       "      <td>...</td>\n",
       "      <td>...</td>\n",
       "      <td>...</td>\n",
       "    </tr>\n",
       "    <tr>\n",
       "      <th>1724</th>\n",
       "      <td>Secure Training centre (STC) Retendering Project</td>\n",
       "      <td>MoJ</td>\n",
       "      <td>Amber/Red</td>\n",
       "      <td>The project is retendering and mobilising a Se...</td>\n",
       "      <td>Quarter 2 was assessed as Amber/Red as there w...</td>\n",
       "      <td>05/11/2012</td>\n",
       "      <td>01/05/2017</td>\n",
       "      <td>The new service at Rainsbrook STC commenced on...</td>\n",
       "      <td>10.83</td>\n",
       "      <td>10.83</td>\n",
       "      <td>...</td>\n",
       "      <td>2167415.0</td>\n",
       "      <td>28759.0</td>\n",
       "      <td>0.0433</td>\n",
       "      <td>0.1199</td>\n",
       "      <td>0.027</td>\n",
       "      <td>66058859.0</td>\n",
       "      <td>33584200.0</td>\n",
       "      <td>5327300.0</td>\n",
       "      <td>7075890.0</td>\n",
       "      <td>442790.0</td>\n",
       "    </tr>\n",
       "    <tr>\n",
       "      <th>1725</th>\n",
       "      <td>IT Transformation Programme</td>\n",
       "      <td>NCA</td>\n",
       "      <td>Amber</td>\n",
       "      <td>IT Transformation is one of three programmes t...</td>\n",
       "      <td>The IPA Review Team made 7 recommendations whe...</td>\n",
       "      <td>01/04/2016</td>\n",
       "      <td>31/07/2022</td>\n",
       "      <td>Schedule on track</td>\n",
       "      <td>14.00</td>\n",
       "      <td>14.00</td>\n",
       "      <td>...</td>\n",
       "      <td>2167415.0</td>\n",
       "      <td>28759.0</td>\n",
       "      <td>0.0433</td>\n",
       "      <td>0.1199</td>\n",
       "      <td>0.027</td>\n",
       "      <td>66058859.0</td>\n",
       "      <td>33584200.0</td>\n",
       "      <td>5327300.0</td>\n",
       "      <td>7075890.0</td>\n",
       "      <td>442790.0</td>\n",
       "    </tr>\n",
       "    <tr>\n",
       "      <th>1726</th>\n",
       "      <td>NCA Transformation Programme</td>\n",
       "      <td>NCA</td>\n",
       "      <td>Amber</td>\n",
       "      <td>The NCAÂs Transformation Programme which will...</td>\n",
       "      <td>The current status of the NCA Transformation P...</td>\n",
       "      <td>01/04/2014</td>\n",
       "      <td>31/03/2019</td>\n",
       "      <td>Schedule on track</td>\n",
       "      <td>25.50</td>\n",
       "      <td>25.50</td>\n",
       "      <td>...</td>\n",
       "      <td>2167415.0</td>\n",
       "      <td>28759.0</td>\n",
       "      <td>0.0433</td>\n",
       "      <td>0.1199</td>\n",
       "      <td>0.027</td>\n",
       "      <td>66058859.0</td>\n",
       "      <td>33584200.0</td>\n",
       "      <td>5327300.0</td>\n",
       "      <td>7075890.0</td>\n",
       "      <td>442790.0</td>\n",
       "    </tr>\n",
       "    <tr>\n",
       "      <th>1727</th>\n",
       "      <td>Census Transformation Programme</td>\n",
       "      <td>ONS</td>\n",
       "      <td>Amber</td>\n",
       "      <td>The Census Transformation Programme will run f...</td>\n",
       "      <td>1. ONS requires greater clarity from HMT on th...</td>\n",
       "      <td>01/01/2015</td>\n",
       "      <td>31/03/2025</td>\n",
       "      <td>Tranche 1 focussing on 2017 Test on schedule. ...</td>\n",
       "      <td>36.03</td>\n",
       "      <td>36.03</td>\n",
       "      <td>...</td>\n",
       "      <td>2167415.0</td>\n",
       "      <td>28759.0</td>\n",
       "      <td>0.0433</td>\n",
       "      <td>0.1199</td>\n",
       "      <td>0.027</td>\n",
       "      <td>66058859.0</td>\n",
       "      <td>33584200.0</td>\n",
       "      <td>5327300.0</td>\n",
       "      <td>7075890.0</td>\n",
       "      <td>442790.0</td>\n",
       "    </tr>\n",
       "    <tr>\n",
       "      <th>1728</th>\n",
       "      <td>Unnamed: 144</td>\n",
       "      <td>NaN</td>\n",
       "      <td>NaN</td>\n",
       "      <td>NaN</td>\n",
       "      <td>NaN</td>\n",
       "      <td>NaN</td>\n",
       "      <td>NaN</td>\n",
       "      <td>NaN</td>\n",
       "      <td>NaN</td>\n",
       "      <td>NaN</td>\n",
       "      <td>...</td>\n",
       "      <td>NaN</td>\n",
       "      <td>NaN</td>\n",
       "      <td>NaN</td>\n",
       "      <td>NaN</td>\n",
       "      <td>NaN</td>\n",
       "      <td>NaN</td>\n",
       "      <td>NaN</td>\n",
       "      <td>NaN</td>\n",
       "      <td>NaN</td>\n",
       "      <td>NaN</td>\n",
       "    </tr>\n",
       "  </tbody>\n",
       "</table>\n",
       "<p>1729 rows × 28 columns</p>\n",
       "</div>"
      ],
      "text/plain": [
       "                                          project_name department   \n",
       "0                   Civil Service Pensions 2015 Remedy         CO  \\\n",
       "1            Commercial Capability Expansion Programme         CO   \n",
       "2             Falcon IT Platform Refresh and Migration         CO   \n",
       "3                             Future Service Programme         CO   \n",
       "4                                     GOV.UK One Login         CO   \n",
       "...                                                ...        ...   \n",
       "1724  Secure Training centre (STC) Retendering Project        MoJ   \n",
       "1725                       IT Transformation Programme        NCA   \n",
       "1726                      NCA Transformation Programme        NCA   \n",
       "1727                   Census Transformation Programme        ONS   \n",
       "1728                                      Unnamed: 144        NaN   \n",
       "\n",
       "     colour_rating                                   description_aims   \n",
       "0            Amber  The 2015 Pensions Remedy Programme was created...  \\\n",
       "1            Amber  The original Commercial Capability Programme s...   \n",
       "2            Amber  Falcon is a business change programme that wil...   \n",
       "3            Amber  Future Services Programme is a series of procu...   \n",
       "4            Amber  GOV.UK One Login will provide a single account...   \n",
       "...            ...                                                ...   \n",
       "1724     Amber/Red  The project is retendering and mobilising a Se...   \n",
       "1725         Amber  IT Transformation is one of three programmes t...   \n",
       "1726         Amber  The NCAÂs Transformation Programme which will...   \n",
       "1727         Amber  The Census Transformation Programme will run f...   \n",
       "1728           NaN                                                NaN   \n",
       "\n",
       "                                         rating_comment  start_date   \n",
       "0     Compared to financial year 21/22-Q4, the Deliv...  2020-05-20  \\\n",
       "1     Compared to financial year 21/22-Q4, the  Seni...  2017-04-01   \n",
       "2     The Senior Responsible Owner's Delivery Confid...  2022-05-01   \n",
       "3     Compared to financial year 21/22-Q4, the Deliv...  2020-10-01   \n",
       "4     Compared to financial year 21/22-Q4, the Infra...  2021-01-04   \n",
       "...                                                 ...         ...   \n",
       "1724  Quarter 2 was assessed as Amber/Red as there w...  05/11/2012   \n",
       "1725  The IPA Review Team made 7 recommendations whe...  01/04/2016   \n",
       "1726  The current status of the NCA Transformation P...  01/04/2014   \n",
       "1727  1. ONS requires greater clarity from HMT on th...  01/01/2015   \n",
       "1728                                                NaN         NaN   \n",
       "\n",
       "        end_date                                   schedule_comment   \n",
       "0     2024-09-30  Compared to financial year 21/22-Q4, the proje...  \\\n",
       "1     2023-03-31  Compared to financial year 21/22-Q4, the proje...   \n",
       "2     2025-03-31  The project's end-date at 22/23-Q4 is 2025-03-...   \n",
       "3     2025-12-31  Compared to financial year 21/22-Q4, the proje...   \n",
       "4     2025-03-31  Compared to financial year 21/22-Q4, the proje...   \n",
       "...          ...                                                ...   \n",
       "1724  01/05/2017  The new service at Rainsbrook STC commenced on...   \n",
       "1725  31/07/2022                                  Schedule on track   \n",
       "1726  31/03/2019                                  Schedule on track   \n",
       "1727  31/03/2025  Tranche 1 focussing on 2017 Test on schedule. ...   \n",
       "1728         NaN                                                NaN   \n",
       "\n",
       "      yearly_budget  yearly_forecast  ...        GDP annual_earning_ft   \n",
       "0              7.90             4.20  ...  2273126.0           34963.0  \\\n",
       "1              3.70             3.10  ...  2273126.0           34963.0   \n",
       "2              0.00             0.00  ...  2273126.0           34963.0   \n",
       "3              1.60             1.70  ...  2273126.0           34963.0   \n",
       "4            114.00           114.00  ...  2273126.0           34963.0   \n",
       "...             ...              ...  ...        ...               ...   \n",
       "1724          10.83            10.83  ...  2167415.0           28759.0   \n",
       "1725          14.00            14.00  ...  2167415.0           28759.0   \n",
       "1726          25.50            25.50  ...  2167415.0           28759.0   \n",
       "1727          36.03            36.03  ...  2167415.0           28759.0   \n",
       "1728            NaN              NaN  ...        NaN               NaN   \n",
       "\n",
       "     unemployment_rate  youth_unemployment_rate inflation_rate  population   \n",
       "0               0.0440                   0.1254          0.042  68350000.0  \\\n",
       "1               0.0440                   0.1254          0.042  68350000.0   \n",
       "2               0.0440                   0.1254          0.042  68350000.0   \n",
       "3               0.0440                   0.1254          0.042  68350000.0   \n",
       "4               0.0440                   0.1254          0.042  68350000.0   \n",
       "...                ...                      ...            ...         ...   \n",
       "1724            0.0433                   0.1199          0.027  66058859.0   \n",
       "1725            0.0433                   0.1199          0.027  66058859.0   \n",
       "1726            0.0433                   0.1199          0.027  66058859.0   \n",
       "1727            0.0433                   0.1199          0.027  66058859.0   \n",
       "1728               NaN                      NaN            NaN         NaN   \n",
       "\n",
       "        gov_debt tax_revenue  revenue_excl_grants  grants_and_other_revenue  \n",
       "0     22967000.0   7885900.0                  NaN                       NaN  \n",
       "1     22967000.0   7885900.0                  NaN                       NaN  \n",
       "2     22967000.0   7885900.0                  NaN                       NaN  \n",
       "3     22967000.0   7885900.0                  NaN                       NaN  \n",
       "4     22967000.0   7885900.0                  NaN                       NaN  \n",
       "...          ...         ...                  ...                       ...  \n",
       "1724  33584200.0   5327300.0            7075890.0                  442790.0  \n",
       "1725  33584200.0   5327300.0            7075890.0                  442790.0  \n",
       "1726  33584200.0   5327300.0            7075890.0                  442790.0  \n",
       "1727  33584200.0   5327300.0            7075890.0                  442790.0  \n",
       "1728         NaN         NaN                  NaN                       NaN  \n",
       "\n",
       "[1729 rows x 28 columns]"
      ]
     },
     "execution_count": 133,
     "metadata": {},
     "output_type": "execute_result"
    }
   ],
   "source": [
    "df.drop(columns='Unnamed: 0')"
   ]
  },
  {
   "cell_type": "code",
   "execution_count": 134,
   "metadata": {},
   "outputs": [],
   "source": [
    "df.to_pickle(\"cleaned_2014_2023.pkl\")"
   ]
  }
 ],
 "metadata": {
  "kernelspec": {
   "display_name": ".venv",
   "language": "python",
   "name": "python3"
  },
  "language_info": {
   "codemirror_mode": {
    "name": "ipython",
    "version": 3
   },
   "file_extension": ".py",
   "mimetype": "text/x-python",
   "name": "python",
   "nbconvert_exporter": "python",
   "pygments_lexer": "ipython3",
   "version": "3.11.3"
  }
 },
 "nbformat": 4,
 "nbformat_minor": 2
}
