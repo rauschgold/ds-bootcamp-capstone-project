{
 "cells": [
  {
   "cell_type": "markdown",
   "metadata": {},
   "source": [
    "# Predicting Project Costs in UK Public Sector"
   ]
  },
  {
   "cell_type": "markdown",
   "metadata": {},
   "source": [
    "## 1. Motivation & Background Knowledge about Projects in UK Public Sector"
   ]
  },
  {
   "cell_type": "markdown",
   "metadata": {},
   "source": [
    "this is text"
   ]
  },
  {
   "cell_type": "markdown",
   "metadata": {},
   "source": [
    "## 2. Getting the Data & EDA"
   ]
  },
  {
   "cell_type": "markdown",
   "metadata": {},
   "source": [
    "The data is retrieved through https://www.gov.uk/government/collections/major-projects-data that collects data from 2012-2022 about the progress of projects in the Government Major Projects Portfolio. For each year we can download a `.csv` file and after downloading all of them, we compare the columns in order to merge them together. These are stored in the folder `raw_data`."
   ]
  },
  {
   "cell_type": "markdown",
   "metadata": {},
   "source": [
    "### 2.1 Importing Libraries"
   ]
  },
  {
   "cell_type": "code",
   "execution_count": 7,
   "metadata": {},
   "outputs": [],
   "source": [
    "import pandas as pd\n",
    "import numpy as np\n",
    "from sklearn.metrics import mean_squared_error, accuracy_score"
   ]
  },
  {
   "cell_type": "markdown",
   "metadata": {},
   "source": [
    "### 2.2 Preparing & Merging `.csv` files into a Dataframe"
   ]
  },
  {
   "cell_type": "markdown",
   "metadata": {},
   "source": [
    "## 3. Baseline Models"
   ]
  },
  {
   "cell_type": "markdown",
   "metadata": {},
   "source": [
    "### 3.0 Preps (needs to be updated with final df)"
   ]
  },
  {
   "cell_type": "code",
   "execution_count": 3,
   "metadata": {},
   "outputs": [],
   "source": [
    "# Import .csv file as Dataframe\n",
    "#df = pd.read_csv('../data/raw_data/2021_2023.csv')"
   ]
  },
  {
   "cell_type": "code",
   "execution_count": 15,
   "metadata": {},
   "outputs": [],
   "source": [
    "# Adding a duration column to the Dataframe\n",
    "#df['duration'] = (df['end_date'] - df['start_date']).dt.days"
   ]
  },
  {
   "cell_type": "code",
   "execution_count": null,
   "metadata": {},
   "outputs": [],
   "source": [
    "# Adding a variance column to the Dataframe\n",
    "#df['duration'] = (df['end_date'] - df['start_date']).dt.days"
   ]
  },
  {
   "cell_type": "code",
   "execution_count": 18,
   "metadata": {},
   "outputs": [],
   "source": [
    "# Sorting the DataFrame by 'project_name' and 'year'\n",
    "df.sort_values(by=['project_name', 'year'], inplace=True)"
   ]
  },
  {
   "cell_type": "code",
   "execution_count": 20,
   "metadata": {},
   "outputs": [],
   "source": [
    "# Calculating Forecast Variance (Yearly Forecast - Previous Yearly Forecast)\n",
    "df['forecast_variance_prev_year'] = df.groupby('project_name')['yearly_forecast'].pct_change() * 100\n",
    "\n",
    "# Calculating Budget Variance (Yearly Forecast - Yearly Budget)\n",
    "df['forecast_variance_budget'] = ((df['yearly_forecast'] - df['yearly_budget']) / df['yearly_budget']) * 100"
   ]
  },
  {
   "cell_type": "code",
   "execution_count": 28,
   "metadata": {},
   "outputs": [],
   "source": [
    "# Calculate the percentage change trend for each project\n",
    "df['forecast_percentage_change_prev_year_filled'] = df.groupby('project_name')['forecast_variance_prev_year'].fillna(method='ffill')"
   ]
  },
  {
   "cell_type": "code",
   "execution_count": 45,
   "metadata": {},
   "outputs": [],
   "source": [
    "df['forecast_variance_prev_year'].fillna(0, inplace=True)"
   ]
  },
  {
   "cell_type": "markdown",
   "metadata": {},
   "source": [
    "### 3.1 Last Observation Carried Forward (LOCF)"
   ]
  },
  {
   "cell_type": "code",
   "execution_count": 39,
   "metadata": {},
   "outputs": [
    {
     "name": "stdout",
     "output_type": "stream",
     "text": [
      "LOCF forecast MSE: 495769.72430543805\n"
     ]
    }
   ],
   "source": [
    "# LOCF baseline-model for costs (Forecast) based on £\n",
    "# Approach: We are taking the last two instances\n",
    "\n",
    "# Creating the predicted values based on the LOCF-method\n",
    "df['forecast_pred'] = df['yearly_forecast'].shift(1)\n",
    "\n",
    "# There is no previous value for the first entry, so the predicted value remains NaN\n",
    "# The model ignores the first entry as it has no previous point\n",
    "\n",
    "# Calculating the errors for the baseline model\n",
    "mse_forecast = mean_squared_error(df['yearly_forecast'].iloc[1:], df['forecast_pred'].iloc[1:])\n",
    "\n",
    "print(f\"LOCF forecast MSE: {mse_forecast}\")\n"
   ]
  },
  {
   "cell_type": "code",
   "execution_count": 47,
   "metadata": {},
   "outputs": [
    {
     "name": "stdout",
     "output_type": "stream",
     "text": [
      "LOCF forecast MSE: 1084528.7616024816\n"
     ]
    }
   ],
   "source": [
    "# LOCF baseline-model for costs (Forecast) based on %\n",
    "# Approach: We are taking the last two instances\n",
    "\n",
    "# Creating the predicted values based on the LOCF-method\n",
    "df['forecast_pred_percentage'] = df['forecast_variance_prev_year'].shift(1)\n",
    "\n",
    "# There is no previous value for the first entry, so the predicted value remains NaN\n",
    "# The model ignores the first entry as it has no previous point\n",
    "\n",
    "df['forecast_pred_percentage'].fillna(0, inplace=True)\n",
    "df.replace([np.inf, -np.inf], np.nan, inplace=True)\n",
    "df.fillna(0, inplace=True)\n",
    "\n",
    "# Calculating the errors for the baseline model\n",
    "mse_forecast = mean_squared_error(df['forecast_variance_prev_year'].iloc[1:], df['forecast_pred_percentage'].iloc[1:])\n",
    "\n",
    "print(f\"LOCF forecast MSE: {mse_forecast}\")"
   ]
  },
  {
   "cell_type": "markdown",
   "metadata": {},
   "source": [
    "### 3.2 Calculating Forecast based on Variance Percentage Trend"
   ]
  },
  {
   "cell_type": "code",
   "execution_count": 48,
   "metadata": {},
   "outputs": [],
   "source": [
    "# Calculate the last known forecast value and the trend of the percentage change\n",
    "last_forecast = df.groupby('project_name').last()['yearly_forecast']\n",
    "last_percentage_change = df.groupby('project_name').last()['forecast_percentage_change_prev_year_filled']\n",
    "\n",
    "# Calculating forecast for 2024\n",
    "predicted_forecast_2024 = last_forecast * (1 + last_percentage_change / 100)\n",
    "\n",
    "# Creating new DataFrame including 2024 data\n",
    "df_2024 = pd.DataFrame({\n",
    "    'project_name': last_forecast.index,\n",
    "    'year': 2024,\n",
    "    'predicted_forecast': predicted_forecast_2024\n",
    "})"
   ]
  },
  {
   "cell_type": "markdown",
   "metadata": {},
   "source": [
    "### 3.3 Mean/Median Predictor"
   ]
  },
  {
   "cell_type": "code",
   "execution_count": 49,
   "metadata": {},
   "outputs": [
    {
     "name": "stdout",
     "output_type": "stream",
     "text": [
      "                                          project_name  year   \n",
      "0                      10,000 Additional Prison Places  2024  \\\n",
      "1    10,000 Additional Prison Places Programme - Es...  2024   \n",
      "2    10K Additional Prison Places Estate Expansion ...  2024   \n",
      "3    10K additional Prison places Women's Estate Ex...  2024   \n",
      "4             10k Additional Prison Places - New Build  2024   \n",
      "..                                                 ...   ...   \n",
      "335                Workplace and Facilities Management  2024   \n",
      "336                    YOI Education Services Retender  2024   \n",
      "337                     YOUTH JUSTICE REFORM PROGRAMME  2024   \n",
      "338                              Youth Investment Fund  2024   \n",
      "339                     Youth Justice Reform Programme  2024   \n",
      "\n",
      "     predicted_forecast_mean  predicted_forecast_median  \n",
      "0                  80.923483                        0.0  \n",
      "1                  80.923483                        0.0  \n",
      "2                  80.923483                        0.0  \n",
      "3                  80.923483                        0.0  \n",
      "4                  80.923483                        0.0  \n",
      "..                       ...                        ...  \n",
      "335                80.923483                        0.0  \n",
      "336                80.923483                        0.0  \n",
      "337                80.923483                        0.0  \n",
      "338                80.923483                        0.0  \n",
      "339                80.923483                        0.0  \n",
      "\n",
      "[340 rows x 4 columns]\n"
     ]
    }
   ],
   "source": [
    "# Calculating mean of 'forecast_variance_prev_year'\n",
    "mean_forecast = df['forecast_variance_prev_year'].mean()\n",
    "\n",
    "# Berechne den Median der Spalte 'yearly_forecast'\n",
    "median_forecast = df['forecast_variance_prev_year'].median()\n",
    "\n",
    "# Erstelle Vorhersagen für ein neues Jahr (z.B. 2024) basierend auf dem Mean und Median\n",
    "df['mean_forecast_prediction'] = mean_forecast\n",
    "df['median_forecast_prediction'] = median_forecast\n",
    "\n",
    "# Optional: Ergebnisse für das nächste Jahr in einem neuen DataFrame\n",
    "df_2024_1 = pd.DataFrame({\n",
    "    'project_name': df['project_name'].unique(),\n",
    "    'year': 2024,\n",
    "    'predicted_forecast_mean': mean_forecast,\n",
    "    'predicted_forecast_median': median_forecast\n",
    "})\n",
    "\n",
    "# Ergebnisse anzeigen\n",
    "print(df_2024_1)"
   ]
  },
  {
   "cell_type": "code",
   "execution_count": null,
   "metadata": {},
   "outputs": [],
   "source": [
    "# Define train and test data\n",
    "y_train = \n",
    "y_test = \n",
    "\n",
    "# Mean Predictor\n",
    "mean_pred = np.mean(y_train)\n",
    "y_pred_mean = np.full(y_test.shape, mean_pred)\n",
    "\n",
    "# Median Predictor (optional)\n",
    "median_pred = np.median(y_train)\n",
    "y_pred_median = np.full(y_test.shape, median_pred)\n",
    "\n",
    "# Berechnung der Fehlermetrik (z.B. Mean Squared Error)\n",
    "mse_mean = mean_squared_error(y_test, y_pred_mean)\n",
    "mse_median = mean_squared_error(y_test, y_pred_median)\n",
    "\n",
    "print(f\"Mean Predictor MSE: {mse_mean}\")\n",
    "print(f\"Median Predictor MSE: {mse_median}\")"
   ]
  }
 ],
 "metadata": {
  "kernelspec": {
   "display_name": ".venv",
   "language": "python",
   "name": "python3"
  },
  "language_info": {
   "codemirror_mode": {
    "name": "ipython",
    "version": 3
   },
   "file_extension": ".py",
   "mimetype": "text/x-python",
   "name": "python",
   "nbconvert_exporter": "python",
   "pygments_lexer": "ipython3",
   "version": "3.11.3"
  }
 },
 "nbformat": 4,
 "nbformat_minor": 2
}
