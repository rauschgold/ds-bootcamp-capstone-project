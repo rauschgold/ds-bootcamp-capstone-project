{
 "cells": [
  {
   "cell_type": "markdown",
   "metadata": {},
   "source": [
    "In this notebook, we aim to generate more data using `faker` (`pip install faker`) and use it for testing our model. \n",
    "\n",
    "we use the final dataset `final_wo_errors`\n",
    "\n",
    " **Everytime we run this notebook , a new csv file with new data will be saved and override the old data. This means team members will generate different data when working separately**"
   ]
  },
  {
   "cell_type": "code",
   "execution_count": 1,
   "metadata": {},
   "outputs": [],
   "source": [
    "import numpy as np\n",
    "import pandas as pd\n",
    "from faker import Faker\n",
    "from faker.providers import BaseProvider\n",
    "import random"
   ]
  },
  {
   "cell_type": "markdown",
   "metadata": {},
   "source": [
    "## 00. Preparing the data frame for faker "
   ]
  },
  {
   "cell_type": "code",
   "execution_count": 2,
   "metadata": {},
   "outputs": [
    {
     "data": {
      "text/plain": [
       "Index(['project_name', 'description_aims', 'rating_comment', 'start_date',\n",
       "       'end_date', 'schedule_comment', 'yearly_budget', 'yearly_forecast',\n",
       "       'wlc_baseline_incl_NCG', 'variance_comment', 'budget_comment', 'year',\n",
       "       'report_category', 'project_number', 'total_benefits',\n",
       "       'benefits_comment', 'department_CO', 'department_CPS', 'department_DBT',\n",
       "       'department_DCMS', 'department_DEFRA', 'department_DEFRA & DFT',\n",
       "       'department_DESNZ', 'department_DFE', 'department_DFID',\n",
       "       'department_DFT', 'department_DHSC', 'department_DLUHC',\n",
       "       'department_DSIT', 'department_DWP', 'department_FCDO',\n",
       "       'department_HMLR', 'department_HMRC', 'department_HMT', 'department_HO',\n",
       "       'department_MOD', 'department_MOJ', 'department_NCA', 'department_NS&I',\n",
       "       'department_ONS', 'department_VOA', 'colour_rating_amber/green',\n",
       "       'colour_rating_amber/red', 'colour_rating_green', 'colour_rating_red',\n",
       "       'colour_rating_reset', 'year_duration', 'start_year', 'end_year', 'GDP',\n",
       "       'annual_earning_ft', 'unemployment_rate', 'youth_unemployment_rate',\n",
       "       'inflation_rate', 'population', 'gov_debt', 'tax_revenue',\n",
       "       'revenue_excl_grants', 'grants_and_other_revenue'],\n",
       "      dtype='object')"
      ]
     },
     "execution_count": 2,
     "metadata": {},
     "output_type": "execute_result"
    }
   ],
   "source": [
    "df_original = pd.read_pickle('../data/pickle/final_wo_errors.pkl')\n",
    "df_original.shape\n",
    "df_original.columns"
   ]
  },
  {
   "cell_type": "code",
   "execution_count": 3,
   "metadata": {},
   "outputs": [],
   "source": [
    "# Load the data\n",
    "df = pd.read_pickle('../data/pickle/final_wo_errors.pkl')"
   ]
  },
  {
   "cell_type": "code",
   "execution_count": 4,
   "metadata": {},
   "outputs": [
    {
     "name": "stdout",
     "output_type": "stream",
     "text": [
      "(1728, 59)\n"
     ]
    },
    {
     "data": {
      "text/plain": [
       "Index(['project_name', 'description_aims', 'rating_comment', 'start_date',\n",
       "       'end_date', 'schedule_comment', 'yearly_budget', 'yearly_forecast',\n",
       "       'wlc_baseline_incl_NCG', 'variance_comment', 'budget_comment', 'year',\n",
       "       'report_category', 'project_number', 'total_benefits',\n",
       "       'benefits_comment', 'department_CO', 'department_CPS', 'department_DBT',\n",
       "       'department_DCMS', 'department_DEFRA', 'department_DEFRA & DFT',\n",
       "       'department_DESNZ', 'department_DFE', 'department_DFID',\n",
       "       'department_DFT', 'department_DHSC', 'department_DLUHC',\n",
       "       'department_DSIT', 'department_DWP', 'department_FCDO',\n",
       "       'department_HMLR', 'department_HMRC', 'department_HMT', 'department_HO',\n",
       "       'department_MOD', 'department_MOJ', 'department_NCA', 'department_NS&I',\n",
       "       'department_ONS', 'department_VOA', 'colour_rating_amber/green',\n",
       "       'colour_rating_amber/red', 'colour_rating_green', 'colour_rating_red',\n",
       "       'colour_rating_reset', 'year_duration', 'start_year', 'end_year', 'GDP',\n",
       "       'annual_earning_ft', 'unemployment_rate', 'youth_unemployment_rate',\n",
       "       'inflation_rate', 'population', 'gov_debt', 'tax_revenue',\n",
       "       'revenue_excl_grants', 'grants_and_other_revenue'],\n",
       "      dtype='object')"
      ]
     },
     "execution_count": 4,
     "metadata": {},
     "output_type": "execute_result"
    }
   ],
   "source": [
    "print(df.shape)\n",
    "df.columns"
   ]
  },
  {
   "cell_type": "markdown",
   "metadata": {},
   "source": [
    "### Back to the basic data frame"
   ]
  },
  {
   "cell_type": "markdown",
   "metadata": {},
   "source": [
    "Remove Dummies"
   ]
  },
  {
   "cell_type": "markdown",
   "metadata": {},
   "source": [
    " Note that our dataset contains categorical features (dummies features) for the department and color rating features. To avoid any mismatch with faker generated data, or ending up with extra columns when merging. It is safer and cleaner to generate the raw categorical data first with Faker, then apply get_dummies afterward. This way, you ensure that the one-hot encoding step is consistent across your entire dataset, including both real and fake data.\n",
    "\n",
    " "
   ]
  },
  {
   "cell_type": "code",
   "execution_count": 5,
   "metadata": {},
   "outputs": [],
   "source": [
    "# Remove get dummies for the department  columns \n",
    "\n",
    "# Identify the prefix of the dummy columns (in this case, 'department_')\n",
    "prefix = 'department_' \n",
    "\n",
    "# Select dummy columns\n",
    "dummy_columns = [col for col in df.columns if col.startswith(prefix)]\n",
    "\n",
    "# Reconstruct the original categorical column\n",
    "df['department'] = df[dummy_columns].idxmax(axis=1).str.replace(prefix, '')\n",
    "\n",
    "# Drop the dummy columns\n",
    "df= df.drop(columns=dummy_columns)\n",
    "\n",
    "# Display the reconstructed DataFrame\n",
    "#print(df.columns)"
   ]
  },
  {
   "cell_type": "code",
   "execution_count": 6,
   "metadata": {},
   "outputs": [],
   "source": [
    "# Remove get dummies for the colour rating columns \n",
    "\n",
    "# Identify the prefix of the dummy columns (in this case, 'department_')\n",
    "prefix_02 = 'colour_rating_' \n",
    "\n",
    "# Select dummy columns\n",
    "dummy_columns_02 = [col for col in df.columns if col.startswith(prefix_02)]\n",
    "\n",
    "# Reconstruct the original categorical column\n",
    "df['colour_rating_'] = df[dummy_columns_02].idxmax(axis=1).str.replace(prefix_02, '')\n",
    "\n",
    "# Drop the dummy columns\n",
    "df = df.drop(columns=dummy_columns_02)\n",
    "\n",
    "# Display the reconstructed DataFrame\n",
    "#print(df.columns)\n",
    "#print(df.shape)"
   ]
  },
  {
   "cell_type": "markdown",
   "metadata": {},
   "source": [
    "Remove the macro data "
   ]
  },
  {
   "cell_type": "code",
   "execution_count": 7,
   "metadata": {},
   "outputs": [],
   "source": [
    "df_no_macro = df.drop(columns=['GDP', 'annual_earning_ft', 'unemployment_rate', 'youth_unemployment_rate', 'inflation_rate', 'population', 'gov_debt', 'tax_revenue', 'revenue_excl_grants', 'grants_and_other_revenue'])\n",
    "#print(df_no_macro.shape)\n",
    "#print(df_no_macro.columns)"
   ]
  },
  {
   "cell_type": "code",
   "execution_count": 8,
   "metadata": {},
   "outputs": [],
   "source": [
    "df_macro = df[['GDP', 'annual_earning_ft', 'unemployment_rate', 'youth_unemployment_rate', 'inflation_rate', 'population', 'gov_debt', 'tax_revenue', 'revenue_excl_grants', 'grants_and_other_revenue','year']]"
   ]
  },
  {
   "cell_type": "code",
   "execution_count": 9,
   "metadata": {},
   "outputs": [
    {
     "name": "stdout",
     "output_type": "stream",
     "text": [
      "(1728, 10)\n"
     ]
    },
    {
     "data": {
      "text/html": [
       "<div>\n",
       "<style scoped>\n",
       "    .dataframe tbody tr th:only-of-type {\n",
       "        vertical-align: middle;\n",
       "    }\n",
       "\n",
       "    .dataframe tbody tr th {\n",
       "        vertical-align: top;\n",
       "    }\n",
       "\n",
       "    .dataframe thead th {\n",
       "        text-align: right;\n",
       "    }\n",
       "</style>\n",
       "<table border=\"1\" class=\"dataframe\">\n",
       "  <thead>\n",
       "    <tr style=\"text-align: right;\">\n",
       "      <th></th>\n",
       "      <th>start_date</th>\n",
       "      <th>end_date</th>\n",
       "      <th>yearly_budget</th>\n",
       "      <th>yearly_forecast</th>\n",
       "      <th>wlc_baseline_incl_NCG</th>\n",
       "      <th>year</th>\n",
       "      <th>year_duration</th>\n",
       "      <th>total_benefits</th>\n",
       "      <th>start_year</th>\n",
       "      <th>end_year</th>\n",
       "    </tr>\n",
       "  </thead>\n",
       "  <tbody>\n",
       "    <tr>\n",
       "      <th>count</th>\n",
       "      <td>1581</td>\n",
       "      <td>1617</td>\n",
       "      <td>1590.000000</td>\n",
       "      <td>1592.000000</td>\n",
       "      <td>1522.000000</td>\n",
       "      <td>1727.000000</td>\n",
       "      <td>1501.000000</td>\n",
       "      <td>343.000000</td>\n",
       "      <td>1581.000000</td>\n",
       "      <td>1617.000000</td>\n",
       "    </tr>\n",
       "    <tr>\n",
       "      <th>mean</th>\n",
       "      <td>2013-06-27 19:25:50.664136704</td>\n",
       "      <td>2023-02-05 22:43:24.823747584</td>\n",
       "      <td>187.029507</td>\n",
       "      <td>173.421805</td>\n",
       "      <td>2431.478031</td>\n",
       "      <td>2018.756225</td>\n",
       "      <td>9.454024</td>\n",
       "      <td>7535.583294</td>\n",
       "      <td>2013.065149</td>\n",
       "      <td>2022.572665</td>\n",
       "    </tr>\n",
       "    <tr>\n",
       "      <th>min</th>\n",
       "      <td>1987-11-06 00:00:00</td>\n",
       "      <td>2011-10-18 00:00:00</td>\n",
       "      <td>0.000000</td>\n",
       "      <td>0.000000</td>\n",
       "      <td>0.000000</td>\n",
       "      <td>2014.000000</td>\n",
       "      <td>-0.080000</td>\n",
       "      <td>5.000000</td>\n",
       "      <td>1987.000000</td>\n",
       "      <td>2011.000000</td>\n",
       "    </tr>\n",
       "    <tr>\n",
       "      <th>25%</th>\n",
       "      <td>2011-02-28 00:00:00</td>\n",
       "      <td>2018-03-31 00:00:00</td>\n",
       "      <td>12.512500</td>\n",
       "      <td>11.042500</td>\n",
       "      <td>105.537500</td>\n",
       "      <td>2016.000000</td>\n",
       "      <td>4.360000</td>\n",
       "      <td>402.000000</td>\n",
       "      <td>2011.000000</td>\n",
       "      <td>2018.000000</td>\n",
       "    </tr>\n",
       "    <tr>\n",
       "      <th>50%</th>\n",
       "      <td>2013-07-07 00:00:00</td>\n",
       "      <td>2022-05-31 00:00:00</td>\n",
       "      <td>45.135000</td>\n",
       "      <td>39.572938</td>\n",
       "      <td>379.835000</td>\n",
       "      <td>2019.000000</td>\n",
       "      <td>6.930000</td>\n",
       "      <td>2202.000000</td>\n",
       "      <td>2013.000000</td>\n",
       "      <td>2022.000000</td>\n",
       "    </tr>\n",
       "    <tr>\n",
       "      <th>75%</th>\n",
       "      <td>2016-09-01 00:00:00</td>\n",
       "      <td>2025-04-30 00:00:00</td>\n",
       "      <td>152.525000</td>\n",
       "      <td>132.247500</td>\n",
       "      <td>1499.615000</td>\n",
       "      <td>2022.000000</td>\n",
       "      <td>12.070000</td>\n",
       "      <td>6418.000000</td>\n",
       "      <td>2016.000000</td>\n",
       "      <td>2025.000000</td>\n",
       "    </tr>\n",
       "    <tr>\n",
       "      <th>max</th>\n",
       "      <td>2023-02-20 00:00:00</td>\n",
       "      <td>2075-12-31 00:00:00</td>\n",
       "      <td>12445.000000</td>\n",
       "      <td>11988.150000</td>\n",
       "      <td>55700.000000</td>\n",
       "      <td>2023.000000</td>\n",
       "      <td>67.500000</td>\n",
       "      <td>70638.000000</td>\n",
       "      <td>2023.000000</td>\n",
       "      <td>2075.000000</td>\n",
       "    </tr>\n",
       "    <tr>\n",
       "      <th>std</th>\n",
       "      <td>NaN</td>\n",
       "      <td>NaN</td>\n",
       "      <td>551.113927</td>\n",
       "      <td>524.737498</td>\n",
       "      <td>6000.761737</td>\n",
       "      <td>3.115428</td>\n",
       "      <td>7.842324</td>\n",
       "      <td>14184.648917</td>\n",
       "      <td>4.965469</td>\n",
       "      <td>7.037018</td>\n",
       "    </tr>\n",
       "  </tbody>\n",
       "</table>\n",
       "</div>"
      ],
      "text/plain": [
       "                          start_date                       end_date   \n",
       "count                           1581                           1617  \\\n",
       "mean   2013-06-27 19:25:50.664136704  2023-02-05 22:43:24.823747584   \n",
       "min              1987-11-06 00:00:00            2011-10-18 00:00:00   \n",
       "25%              2011-02-28 00:00:00            2018-03-31 00:00:00   \n",
       "50%              2013-07-07 00:00:00            2022-05-31 00:00:00   \n",
       "75%              2016-09-01 00:00:00            2025-04-30 00:00:00   \n",
       "max              2023-02-20 00:00:00            2075-12-31 00:00:00   \n",
       "std                              NaN                            NaN   \n",
       "\n",
       "       yearly_budget  yearly_forecast  wlc_baseline_incl_NCG         year   \n",
       "count    1590.000000      1592.000000            1522.000000  1727.000000  \\\n",
       "mean      187.029507       173.421805            2431.478031  2018.756225   \n",
       "min         0.000000         0.000000               0.000000  2014.000000   \n",
       "25%        12.512500        11.042500             105.537500  2016.000000   \n",
       "50%        45.135000        39.572938             379.835000  2019.000000   \n",
       "75%       152.525000       132.247500            1499.615000  2022.000000   \n",
       "max     12445.000000     11988.150000           55700.000000  2023.000000   \n",
       "std       551.113927       524.737498            6000.761737     3.115428   \n",
       "\n",
       "       year_duration  total_benefits   start_year     end_year  \n",
       "count    1501.000000      343.000000  1581.000000  1617.000000  \n",
       "mean        9.454024     7535.583294  2013.065149  2022.572665  \n",
       "min        -0.080000        5.000000  1987.000000  2011.000000  \n",
       "25%         4.360000      402.000000  2011.000000  2018.000000  \n",
       "50%         6.930000     2202.000000  2013.000000  2022.000000  \n",
       "75%        12.070000     6418.000000  2016.000000  2025.000000  \n",
       "max        67.500000    70638.000000  2023.000000  2075.000000  \n",
       "std         7.842324    14184.648917     4.965469     7.037018  "
      ]
     },
     "execution_count": 9,
     "metadata": {},
     "output_type": "execute_result"
    }
   ],
   "source": [
    "df_float_feat = df_no_macro[['start_date','end_date','yearly_budget', 'yearly_forecast', 'wlc_baseline_incl_NCG', 'year','year_duration','total_benefits', 'start_year', 'end_year']]\n",
    "print(df_float_feat.shape)\n",
    "df_float_feat.describe()"
   ]
  },
  {
   "cell_type": "code",
   "execution_count": 10,
   "metadata": {},
   "outputs": [
    {
     "data": {
      "text/plain": [
       "(1728, 9)"
      ]
     },
     "execution_count": 10,
     "metadata": {},
     "output_type": "execute_result"
    }
   ],
   "source": [
    "df_comment_feat = df_no_macro[['project_name', 'description_aims', 'rating_comment','schedule_comment','variance_comment', 'budget_comment',  'report_category', 'project_number','benefits_comment']]\n",
    "#df_comment_feat.head()\n",
    "df_comment_feat.shape # 9 features "
   ]
  },
  {
   "cell_type": "markdown",
   "metadata": {},
   "source": [
    "## 1. Faker: defining customized fake features  \n"
   ]
  },
  {
   "cell_type": "markdown",
   "metadata": {},
   "source": [
    "Float/Money features "
   ]
  },
  {
   "cell_type": "code",
   "execution_count": 11,
   "metadata": {},
   "outputs": [],
   "source": [
    "class CustomFinancialProvider(BaseProvider):\n",
    "    def yearly_budget(self):\n",
    "        # Generate a random yearly budget in millions\n",
    "        return round(random.uniform(1, 50), 2)  # Between 1 and 50 million\n",
    "\n",
    "    def yearly_forecast(self):\n",
    "        # Generate a random yearly forecast, similar to yearly budget but with slight variance\n",
    "        return round(random.uniform(0.8, 1.2) * self.yearly_budget(), 2)\n",
    "\n",
    "    def whole_life_cost(self, yearly_budget, duration):\n",
    "        # Whole life cost is roughly yearly budget * duration (years)\n",
    "        return round(yearly_budget * duration, 2)\n",
    "\n",
    "    def total_benefits(self):\n",
    "        # Either returns zero or a random benefit amount\n",
    "        if random.random() < 0.3:  # 30% chance of no monetized benefits\n",
    "            return 0\n",
    "        else:\n",
    "            return round(random.uniform(0.5, 100), 2)  # Random benefit between 0.5 and 100 million\n"
   ]
  },
  {
   "cell_type": "markdown",
   "metadata": {},
   "source": [
    "Categorical features "
   ]
  },
  {
   "cell_type": "code",
   "execution_count": 12,
   "metadata": {},
   "outputs": [],
   "source": [
    "# Define a custom provider class\n",
    "class CustomProjectProvider(BaseProvider):\n",
    "    def department(self):\n",
    "        # Define custom project categories\n",
    "        return self.random_element(['CO', 'DBT', 'DCMS', 'DEFRA', 'DESNZ', 'DFE', 'DFT', 'DHSC',\n",
    "       'DLUHC', 'DSIT', 'DWP', 'FCDO', 'HMLR', 'HMRC', 'HMT', 'HO', 'MOD',\n",
    "       'MOJ', 'NCA', 'ONS', 'VOA', 'DEFRA & DFT', 'DFID', 'NS&I', 'CPS'])\n",
    "    "
   ]
  },
  {
   "cell_type": "code",
   "execution_count": 13,
   "metadata": {},
   "outputs": [],
   "source": [
    "class CustomRatingProvider(BaseProvider):\n",
    "    def colour_rating_(self, yearly_budget, yearly_forecast):\n",
    "        # Assign rating based on the comparison between budget and forecast\n",
    "        if yearly_budget <= yearly_forecast:\n",
    "            return 'green'\n",
    "        elif yearly_budget <= 1.1 * yearly_forecast:\n",
    "            return 'amber/green'\n",
    "        elif yearly_budget <= 1.3 * yearly_forecast:\n",
    "            return 'amber/red'\n",
    "        else:\n",
    "            return 'red'\n"
   ]
  },
  {
   "cell_type": "markdown",
   "metadata": {},
   "source": [
    "Dates features\n"
   ]
  },
  {
   "cell_type": "code",
   "execution_count": 14,
   "metadata": {},
   "outputs": [],
   "source": [
    "class CustomDateProvider(BaseProvider):\n",
    "    def start_date(self):\n",
    "        # Generates a start date within a 10-year range\n",
    "        return fake.date_between(start_date='-10y', end_date='-1y')\n",
    "\n",
    "    def end_date(self, start_date):\n",
    "        # Generates an end date that's after the start date\n",
    "        return fake.date_between(start_date=start_date, end_date='+10y')\n",
    "\n",
    "    def year_from_date(self, date):\n",
    "        # Extracts the year from a date\n",
    "        return date.year\n",
    "\n",
    "    def duration_years(self, start_date, end_date):\n",
    "        # Calculates the duration in years between two dates\n",
    "        return end_date.year - start_date.year"
   ]
  },
  {
   "cell_type": "markdown",
   "metadata": {},
   "source": [
    "Text features :"
   ]
  },
  {
   "cell_type": "code",
   "execution_count": 15,
   "metadata": {},
   "outputs": [],
   "source": [
    "class CustomTextProvider(BaseProvider):\n",
    "    def project_name(self):\n",
    "        # Generates a comment as a sentence\n",
    "        return fake.sentence()\n",
    "    \n",
    "    def description_aims(self):\n",
    "        # Generates a project description as a short paragraph\n",
    "        return fake.paragraph(nb_sentences=3)\n",
    "      \n",
    "    def rating_comment(self):\n",
    "        # Generates a comment as a sentence\n",
    "        return fake.sentence()\n",
    "    \n",
    "    def schedule_comment(self):\n",
    "        # Generates a comment as a sentence\n",
    "        return fake.sentence()\n",
    "\n",
    "    def variance_comment(self):\n",
    "        # Generates a comment as a sentence\n",
    "        return fake.sentence()\n",
    "    \n",
    "    def budget_comment(self):\n",
    "        # Generates a comment as a sentence\n",
    "        return fake.sentence()\n",
    " \n",
    "    def report_category(self):\n",
    "        # Generates a project description as a short paragraph\n",
    "        return fake.paragraph(nb_sentences=3)\n",
    "\n",
    "    def project_number(self):\n",
    "        # Generates a comment as a sentence\n",
    "        return fake.sentence()\n",
    "    \n",
    "    def benefits_comment(self):\n",
    "        # Generates a comment as a sentence\n",
    "        return fake.sentence()"
   ]
  },
  {
   "cell_type": "markdown",
   "metadata": {},
   "source": [
    "## 2. Custom provider \n",
    "\n"
   ]
  },
  {
   "cell_type": "markdown",
   "metadata": {},
   "source": [
    "custom provider to the Faker instance to start using it:"
   ]
  },
  {
   "cell_type": "code",
   "execution_count": 16,
   "metadata": {},
   "outputs": [],
   "source": [
    "# Initialize Faker\n",
    "fake = Faker()\n",
    "\n",
    "# Add the custom provider\n",
    "fake.add_provider(CustomProjectProvider)\n",
    "fake.add_provider(CustomFinancialProvider)\n",
    "fake.add_provider(CustomDateProvider)\n",
    "fake.add_provider(CustomTextProvider)\n",
    "fake.add_provider(CustomRatingProvider)\n",
    "\n",
    "\n",
    "#fake.add_provider(CustomEconomicProvider) this could be useful for the gpd or unemployment "
   ]
  },
  {
   "cell_type": "markdown",
   "metadata": {},
   "source": [
    "## 3. Generating the customized fake features  \n",
    " "
   ]
  },
  {
   "cell_type": "code",
   "execution_count": 17,
   "metadata": {},
   "outputs": [],
   "source": [
    "# Number of rows to generate\n",
    "num_rows = 1728  \n",
    "\n",
    "data = []\n",
    "for _ in range(num_rows):\n",
    "    start_date = fake.start_date()\n",
    "    end_date = fake.end_date(start_date=start_date)\n",
    "    duration = fake.duration_years(start_date, end_date)\n",
    "    yearly_budget = fake.yearly_budget()\n",
    "    yearly_forecast = fake.yearly_forecast()\n",
    "    whole_life_cost = fake.whole_life_cost(yearly_budget, duration)\n",
    "    total_benefits = fake.total_benefits()\n",
    "    colour_rating_ = fake. colour_rating_(yearly_budget, yearly_forecast)\n",
    "    \n",
    "    # Append the data\n",
    "    data.append({\n",
    "        'start_date': start_date,\n",
    "        'end_date': end_date,\n",
    "        'start_year': fake.year_from_date(start_date),\n",
    "        'end_year': fake.year_from_date(end_date),\n",
    "        'year_duration': duration, #5\n",
    "        \n",
    "        'yearly_budget': yearly_budget,\n",
    "        'yearly_forecast': yearly_forecast,\n",
    "        'wlc_baseline_incl_NCG': whole_life_cost,\n",
    "        'total_benefits': total_benefits, #4\n",
    "\n",
    "        'colour_rating': colour_rating_, \n",
    "        'department': fake.department(),# 2\n",
    "        \n",
    "        'project_name': fake.project_name(),\n",
    "        'description_aims': fake.description_aims(),\n",
    "        'rating_comment': fake.rating_comment(),\n",
    "        'schedule_comment': fake.schedule_comment(),\n",
    "        'variance_comment': fake.variance_comment(),\n",
    "        'budget_comment': fake.budget_comment(),\n",
    "        'report_category': fake.report_category(),\n",
    "        'project_number': fake.project_number(),\n",
    "        'benefits_comment': fake.benefits_comment()    #9  \n",
    "    \n",
    "        \n",
    "    })\n",
    "\n",
    "# Convert to DataFrame\n",
    "df_with_faker = pd.DataFrame(data)\n",
    "\n"
   ]
  },
  {
   "cell_type": "code",
   "execution_count": 18,
   "metadata": {},
   "outputs": [],
   "source": [
    "#df_with_faker\n",
    "#print(df_with_faker.shape)\n",
    "#print(df_with_faker.columns)\n",
    "#df_with_faker.dtypes"
   ]
  },
  {
   "cell_type": "markdown",
   "metadata": {},
   "source": [
    "# 4. Cleaning of df_with_faker "
   ]
  },
  {
   "cell_type": "markdown",
   "metadata": {},
   "source": [
    "1. start date , end date  : should be date time \n"
   ]
  },
  {
   "cell_type": "code",
   "execution_count": 19,
   "metadata": {},
   "outputs": [],
   "source": [
    "# Convert the 'start_date' and 'end_date' columns to datetime\n",
    "df_with_faker['start_date'] = pd.to_datetime(df_with_faker['start_date'])\n",
    "df_with_faker['end_date'] = pd.to_datetime(df_with_faker['end_date'])\n"
   ]
  },
  {
   "cell_type": "markdown",
   "metadata": {},
   "source": [
    "\n",
    "2. colour rating  and department : should be categorical , then create dummies for that"
   ]
  },
  {
   "cell_type": "code",
   "execution_count": 20,
   "metadata": {},
   "outputs": [],
   "source": [
    "# List of columns you know are categorical but were not detected\n",
    "categorical_col = ['department', 'colour_rating'] \n",
    "\n",
    "# Convert these columns to category type\n",
    "for col in categorical_col:\n",
    "    df_with_faker[col] = df_with_faker[col].astype('category')\n",
    "\n",
    "# to check the type after changes \n",
    "#df_with_faker.dtypes\n",
    "\n",
    "dumm = pd.get_dummies(df_with_faker[['department','colour_rating']], drop_first=False)\n",
    "\n",
    "# Concatenate the original dataframe with the dummy variables\n",
    "df_faker_dumm = pd.concat([df_with_faker, dumm], axis=1)\n",
    "\n",
    "# Drop original categorical columns\n",
    "df_faker_dumm_01= df_faker_dumm.drop(['colour_rating', 'department'], axis=1)"
   ]
  },
  {
   "cell_type": "code",
   "execution_count": 21,
   "metadata": {},
   "outputs": [],
   "source": [
    "#print(df_faker_dumm_01.shape)\n",
    "#df_faker_dumm_01.columns"
   ]
  },
  {
   "cell_type": "markdown",
   "metadata": {},
   "source": [
    "3. text column :  better  that they all contain `fake data` str type. in case of concat wit original we can differentiate the real from the fake \n",
    "\n"
   ]
  },
  {
   "cell_type": "code",
   "execution_count": 22,
   "metadata": {},
   "outputs": [],
   "source": [
    "# List of columns you know are categorical but were not detected\n",
    "text_col = ['project_name','description_aims','rating_comment','schedule_comment','variance_comment','budget_comment','report_category','benefits_comment']  \n",
    "# Convert these columns to category type\n",
    "for col in text_col:\n",
    "    df_faker_dumm_01[col] = \"fake-generated data\""
   ]
  },
  {
   "cell_type": "markdown",
   "metadata": {},
   "source": [
    "4. project_number :shouldn't be radom text.it should be unique"
   ]
  },
  {
   "cell_type": "code",
   "execution_count": 23,
   "metadata": {},
   "outputs": [],
   "source": [
    "# Generate unique alphanumeric project IDs\n",
    "df_faker_dumm_01['project_number'] = [f\"Fake_PRJ{str(fake.unique.random_int(min=1000, max=9999))}\" for _ in range(len(df_faker_dumm_01))]"
   ]
  },
  {
   "cell_type": "code",
   "execution_count": 24,
   "metadata": {},
   "outputs": [],
   "source": [
    "#df_faker_dumm_01.head(5)"
   ]
  },
  {
   "cell_type": "markdown",
   "metadata": {},
   "source": [
    "5. Organizing the table along the `year` feature"
   ]
  },
  {
   "cell_type": "code",
   "execution_count": 25,
   "metadata": {},
   "outputs": [
    {
     "data": {
      "text/plain": [
       "start_year\n",
       "2020    208\n",
       "2019    206\n",
       "2016    204\n",
       "2017    198\n",
       "2015    196\n",
       "2018    186\n",
       "2022    179\n",
       "2021    176\n",
       "2023    122\n",
       "2014     53\n",
       "Name: count, dtype: int64"
      ]
     },
     "execution_count": 25,
     "metadata": {},
     "output_type": "execute_result"
    }
   ],
   "source": [
    "df_faker_dumm_01['start_year'].value_counts()"
   ]
  },
  {
   "cell_type": "code",
   "execution_count": 26,
   "metadata": {},
   "outputs": [],
   "source": [
    "df_faker_dumm_01['year'] = df_faker_dumm_01['start_date'].dt.year"
   ]
  },
  {
   "cell_type": "code",
   "execution_count": 27,
   "metadata": {},
   "outputs": [],
   "source": [
    "# Sort both DataFrames by 'year'\n",
    "df_faker_dumm_01 = df_faker_dumm_01.sort_values(by='year').reset_index(drop=True)"
   ]
  },
  {
   "cell_type": "markdown",
   "metadata": {},
   "source": [
    "**!!!** I saved this set of data generated with faker in a csv file . because everytime i run the notebook we have a new set of data. the data is randomly distributed throughout the years and the department etc ... "
   ]
  },
  {
   "cell_type": "code",
   "execution_count": 28,
   "metadata": {},
   "outputs": [],
   "source": [
    "df_faker_dumm_01.to_csv('fake_data_wo_macro.csv', index=False)"
   ]
  },
  {
   "cell_type": "code",
   "execution_count": 29,
   "metadata": {},
   "outputs": [],
   "source": [
    "faked = pd.read_csv('fake_data_wo_macro.csv')"
   ]
  },
  {
   "cell_type": "code",
   "execution_count": 30,
   "metadata": {},
   "outputs": [
    {
     "name": "stdout",
     "output_type": "stream",
     "text": [
      "(1728, 48)\n",
      "Index(['start_date', 'end_date', 'start_year', 'end_year', 'year_duration',\n",
      "       'yearly_budget', 'yearly_forecast', 'wlc_baseline_incl_NCG',\n",
      "       'total_benefits', 'project_name', 'description_aims', 'rating_comment',\n",
      "       'schedule_comment', 'variance_comment', 'budget_comment',\n",
      "       'report_category', 'project_number', 'benefits_comment',\n",
      "       'department_CO', 'department_CPS', 'department_DBT', 'department_DCMS',\n",
      "       'department_DEFRA', 'department_DEFRA & DFT', 'department_DESNZ',\n",
      "       'department_DFE', 'department_DFID', 'department_DFT',\n",
      "       'department_DHSC', 'department_DLUHC', 'department_DSIT',\n",
      "       'department_DWP', 'department_FCDO', 'department_HMLR',\n",
      "       'department_HMRC', 'department_HMT', 'department_HO', 'department_MOD',\n",
      "       'department_MOJ', 'department_NCA', 'department_NS&I', 'department_ONS',\n",
      "       'department_VOA', 'colour_rating_amber/green',\n",
      "       'colour_rating_amber/red', 'colour_rating_green', 'colour_rating_red',\n",
      "       'year'],\n",
      "      dtype='object')\n"
     ]
    }
   ],
   "source": [
    "print(faked.shape)\n",
    "print(faked.columns)\n",
    "\n"
   ]
  },
  {
   "cell_type": "code",
   "execution_count": 31,
   "metadata": {},
   "outputs": [
    {
     "data": {
      "text/plain": [
       "project_number\n",
       "False    1728\n",
       "Name: count, dtype: int64"
      ]
     },
     "execution_count": 31,
     "metadata": {},
     "output_type": "execute_result"
    }
   ],
   "source": [
    "faked['project_number'].duplicated().value_counts()"
   ]
  },
  {
   "cell_type": "code",
   "execution_count": 32,
   "metadata": {},
   "outputs": [],
   "source": [
    "#faked.dtypes"
   ]
  },
  {
   "cell_type": "markdown",
   "metadata": {},
   "source": [
    "`year` feature in `faked` is int, in macro and other real data is float . To unify the data frame, I changed it to int in faked data "
   ]
  },
  {
   "cell_type": "code",
   "execution_count": 33,
   "metadata": {},
   "outputs": [],
   "source": [
    "faked['year'] = faked['year'].astype(float)\n",
    "#faked.dtypes"
   ]
  },
  {
   "cell_type": "markdown",
   "metadata": {},
   "source": [
    "# 5. Merging faked with macro\n"
   ]
  },
  {
   "cell_type": "code",
   "execution_count": 34,
   "metadata": {},
   "outputs": [],
   "source": [
    "df_macro = df_macro.sort_values(by='year').reset_index(drop=True)\n",
    "#print(df_macro.shape)\n",
    "#print(df_macro.columns)\n",
    "#print(df_macro.dtypes)"
   ]
  },
  {
   "cell_type": "code",
   "execution_count": 35,
   "metadata": {},
   "outputs": [],
   "source": [
    "df_faked_macro_merged = faked.merge(df_macro, on='year', how='left')"
   ]
  },
  {
   "cell_type": "code",
   "execution_count": 36,
   "metadata": {},
   "outputs": [
    {
     "data": {
      "text/plain": [
       "(287234, 58)"
      ]
     },
     "execution_count": 36,
     "metadata": {},
     "output_type": "execute_result"
    }
   ],
   "source": [
    "df_faked_macro_merged.shape"
   ]
  },
  {
   "cell_type": "code",
   "execution_count": 37,
   "metadata": {},
   "outputs": [
    {
     "data": {
      "text/plain": [
       "project_number\n",
       "True     285506\n",
       "False      1728\n",
       "Name: count, dtype: int64"
      ]
     },
     "execution_count": 37,
     "metadata": {},
     "output_type": "execute_result"
    }
   ],
   "source": [
    "df_faked_macro_merged['project_number'].duplicated().value_counts()"
   ]
  },
  {
   "cell_type": "code",
   "execution_count": 38,
   "metadata": {},
   "outputs": [],
   "source": [
    "# Keep only the unique entries based on 'project_number'\n",
    "df_faked_macro_merged_unique = df_faked_macro_merged.drop_duplicates(subset=['project_number'], keep='first')\n"
   ]
  },
  {
   "cell_type": "code",
   "execution_count": 39,
   "metadata": {},
   "outputs": [
    {
     "data": {
      "text/plain": [
       "Index(['start_date', 'end_date', 'start_year', 'end_year', 'year_duration',\n",
       "       'yearly_budget', 'yearly_forecast', 'wlc_baseline_incl_NCG',\n",
       "       'total_benefits', 'project_name', 'description_aims', 'rating_comment',\n",
       "       'schedule_comment', 'variance_comment', 'budget_comment',\n",
       "       'report_category', 'project_number', 'benefits_comment',\n",
       "       'department_CO', 'department_CPS', 'department_DBT', 'department_DCMS',\n",
       "       'department_DEFRA', 'department_DEFRA & DFT', 'department_DESNZ',\n",
       "       'department_DFE', 'department_DFID', 'department_DFT',\n",
       "       'department_DHSC', 'department_DLUHC', 'department_DSIT',\n",
       "       'department_DWP', 'department_FCDO', 'department_HMLR',\n",
       "       'department_HMRC', 'department_HMT', 'department_HO', 'department_MOD',\n",
       "       'department_MOJ', 'department_NCA', 'department_NS&I', 'department_ONS',\n",
       "       'department_VOA', 'colour_rating_amber/green',\n",
       "       'colour_rating_amber/red', 'colour_rating_green', 'colour_rating_red',\n",
       "       'year', 'GDP', 'annual_earning_ft', 'unemployment_rate',\n",
       "       'youth_unemployment_rate', 'inflation_rate', 'population', 'gov_debt',\n",
       "       'tax_revenue', 'revenue_excl_grants', 'grants_and_other_revenue'],\n",
       "      dtype='object')"
      ]
     },
     "execution_count": 39,
     "metadata": {},
     "output_type": "execute_result"
    }
   ],
   "source": [
    "df_faked_macro_merged_unique.columns"
   ]
  },
  {
   "cell_type": "code",
   "execution_count": 40,
   "metadata": {},
   "outputs": [],
   "source": [
    "df_fake_final = df_faked_macro_merged_unique"
   ]
  },
  {
   "cell_type": "code",
   "execution_count": 41,
   "metadata": {},
   "outputs": [],
   "source": [
    "df_fake_final.to_csv('fake_final.csv', index=False)"
   ]
  },
  {
   "cell_type": "code",
   "execution_count": 42,
   "metadata": {},
   "outputs": [
    {
     "data": {
      "text/plain": [
       "(1728, 58)"
      ]
     },
     "execution_count": 42,
     "metadata": {},
     "output_type": "execute_result"
    }
   ],
   "source": [
    "df_fake_final.shape"
   ]
  },
  {
   "cell_type": "markdown",
   "metadata": {},
   "source": [
    "**!!!**  Original has one more feature! it's `'colour_rating_reset' `categorical features. \n",
    "\n",
    "\n"
   ]
  }
 ],
 "metadata": {
  "kernelspec": {
   "display_name": ".venv",
   "language": "python",
   "name": "python3"
  },
  "language_info": {
   "codemirror_mode": {
    "name": "ipython",
    "version": 3
   },
   "file_extension": ".py",
   "mimetype": "text/x-python",
   "name": "python",
   "nbconvert_exporter": "python",
   "pygments_lexer": "ipython3",
   "version": "3.11.3"
  }
 },
 "nbformat": 4,
 "nbformat_minor": 2
}
